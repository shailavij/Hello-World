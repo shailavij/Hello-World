{
 "cells": [
  {
   "cell_type": "code",
   "execution_count": 1,
   "metadata": {},
   "outputs": [
    {
     "name": "stdout",
     "output_type": "stream",
     "text": [
      "3.6.4 |Anaconda, Inc.| (default, Jan 16 2018, 10:22:32) [MSC v.1900 64 bit (AMD64)]\n",
      "0.22.0\n",
      "2.1.2\n",
      "0.8.1\n",
      "0.19.1\n"
     ]
    }
   ],
   "source": [
    "import sys \n",
    "import pandas as pd\n",
    "import matplotlib as plt\n",
    "import seaborn as sns\n",
    "import sklearn\n",
    "\n",
    "# To identify system version \n",
    "print(sys.version)\n",
    "print(pd.__version__)\n",
    "print(plt.__version__)\n",
    "print(sns.__version__)\n",
    "print(sklearn.__version__)\n"
   ]
  },
  {
   "cell_type": "markdown",
   "metadata": {},
   "source": [
    "##  Problem statement: To predict average rating of each game review in given dataset"
   ]
  },
  {
   "cell_type": "code",
   "execution_count": 2,
   "metadata": {},
   "outputs": [],
   "source": [
    "import matplotlib.pyplot as plt\n",
    "from sklearn.model_selection import train_test_split\n",
    "df1=pd.read_csv(\"C:\\\\Python\\\\ML\\\\games.csv\")"
   ]
  },
  {
   "cell_type": "code",
   "execution_count": 3,
   "metadata": {},
   "outputs": [
    {
     "name": "stdout",
     "output_type": "stream",
     "text": [
      "<class 'pandas.core.frame.DataFrame'>\n",
      "RangeIndex: 81312 entries, 0 to 81311\n",
      "Data columns (total 20 columns):\n",
      "id                      81312 non-null int64\n",
      "type                    81312 non-null object\n",
      "name                    81271 non-null object\n",
      "yearpublished           81309 non-null float64\n",
      "minplayers              81309 non-null float64\n",
      "maxplayers              81309 non-null float64\n",
      "playingtime             81309 non-null float64\n",
      "minplaytime             81309 non-null float64\n",
      "maxplaytime             81309 non-null float64\n",
      "minage                  81309 non-null float64\n",
      "users_rated             81312 non-null int64\n",
      "average_rating          81312 non-null float64\n",
      "bayes_average_rating    81312 non-null float64\n",
      "total_owners            81312 non-null int64\n",
      "total_traders           81312 non-null int64\n",
      "total_wanters           81312 non-null int64\n",
      "total_wishers           81312 non-null int64\n",
      "total_comments          81312 non-null int64\n",
      "total_weights           81312 non-null int64\n",
      "average_weight          81312 non-null float64\n",
      "dtypes: float64(10), int64(8), object(2)\n",
      "memory usage: 12.4+ MB\n"
     ]
    }
   ],
   "source": [
    "df1.info()"
   ]
  },
  {
   "cell_type": "code",
   "execution_count": 4,
   "metadata": {},
   "outputs": [
    {
     "data": {
      "text/plain": [
       "(81312, 20)"
      ]
     },
     "execution_count": 4,
     "metadata": {},
     "output_type": "execute_result"
    }
   ],
   "source": [
    "df1.shape\n"
   ]
  },
  {
   "cell_type": "code",
   "execution_count": 5,
   "metadata": {},
   "outputs": [
    {
     "data": {
      "text/html": [
       "<div>\n",
       "<style scoped>\n",
       "    .dataframe tbody tr th:only-of-type {\n",
       "        vertical-align: middle;\n",
       "    }\n",
       "\n",
       "    .dataframe tbody tr th {\n",
       "        vertical-align: top;\n",
       "    }\n",
       "\n",
       "    .dataframe thead th {\n",
       "        text-align: right;\n",
       "    }\n",
       "</style>\n",
       "<table border=\"1\" class=\"dataframe\">\n",
       "  <thead>\n",
       "    <tr style=\"text-align: right;\">\n",
       "      <th></th>\n",
       "      <th>id</th>\n",
       "      <th>yearpublished</th>\n",
       "      <th>minplayers</th>\n",
       "      <th>maxplayers</th>\n",
       "      <th>playingtime</th>\n",
       "      <th>minplaytime</th>\n",
       "      <th>maxplaytime</th>\n",
       "      <th>minage</th>\n",
       "      <th>users_rated</th>\n",
       "      <th>average_rating</th>\n",
       "      <th>bayes_average_rating</th>\n",
       "      <th>total_owners</th>\n",
       "      <th>total_traders</th>\n",
       "      <th>total_wanters</th>\n",
       "      <th>total_wishers</th>\n",
       "      <th>total_comments</th>\n",
       "      <th>total_weights</th>\n",
       "      <th>average_weight</th>\n",
       "    </tr>\n",
       "  </thead>\n",
       "  <tbody>\n",
       "    <tr>\n",
       "      <th>count</th>\n",
       "      <td>81312.000000</td>\n",
       "      <td>81309.000000</td>\n",
       "      <td>81309.000000</td>\n",
       "      <td>81309.000000</td>\n",
       "      <td>81309.000000</td>\n",
       "      <td>81309.000000</td>\n",
       "      <td>81309.000000</td>\n",
       "      <td>81309.000000</td>\n",
       "      <td>81312.000000</td>\n",
       "      <td>81312.000000</td>\n",
       "      <td>81312.000000</td>\n",
       "      <td>81312.000000</td>\n",
       "      <td>81312.000000</td>\n",
       "      <td>81312.000000</td>\n",
       "      <td>81312.000000</td>\n",
       "      <td>81312.000000</td>\n",
       "      <td>81312.000000</td>\n",
       "      <td>81312.000000</td>\n",
       "    </tr>\n",
       "    <tr>\n",
       "      <th>mean</th>\n",
       "      <td>72278.150138</td>\n",
       "      <td>1806.630668</td>\n",
       "      <td>1.992018</td>\n",
       "      <td>5.637703</td>\n",
       "      <td>51.634788</td>\n",
       "      <td>49.276833</td>\n",
       "      <td>51.634788</td>\n",
       "      <td>6.983975</td>\n",
       "      <td>161.886585</td>\n",
       "      <td>4.212144</td>\n",
       "      <td>1.157632</td>\n",
       "      <td>262.502509</td>\n",
       "      <td>9.236423</td>\n",
       "      <td>12.688890</td>\n",
       "      <td>42.719144</td>\n",
       "      <td>49.290031</td>\n",
       "      <td>16.488009</td>\n",
       "      <td>0.908083</td>\n",
       "    </tr>\n",
       "    <tr>\n",
       "      <th>std</th>\n",
       "      <td>58818.237742</td>\n",
       "      <td>588.517834</td>\n",
       "      <td>0.931034</td>\n",
       "      <td>56.076890</td>\n",
       "      <td>345.699969</td>\n",
       "      <td>334.483934</td>\n",
       "      <td>345.699969</td>\n",
       "      <td>5.035138</td>\n",
       "      <td>1145.978126</td>\n",
       "      <td>3.056551</td>\n",
       "      <td>2.340033</td>\n",
       "      <td>1504.536693</td>\n",
       "      <td>39.757408</td>\n",
       "      <td>60.764207</td>\n",
       "      <td>239.292628</td>\n",
       "      <td>284.862853</td>\n",
       "      <td>115.980285</td>\n",
       "      <td>1.176002</td>\n",
       "    </tr>\n",
       "    <tr>\n",
       "      <th>min</th>\n",
       "      <td>1.000000</td>\n",
       "      <td>-3500.000000</td>\n",
       "      <td>0.000000</td>\n",
       "      <td>0.000000</td>\n",
       "      <td>0.000000</td>\n",
       "      <td>0.000000</td>\n",
       "      <td>0.000000</td>\n",
       "      <td>0.000000</td>\n",
       "      <td>0.000000</td>\n",
       "      <td>0.000000</td>\n",
       "      <td>0.000000</td>\n",
       "      <td>0.000000</td>\n",
       "      <td>0.000000</td>\n",
       "      <td>0.000000</td>\n",
       "      <td>0.000000</td>\n",
       "      <td>0.000000</td>\n",
       "      <td>0.000000</td>\n",
       "      <td>0.000000</td>\n",
       "    </tr>\n",
       "    <tr>\n",
       "      <th>25%</th>\n",
       "      <td>21339.750000</td>\n",
       "      <td>1984.000000</td>\n",
       "      <td>2.000000</td>\n",
       "      <td>2.000000</td>\n",
       "      <td>8.000000</td>\n",
       "      <td>10.000000</td>\n",
       "      <td>8.000000</td>\n",
       "      <td>0.000000</td>\n",
       "      <td>0.000000</td>\n",
       "      <td>0.000000</td>\n",
       "      <td>0.000000</td>\n",
       "      <td>1.000000</td>\n",
       "      <td>0.000000</td>\n",
       "      <td>0.000000</td>\n",
       "      <td>0.000000</td>\n",
       "      <td>0.000000</td>\n",
       "      <td>0.000000</td>\n",
       "      <td>0.000000</td>\n",
       "    </tr>\n",
       "    <tr>\n",
       "      <th>50%</th>\n",
       "      <td>43258.000000</td>\n",
       "      <td>2003.000000</td>\n",
       "      <td>2.000000</td>\n",
       "      <td>4.000000</td>\n",
       "      <td>30.000000</td>\n",
       "      <td>30.000000</td>\n",
       "      <td>30.000000</td>\n",
       "      <td>8.000000</td>\n",
       "      <td>2.000000</td>\n",
       "      <td>5.265620</td>\n",
       "      <td>0.000000</td>\n",
       "      <td>7.000000</td>\n",
       "      <td>0.000000</td>\n",
       "      <td>0.000000</td>\n",
       "      <td>1.000000</td>\n",
       "      <td>1.000000</td>\n",
       "      <td>0.000000</td>\n",
       "      <td>0.000000</td>\n",
       "    </tr>\n",
       "    <tr>\n",
       "      <th>75%</th>\n",
       "      <td>128836.500000</td>\n",
       "      <td>2010.000000</td>\n",
       "      <td>2.000000</td>\n",
       "      <td>6.000000</td>\n",
       "      <td>60.000000</td>\n",
       "      <td>60.000000</td>\n",
       "      <td>60.000000</td>\n",
       "      <td>12.000000</td>\n",
       "      <td>16.000000</td>\n",
       "      <td>6.718777</td>\n",
       "      <td>0.000000</td>\n",
       "      <td>51.000000</td>\n",
       "      <td>2.000000</td>\n",
       "      <td>3.000000</td>\n",
       "      <td>7.000000</td>\n",
       "      <td>9.000000</td>\n",
       "      <td>2.000000</td>\n",
       "      <td>1.916700</td>\n",
       "    </tr>\n",
       "    <tr>\n",
       "      <th>max</th>\n",
       "      <td>184451.000000</td>\n",
       "      <td>2018.000000</td>\n",
       "      <td>99.000000</td>\n",
       "      <td>11299.000000</td>\n",
       "      <td>60120.000000</td>\n",
       "      <td>60120.000000</td>\n",
       "      <td>60120.000000</td>\n",
       "      <td>120.000000</td>\n",
       "      <td>53680.000000</td>\n",
       "      <td>10.000000</td>\n",
       "      <td>8.221860</td>\n",
       "      <td>73188.000000</td>\n",
       "      <td>1395.000000</td>\n",
       "      <td>1586.000000</td>\n",
       "      <td>6402.000000</td>\n",
       "      <td>11798.000000</td>\n",
       "      <td>5996.000000</td>\n",
       "      <td>5.000000</td>\n",
       "    </tr>\n",
       "  </tbody>\n",
       "</table>\n",
       "</div>"
      ],
      "text/plain": [
       "                  id  yearpublished    minplayers    maxplayers   playingtime  \\\n",
       "count   81312.000000   81309.000000  81309.000000  81309.000000  81309.000000   \n",
       "mean    72278.150138    1806.630668      1.992018      5.637703     51.634788   \n",
       "std     58818.237742     588.517834      0.931034     56.076890    345.699969   \n",
       "min         1.000000   -3500.000000      0.000000      0.000000      0.000000   \n",
       "25%     21339.750000    1984.000000      2.000000      2.000000      8.000000   \n",
       "50%     43258.000000    2003.000000      2.000000      4.000000     30.000000   \n",
       "75%    128836.500000    2010.000000      2.000000      6.000000     60.000000   \n",
       "max    184451.000000    2018.000000     99.000000  11299.000000  60120.000000   \n",
       "\n",
       "        minplaytime   maxplaytime        minage   users_rated  average_rating  \\\n",
       "count  81309.000000  81309.000000  81309.000000  81312.000000    81312.000000   \n",
       "mean      49.276833     51.634788      6.983975    161.886585        4.212144   \n",
       "std      334.483934    345.699969      5.035138   1145.978126        3.056551   \n",
       "min        0.000000      0.000000      0.000000      0.000000        0.000000   \n",
       "25%       10.000000      8.000000      0.000000      0.000000        0.000000   \n",
       "50%       30.000000     30.000000      8.000000      2.000000        5.265620   \n",
       "75%       60.000000     60.000000     12.000000     16.000000        6.718777   \n",
       "max    60120.000000  60120.000000    120.000000  53680.000000       10.000000   \n",
       "\n",
       "       bayes_average_rating  total_owners  total_traders  total_wanters  \\\n",
       "count          81312.000000  81312.000000   81312.000000   81312.000000   \n",
       "mean               1.157632    262.502509       9.236423      12.688890   \n",
       "std                2.340033   1504.536693      39.757408      60.764207   \n",
       "min                0.000000      0.000000       0.000000       0.000000   \n",
       "25%                0.000000      1.000000       0.000000       0.000000   \n",
       "50%                0.000000      7.000000       0.000000       0.000000   \n",
       "75%                0.000000     51.000000       2.000000       3.000000   \n",
       "max                8.221860  73188.000000    1395.000000    1586.000000   \n",
       "\n",
       "       total_wishers  total_comments  total_weights  average_weight  \n",
       "count   81312.000000    81312.000000   81312.000000    81312.000000  \n",
       "mean       42.719144       49.290031      16.488009        0.908083  \n",
       "std       239.292628      284.862853     115.980285        1.176002  \n",
       "min         0.000000        0.000000       0.000000        0.000000  \n",
       "25%         0.000000        0.000000       0.000000        0.000000  \n",
       "50%         1.000000        1.000000       0.000000        0.000000  \n",
       "75%         7.000000        9.000000       2.000000        1.916700  \n",
       "max      6402.000000    11798.000000    5996.000000        5.000000  "
      ]
     },
     "execution_count": 5,
     "metadata": {},
     "output_type": "execute_result"
    }
   ],
   "source": [
    "df1.describe()"
   ]
  },
  {
   "cell_type": "code",
   "execution_count": 31,
   "metadata": {},
   "outputs": [
    {
     "data": {
      "image/png": "[encoded data removed]",
      "text/plain": [
       "<matplotlib.figure.Figure at 0xccb5710>"
      ]
     },
     "metadata": {},
     "output_type": "display_data"
    }
   ],
   "source": [
    "\n",
    "# Let's plot a histogram to get the feel of type of data we are dealing with\n",
    "# We can plot histogram only for numerical attributres\n",
    "\n",
    "%matplotlib inline\n",
    "\n",
    "df1.hist(bins=50, figsize=(20,15))\n",
    "plt.show()"
   ]
  },
  {
   "cell_type": "code",
   "execution_count": 6,
   "metadata": {},
   "outputs": [
    {
     "data": {
      "image/png": "[encoded data removed]",
      "text/plain": [
       "<matplotlib.figure.Figure at 0xb01e518>"
      ]
     },
     "metadata": {},
     "output_type": "display_data"
    }
   ],
   "source": [
    "# Explore data of Aveg. rating via histogram\n",
    "\n",
    "plt.hist(df1['average_rating'])\n",
    "plt.show()"
   ]
  },
  {
   "cell_type": "code",
   "execution_count": null,
   "metadata": {},
   "outputs": [],
   "source": []
  },
  {
   "cell_type": "code",
   "execution_count": null,
   "metadata": {},
   "outputs": [],
   "source": [
    "# print the first rows of all games with zero scores\n",
    "print(df1[df1['average_rating']==0].iloc[0])"
   ]
  },
  {
   "cell_type": "code",
   "execution_count": null,
   "metadata": {},
   "outputs": [],
   "source": [
    "# print the first rows of all games with scores > zero\n",
    "print(df1[df1['average_rating']> 0].iloc[0])"
   ]
  },
  {
   "cell_type": "code",
   "execution_count": 7,
   "metadata": {},
   "outputs": [],
   "source": [
    "# Remove  any rows without user review\n",
    "df1=df1[df1['users_rated']>0]"
   ]
  },
  {
   "cell_type": "code",
   "execution_count": 8,
   "metadata": {},
   "outputs": [
    {
     "data": {
      "text/plain": [
       "(56932, 20)"
      ]
     },
     "execution_count": 8,
     "metadata": {},
     "output_type": "execute_result"
    }
   ],
   "source": [
    "df1.shape"
   ]
  },
  {
   "cell_type": "code",
   "execution_count": null,
   "metadata": {},
   "outputs": [],
   "source": [
    "df1.head()\n"
   ]
  },
  {
   "cell_type": "code",
   "execution_count": null,
   "metadata": {},
   "outputs": [],
   "source": [
    "# No. of row with missing value in minplayers dataset\n",
    "sum(df1.minplayers.isnull())\n"
   ]
  },
  {
   "cell_type": "code",
   "execution_count": 9,
   "metadata": {},
   "outputs": [],
   "source": [
    "# Remove any rows with missing values\n",
    "df1=df1.dropna(axis=0)\n"
   ]
  },
  {
   "cell_type": "code",
   "execution_count": 10,
   "metadata": {},
   "outputs": [
    {
     "data": {
      "text/plain": [
       "(56894, 20)"
      ]
     },
     "execution_count": 10,
     "metadata": {},
     "output_type": "execute_result"
    }
   ],
   "source": [
    "df1.shape"
   ]
  },
  {
   "cell_type": "code",
   "execution_count": 11,
   "metadata": {},
   "outputs": [
    {
     "data": {
      "image/png": "[encoded data removed]",
      "text/plain": [
       "<matplotlib.figure.Figure at 0xb0bae80>"
      ]
     },
     "metadata": {},
     "output_type": "display_data"
    }
   ],
   "source": [
    "# Make a histogram of all the average ratings\n",
    "plt.hist(df1[\"average_rating\"])\n",
    "plt.show()"
   ]
  },
  {
   "cell_type": "code",
   "execution_count": 12,
   "metadata": {},
   "outputs": [
    {
     "name": "stdout",
     "output_type": "stream",
     "text": [
      "Index(['id', 'type', 'name', 'yearpublished', 'minplayers', 'maxplayers',\n",
      "       'playingtime', 'minplaytime', 'maxplaytime', 'minage', 'users_rated',\n",
      "       'average_rating', 'bayes_average_rating', 'total_owners',\n",
      "       'total_traders', 'total_wanters', 'total_wishers', 'total_comments',\n",
      "       'total_weights', 'average_weight'],\n",
      "      dtype='object')\n"
     ]
    }
   ],
   "source": [
    "print(df1.columns)"
   ]
  },
  {
   "cell_type": "code",
   "execution_count": 14,
   "metadata": {},
   "outputs": [
    {
     "data": {
      "image/png": "[encoded data removed]",
      "text/plain": [
       "<matplotlib.figure.Figure at 0xb1a5f28>"
      ]
     },
     "metadata": {},
     "output_type": "display_data"
    }
   ],
   "source": [
    "# Correraltion matrix\n",
    "corr=df1.corr()\n",
    "fig= plt.Figure(figsize=(12,9))\n",
    "sns.heatmap(corr,vmax=.8,square=True)\n",
    "plt.show()"
   ]
  },
  {
   "cell_type": "code",
   "execution_count": 34,
   "metadata": {},
   "outputs": [
    {
     "data": {
      "text/html": [
       "<div>\n",
       "<style scoped>\n",
       "    .dataframe tbody tr th:only-of-type {\n",
       "        vertical-align: middle;\n",
       "    }\n",
       "\n",
       "    .dataframe tbody tr th {\n",
       "        vertical-align: top;\n",
       "    }\n",
       "\n",
       "    .dataframe thead th {\n",
       "        text-align: right;\n",
       "    }\n",
       "</style>\n",
       "<table border=\"1\" class=\"dataframe\">\n",
       "  <thead>\n",
       "    <tr style=\"text-align: right;\">\n",
       "      <th></th>\n",
       "      <th>id</th>\n",
       "      <th>yearpublished</th>\n",
       "      <th>minplayers</th>\n",
       "      <th>maxplayers</th>\n",
       "      <th>playingtime</th>\n",
       "      <th>minplaytime</th>\n",
       "      <th>maxplaytime</th>\n",
       "      <th>minage</th>\n",
       "      <th>users_rated</th>\n",
       "      <th>average_rating</th>\n",
       "      <th>bayes_average_rating</th>\n",
       "      <th>total_owners</th>\n",
       "      <th>total_traders</th>\n",
       "      <th>total_wanters</th>\n",
       "      <th>total_wishers</th>\n",
       "      <th>total_comments</th>\n",
       "      <th>total_weights</th>\n",
       "      <th>average_weight</th>\n",
       "    </tr>\n",
       "  </thead>\n",
       "  <tbody>\n",
       "    <tr>\n",
       "      <th>id</th>\n",
       "      <td>1.000000</td>\n",
       "      <td>0.002767</td>\n",
       "      <td>-0.050234</td>\n",
       "      <td>0.006141</td>\n",
       "      <td>-0.022017</td>\n",
       "      <td>-0.026729</td>\n",
       "      <td>-0.022017</td>\n",
       "      <td>0.099168</td>\n",
       "      <td>-0.057778</td>\n",
       "      <td>0.304201</td>\n",
       "      <td>-0.117172</td>\n",
       "      <td>-0.040308</td>\n",
       "      <td>-0.112069</td>\n",
       "      <td>0.017463</td>\n",
       "      <td>0.024777</td>\n",
       "      <td>-0.089659</td>\n",
       "      <td>-0.078830</td>\n",
       "      <td>-0.082301</td>\n",
       "    </tr>\n",
       "    <tr>\n",
       "      <th>yearpublished</th>\n",
       "      <td>0.002767</td>\n",
       "      <td>1.000000</td>\n",
       "      <td>0.004308</td>\n",
       "      <td>0.004977</td>\n",
       "      <td>0.006235</td>\n",
       "      <td>0.005245</td>\n",
       "      <td>0.006235</td>\n",
       "      <td>0.125281</td>\n",
       "      <td>0.037454</td>\n",
       "      <td>0.108461</td>\n",
       "      <td>0.140998</td>\n",
       "      <td>0.047740</td>\n",
       "      <td>0.064403</td>\n",
       "      <td>0.062289</td>\n",
       "      <td>0.052534</td>\n",
       "      <td>0.043818</td>\n",
       "      <td>0.036226</td>\n",
       "      <td>0.125318</td>\n",
       "    </tr>\n",
       "    <tr>\n",
       "      <th>minplayers</th>\n",
       "      <td>-0.050234</td>\n",
       "      <td>0.004308</td>\n",
       "      <td>1.000000</td>\n",
       "      <td>0.037155</td>\n",
       "      <td>0.024320</td>\n",
       "      <td>0.026569</td>\n",
       "      <td>0.024320</td>\n",
       "      <td>0.110886</td>\n",
       "      <td>0.020364</td>\n",
       "      <td>-0.032701</td>\n",
       "      <td>0.034915</td>\n",
       "      <td>0.014594</td>\n",
       "      <td>0.024708</td>\n",
       "      <td>-0.008654</td>\n",
       "      <td>-0.003786</td>\n",
       "      <td>0.023033</td>\n",
       "      <td>0.019061</td>\n",
       "      <td>-0.021892</td>\n",
       "    </tr>\n",
       "    <tr>\n",
       "      <th>maxplayers</th>\n",
       "      <td>0.006141</td>\n",
       "      <td>0.004977</td>\n",
       "      <td>0.037155</td>\n",
       "      <td>1.000000</td>\n",
       "      <td>-0.001020</td>\n",
       "      <td>-0.000950</td>\n",
       "      <td>-0.001020</td>\n",
       "      <td>0.004508</td>\n",
       "      <td>-0.000858</td>\n",
       "      <td>-0.008335</td>\n",
       "      <td>-0.003437</td>\n",
       "      <td>-0.000977</td>\n",
       "      <td>-0.002381</td>\n",
       "      <td>-0.003585</td>\n",
       "      <td>-0.002499</td>\n",
       "      <td>-0.001502</td>\n",
       "      <td>-0.001457</td>\n",
       "      <td>-0.013448</td>\n",
       "    </tr>\n",
       "    <tr>\n",
       "      <th>playingtime</th>\n",
       "      <td>-0.022017</td>\n",
       "      <td>0.006235</td>\n",
       "      <td>0.024320</td>\n",
       "      <td>-0.001020</td>\n",
       "      <td>1.000000</td>\n",
       "      <td>0.967909</td>\n",
       "      <td>1.000000</td>\n",
       "      <td>0.053471</td>\n",
       "      <td>0.010908</td>\n",
       "      <td>0.048994</td>\n",
       "      <td>0.045341</td>\n",
       "      <td>0.014532</td>\n",
       "      <td>0.019264</td>\n",
       "      <td>0.024289</td>\n",
       "      <td>0.020296</td>\n",
       "      <td>0.016890</td>\n",
       "      <td>0.017789</td>\n",
       "      <td>0.090895</td>\n",
       "    </tr>\n",
       "    <tr>\n",
       "      <th>minplaytime</th>\n",
       "      <td>-0.026729</td>\n",
       "      <td>0.005245</td>\n",
       "      <td>0.026569</td>\n",
       "      <td>-0.000950</td>\n",
       "      <td>0.967909</td>\n",
       "      <td>1.000000</td>\n",
       "      <td>0.967909</td>\n",
       "      <td>0.052454</td>\n",
       "      <td>0.005502</td>\n",
       "      <td>0.043985</td>\n",
       "      <td>0.041845</td>\n",
       "      <td>0.008975</td>\n",
       "      <td>0.014484</td>\n",
       "      <td>0.017491</td>\n",
       "      <td>0.012737</td>\n",
       "      <td>0.010046</td>\n",
       "      <td>0.010172</td>\n",
       "      <td>0.084405</td>\n",
       "    </tr>\n",
       "    <tr>\n",
       "      <th>maxplaytime</th>\n",
       "      <td>-0.022017</td>\n",
       "      <td>0.006235</td>\n",
       "      <td>0.024320</td>\n",
       "      <td>-0.001020</td>\n",
       "      <td>1.000000</td>\n",
       "      <td>0.967909</td>\n",
       "      <td>1.000000</td>\n",
       "      <td>0.053471</td>\n",
       "      <td>0.010908</td>\n",
       "      <td>0.048994</td>\n",
       "      <td>0.045341</td>\n",
       "      <td>0.014532</td>\n",
       "      <td>0.019264</td>\n",
       "      <td>0.024289</td>\n",
       "      <td>0.020296</td>\n",
       "      <td>0.016890</td>\n",
       "      <td>0.017789</td>\n",
       "      <td>0.090895</td>\n",
       "    </tr>\n",
       "    <tr>\n",
       "      <th>minage</th>\n",
       "      <td>0.099168</td>\n",
       "      <td>0.125281</td>\n",
       "      <td>0.110886</td>\n",
       "      <td>0.004508</td>\n",
       "      <td>0.053471</td>\n",
       "      <td>0.052454</td>\n",
       "      <td>0.053471</td>\n",
       "      <td>1.000000</td>\n",
       "      <td>0.097885</td>\n",
       "      <td>0.210049</td>\n",
       "      <td>0.266937</td>\n",
       "      <td>0.118564</td>\n",
       "      <td>0.152313</td>\n",
       "      <td>0.154097</td>\n",
       "      <td>0.137476</td>\n",
       "      <td>0.113395</td>\n",
       "      <td>0.097084</td>\n",
       "      <td>0.259782</td>\n",
       "    </tr>\n",
       "    <tr>\n",
       "      <th>users_rated</th>\n",
       "      <td>-0.057778</td>\n",
       "      <td>0.037454</td>\n",
       "      <td>0.020364</td>\n",
       "      <td>-0.000858</td>\n",
       "      <td>0.010908</td>\n",
       "      <td>0.005502</td>\n",
       "      <td>0.010908</td>\n",
       "      <td>0.097885</td>\n",
       "      <td>1.000000</td>\n",
       "      <td>0.112564</td>\n",
       "      <td>0.317992</td>\n",
       "      <td>0.977664</td>\n",
       "      <td>0.807873</td>\n",
       "      <td>0.702433</td>\n",
       "      <td>0.805116</td>\n",
       "      <td>0.978708</td>\n",
       "      <td>0.975723</td>\n",
       "      <td>0.150597</td>\n",
       "    </tr>\n",
       "    <tr>\n",
       "      <th>average_rating</th>\n",
       "      <td>0.304201</td>\n",
       "      <td>0.108461</td>\n",
       "      <td>-0.032701</td>\n",
       "      <td>-0.008335</td>\n",
       "      <td>0.048994</td>\n",
       "      <td>0.043985</td>\n",
       "      <td>0.048994</td>\n",
       "      <td>0.210049</td>\n",
       "      <td>0.112564</td>\n",
       "      <td>1.000000</td>\n",
       "      <td>0.231563</td>\n",
       "      <td>0.137478</td>\n",
       "      <td>0.119452</td>\n",
       "      <td>0.196566</td>\n",
       "      <td>0.171375</td>\n",
       "      <td>0.123714</td>\n",
       "      <td>0.109691</td>\n",
       "      <td>0.351081</td>\n",
       "    </tr>\n",
       "    <tr>\n",
       "      <th>bayes_average_rating</th>\n",
       "      <td>-0.117172</td>\n",
       "      <td>0.140998</td>\n",
       "      <td>0.034915</td>\n",
       "      <td>-0.003437</td>\n",
       "      <td>0.045341</td>\n",
       "      <td>0.041845</td>\n",
       "      <td>0.045341</td>\n",
       "      <td>0.266937</td>\n",
       "      <td>0.317992</td>\n",
       "      <td>0.231563</td>\n",
       "      <td>1.000000</td>\n",
       "      <td>0.371017</td>\n",
       "      <td>0.455021</td>\n",
       "      <td>0.426708</td>\n",
       "      <td>0.377213</td>\n",
       "      <td>0.371031</td>\n",
       "      <td>0.313302</td>\n",
       "      <td>0.482356</td>\n",
       "    </tr>\n",
       "    <tr>\n",
       "      <th>total_owners</th>\n",
       "      <td>-0.040308</td>\n",
       "      <td>0.047740</td>\n",
       "      <td>0.014594</td>\n",
       "      <td>-0.000977</td>\n",
       "      <td>0.014532</td>\n",
       "      <td>0.008975</td>\n",
       "      <td>0.014532</td>\n",
       "      <td>0.118564</td>\n",
       "      <td>0.977664</td>\n",
       "      <td>0.137478</td>\n",
       "      <td>0.371017</td>\n",
       "      <td>1.000000</td>\n",
       "      <td>0.829875</td>\n",
       "      <td>0.688380</td>\n",
       "      <td>0.788820</td>\n",
       "      <td>0.954026</td>\n",
       "      <td>0.938422</td>\n",
       "      <td>0.183341</td>\n",
       "    </tr>\n",
       "    <tr>\n",
       "      <th>total_traders</th>\n",
       "      <td>-0.112069</td>\n",
       "      <td>0.064403</td>\n",
       "      <td>0.024708</td>\n",
       "      <td>-0.002381</td>\n",
       "      <td>0.019264</td>\n",
       "      <td>0.014484</td>\n",
       "      <td>0.019264</td>\n",
       "      <td>0.152313</td>\n",
       "      <td>0.807873</td>\n",
       "      <td>0.119452</td>\n",
       "      <td>0.455021</td>\n",
       "      <td>0.829875</td>\n",
       "      <td>1.000000</td>\n",
       "      <td>0.555836</td>\n",
       "      <td>0.631443</td>\n",
       "      <td>0.856526</td>\n",
       "      <td>0.801559</td>\n",
       "      <td>0.227302</td>\n",
       "    </tr>\n",
       "    <tr>\n",
       "      <th>total_wanters</th>\n",
       "      <td>0.017463</td>\n",
       "      <td>0.062289</td>\n",
       "      <td>-0.008654</td>\n",
       "      <td>-0.003585</td>\n",
       "      <td>0.024289</td>\n",
       "      <td>0.017491</td>\n",
       "      <td>0.024289</td>\n",
       "      <td>0.154097</td>\n",
       "      <td>0.702433</td>\n",
       "      <td>0.196566</td>\n",
       "      <td>0.426708</td>\n",
       "      <td>0.688380</td>\n",
       "      <td>0.555836</td>\n",
       "      <td>1.000000</td>\n",
       "      <td>0.961002</td>\n",
       "      <td>0.709645</td>\n",
       "      <td>0.667608</td>\n",
       "      <td>0.254229</td>\n",
       "    </tr>\n",
       "    <tr>\n",
       "      <th>total_wishers</th>\n",
       "      <td>0.024777</td>\n",
       "      <td>0.052534</td>\n",
       "      <td>-0.003786</td>\n",
       "      <td>-0.002499</td>\n",
       "      <td>0.020296</td>\n",
       "      <td>0.012737</td>\n",
       "      <td>0.020296</td>\n",
       "      <td>0.137476</td>\n",
       "      <td>0.805116</td>\n",
       "      <td>0.171375</td>\n",
       "      <td>0.377213</td>\n",
       "      <td>0.788820</td>\n",
       "      <td>0.631443</td>\n",
       "      <td>0.961002</td>\n",
       "      <td>1.000000</td>\n",
       "      <td>0.788538</td>\n",
       "      <td>0.764677</td>\n",
       "      <td>0.219025</td>\n",
       "    </tr>\n",
       "    <tr>\n",
       "      <th>total_comments</th>\n",
       "      <td>-0.089659</td>\n",
       "      <td>0.043818</td>\n",
       "      <td>0.023033</td>\n",
       "      <td>-0.001502</td>\n",
       "      <td>0.016890</td>\n",
       "      <td>0.010046</td>\n",
       "      <td>0.016890</td>\n",
       "      <td>0.113395</td>\n",
       "      <td>0.978708</td>\n",
       "      <td>0.123714</td>\n",
       "      <td>0.371031</td>\n",
       "      <td>0.954026</td>\n",
       "      <td>0.856526</td>\n",
       "      <td>0.709645</td>\n",
       "      <td>0.788538</td>\n",
       "      <td>1.000000</td>\n",
       "      <td>0.978213</td>\n",
       "      <td>0.180939</td>\n",
       "    </tr>\n",
       "    <tr>\n",
       "      <th>total_weights</th>\n",
       "      <td>-0.078830</td>\n",
       "      <td>0.036226</td>\n",
       "      <td>0.019061</td>\n",
       "      <td>-0.001457</td>\n",
       "      <td>0.017789</td>\n",
       "      <td>0.010172</td>\n",
       "      <td>0.017789</td>\n",
       "      <td>0.097084</td>\n",
       "      <td>0.975723</td>\n",
       "      <td>0.109691</td>\n",
       "      <td>0.313302</td>\n",
       "      <td>0.938422</td>\n",
       "      <td>0.801559</td>\n",
       "      <td>0.667608</td>\n",
       "      <td>0.764677</td>\n",
       "      <td>0.978213</td>\n",
       "      <td>1.000000</td>\n",
       "      <td>0.161004</td>\n",
       "    </tr>\n",
       "    <tr>\n",
       "      <th>average_weight</th>\n",
       "      <td>-0.082301</td>\n",
       "      <td>0.125318</td>\n",
       "      <td>-0.021892</td>\n",
       "      <td>-0.013448</td>\n",
       "      <td>0.090895</td>\n",
       "      <td>0.084405</td>\n",
       "      <td>0.090895</td>\n",
       "      <td>0.259782</td>\n",
       "      <td>0.150597</td>\n",
       "      <td>0.351081</td>\n",
       "      <td>0.482356</td>\n",
       "      <td>0.183341</td>\n",
       "      <td>0.227302</td>\n",
       "      <td>0.254229</td>\n",
       "      <td>0.219025</td>\n",
       "      <td>0.180939</td>\n",
       "      <td>0.161004</td>\n",
       "      <td>1.000000</td>\n",
       "    </tr>\n",
       "  </tbody>\n",
       "</table>\n",
       "</div>"
      ],
      "text/plain": [
       "                            id  yearpublished  minplayers  maxplayers  \\\n",
       "id                    1.000000       0.002767   -0.050234    0.006141   \n",
       "yearpublished         0.002767       1.000000    0.004308    0.004977   \n",
       "minplayers           -0.050234       0.004308    1.000000    0.037155   \n",
       "maxplayers            0.006141       0.004977    0.037155    1.000000   \n",
       "playingtime          -0.022017       0.006235    0.024320   -0.001020   \n",
       "minplaytime          -0.026729       0.005245    0.026569   -0.000950   \n",
       "maxplaytime          -0.022017       0.006235    0.024320   -0.001020   \n",
       "minage                0.099168       0.125281    0.110886    0.004508   \n",
       "users_rated          -0.057778       0.037454    0.020364   -0.000858   \n",
       "average_rating        0.304201       0.108461   -0.032701   -0.008335   \n",
       "bayes_average_rating -0.117172       0.140998    0.034915   -0.003437   \n",
       "total_owners         -0.040308       0.047740    0.014594   -0.000977   \n",
       "total_traders        -0.112069       0.064403    0.024708   -0.002381   \n",
       "total_wanters         0.017463       0.062289   -0.008654   -0.003585   \n",
       "total_wishers         0.024777       0.052534   -0.003786   -0.002499   \n",
       "total_comments       -0.089659       0.043818    0.023033   -0.001502   \n",
       "total_weights        -0.078830       0.036226    0.019061   -0.001457   \n",
       "average_weight       -0.082301       0.125318   -0.021892   -0.013448   \n",
       "\n",
       "                      playingtime  minplaytime  maxplaytime    minage  \\\n",
       "id                      -0.022017    -0.026729    -0.022017  0.099168   \n",
       "yearpublished            0.006235     0.005245     0.006235  0.125281   \n",
       "minplayers               0.024320     0.026569     0.024320  0.110886   \n",
       "maxplayers              -0.001020    -0.000950    -0.001020  0.004508   \n",
       "playingtime              1.000000     0.967909     1.000000  0.053471   \n",
       "minplaytime              0.967909     1.000000     0.967909  0.052454   \n",
       "maxplaytime              1.000000     0.967909     1.000000  0.053471   \n",
       "minage                   0.053471     0.052454     0.053471  1.000000   \n",
       "users_rated              0.010908     0.005502     0.010908  0.097885   \n",
       "average_rating           0.048994     0.043985     0.048994  0.210049   \n",
       "bayes_average_rating     0.045341     0.041845     0.045341  0.266937   \n",
       "total_owners             0.014532     0.008975     0.014532  0.118564   \n",
       "total_traders            0.019264     0.014484     0.019264  0.152313   \n",
       "total_wanters            0.024289     0.017491     0.024289  0.154097   \n",
       "total_wishers            0.020296     0.012737     0.020296  0.137476   \n",
       "total_comments           0.016890     0.010046     0.016890  0.113395   \n",
       "total_weights            0.017789     0.010172     0.017789  0.097084   \n",
       "average_weight           0.090895     0.084405     0.090895  0.259782   \n",
       "\n",
       "                      users_rated  average_rating  bayes_average_rating  \\\n",
       "id                      -0.057778        0.304201             -0.117172   \n",
       "yearpublished            0.037454        0.108461              0.140998   \n",
       "minplayers               0.020364       -0.032701              0.034915   \n",
       "maxplayers              -0.000858       -0.008335             -0.003437   \n",
       "playingtime              0.010908        0.048994              0.045341   \n",
       "minplaytime              0.005502        0.043985              0.041845   \n",
       "maxplaytime              0.010908        0.048994              0.045341   \n",
       "minage                   0.097885        0.210049              0.266937   \n",
       "users_rated              1.000000        0.112564              0.317992   \n",
       "average_rating           0.112564        1.000000              0.231563   \n",
       "bayes_average_rating     0.317992        0.231563              1.000000   \n",
       "total_owners             0.977664        0.137478              0.371017   \n",
       "total_traders            0.807873        0.119452              0.455021   \n",
       "total_wanters            0.702433        0.196566              0.426708   \n",
       "total_wishers            0.805116        0.171375              0.377213   \n",
       "total_comments           0.978708        0.123714              0.371031   \n",
       "total_weights            0.975723        0.109691              0.313302   \n",
       "average_weight           0.150597        0.351081              0.482356   \n",
       "\n",
       "                      total_owners  total_traders  total_wanters  \\\n",
       "id                       -0.040308      -0.112069       0.017463   \n",
       "yearpublished             0.047740       0.064403       0.062289   \n",
       "minplayers                0.014594       0.024708      -0.008654   \n",
       "maxplayers               -0.000977      -0.002381      -0.003585   \n",
       "playingtime               0.014532       0.019264       0.024289   \n",
       "minplaytime               0.008975       0.014484       0.017491   \n",
       "maxplaytime               0.014532       0.019264       0.024289   \n",
       "minage                    0.118564       0.152313       0.154097   \n",
       "users_rated               0.977664       0.807873       0.702433   \n",
       "average_rating            0.137478       0.119452       0.196566   \n",
       "bayes_average_rating      0.371017       0.455021       0.426708   \n",
       "total_owners              1.000000       0.829875       0.688380   \n",
       "total_traders             0.829875       1.000000       0.555836   \n",
       "total_wanters             0.688380       0.555836       1.000000   \n",
       "total_wishers             0.788820       0.631443       0.961002   \n",
       "total_comments            0.954026       0.856526       0.709645   \n",
       "total_weights             0.938422       0.801559       0.667608   \n",
       "average_weight            0.183341       0.227302       0.254229   \n",
       "\n",
       "                      total_wishers  total_comments  total_weights  \\\n",
       "id                         0.024777       -0.089659      -0.078830   \n",
       "yearpublished              0.052534        0.043818       0.036226   \n",
       "minplayers                -0.003786        0.023033       0.019061   \n",
       "maxplayers                -0.002499       -0.001502      -0.001457   \n",
       "playingtime                0.020296        0.016890       0.017789   \n",
       "minplaytime                0.012737        0.010046       0.010172   \n",
       "maxplaytime                0.020296        0.016890       0.017789   \n",
       "minage                     0.137476        0.113395       0.097084   \n",
       "users_rated                0.805116        0.978708       0.975723   \n",
       "average_rating             0.171375        0.123714       0.109691   \n",
       "bayes_average_rating       0.377213        0.371031       0.313302   \n",
       "total_owners               0.788820        0.954026       0.938422   \n",
       "total_traders              0.631443        0.856526       0.801559   \n",
       "total_wanters              0.961002        0.709645       0.667608   \n",
       "total_wishers              1.000000        0.788538       0.764677   \n",
       "total_comments             0.788538        1.000000       0.978213   \n",
       "total_weights              0.764677        0.978213       1.000000   \n",
       "average_weight             0.219025        0.180939       0.161004   \n",
       "\n",
       "                      average_weight  \n",
       "id                         -0.082301  \n",
       "yearpublished               0.125318  \n",
       "minplayers                 -0.021892  \n",
       "maxplayers                 -0.013448  \n",
       "playingtime                 0.090895  \n",
       "minplaytime                 0.084405  \n",
       "maxplaytime                 0.090895  \n",
       "minage                      0.259782  \n",
       "users_rated                 0.150597  \n",
       "average_rating              0.351081  \n",
       "bayes_average_rating        0.482356  \n",
       "total_owners                0.183341  \n",
       "total_traders               0.227302  \n",
       "total_wanters               0.254229  \n",
       "total_wishers               0.219025  \n",
       "total_comments              0.180939  \n",
       "total_weights               0.161004  \n",
       "average_weight              1.000000  "
      ]
     },
     "execution_count": 34,
     "metadata": {},
     "output_type": "execute_result"
    }
   ],
   "source": [
    "corr_matrix = df1.corr()\n",
    "corr_matrix"
   ]
  },
  {
   "cell_type": "code",
   "execution_count": 39,
   "metadata": {},
   "outputs": [
    {
     "data": {
      "text/plain": [
       "array([[<matplotlib.axes._subplots.AxesSubplot object at 0x000000000B103438>,\n",
       "        <matplotlib.axes._subplots.AxesSubplot object at 0x000000000C985208>,\n",
       "        <matplotlib.axes._subplots.AxesSubplot object at 0x000000000B1E42B0>],\n",
       "       [<matplotlib.axes._subplots.AxesSubplot object at 0x000000000C245AC8>,\n",
       "        <matplotlib.axes._subplots.AxesSubplot object at 0x000000000C21ECF8>,\n",
       "        <matplotlib.axes._subplots.AxesSubplot object at 0x000000000C21ED30>],\n",
       "       [<matplotlib.axes._subplots.AxesSubplot object at 0x000000000C199CF8>,\n",
       "        <matplotlib.axes._subplots.AxesSubplot object at 0x000000000C1BA630>,\n",
       "        <matplotlib.axes._subplots.AxesSubplot object at 0x000000000CD2A4E0>]],\n",
       "      dtype=object)"
      ]
     },
     "execution_count": 39,
     "metadata": {},
     "output_type": "execute_result"
    },
    {
     "data": {
      "image/png": "[encoded data removed]",
      "text/plain": [
       "<matplotlib.figure.Figure at 0xcb0e780>"
      ]
     },
     "metadata": {},
     "output_type": "display_data"
    }
   ],
   "source": [
    "# from pandas.tools.plotting import scatter_matrix # For older versions of Pandas\n",
    "\n",
    "from pandas.plotting import scatter_matrix\n",
    "\n",
    "attributes = [\"users_rated\", \"average_rating\", \"total_weights\"]\n",
    "scatter_matrix(df1[attributes], figsize=(12, 8))"
   ]
  },
  {
   "cell_type": "code",
   "execution_count": 15,
   "metadata": {},
   "outputs": [],
   "source": [
    "# filter column which don't want , to get dependent varaiable\n",
    "\n",
    "x=df1.drop(['bayes_average_rating','average_rating',\"type\",\"name\",\"id\"],axis=1)"
   ]
  },
  {
   "cell_type": "code",
   "execution_count": 16,
   "metadata": {},
   "outputs": [
    {
     "data": {
      "text/plain": [
       "(56894, 15)"
      ]
     },
     "execution_count": 16,
     "metadata": {},
     "output_type": "execute_result"
    }
   ],
   "source": [
    "x.shape"
   ]
  },
  {
   "cell_type": "code",
   "execution_count": 17,
   "metadata": {},
   "outputs": [],
   "source": [
    "# to get target varaiable\n",
    "y=df1.average_rating"
   ]
  },
  {
   "cell_type": "code",
   "execution_count": 18,
   "metadata": {},
   "outputs": [],
   "source": [
    "from sklearn.model_selection import train_test_split\n",
    "x_train,x_test,y_train,y_test=train_test_split(x,y,test_size=0.2)\n"
   ]
  },
  {
   "cell_type": "code",
   "execution_count": 19,
   "metadata": {},
   "outputs": [
    {
     "name": "stdout",
     "output_type": "stream",
     "text": [
      "(45515, 15)\n",
      "(11379, 15)\n"
     ]
    }
   ],
   "source": [
    "print(x_train.shape)\n",
    "print(x_test.shape)\n"
   ]
  },
  {
   "cell_type": "code",
   "execution_count": 20,
   "metadata": {},
   "outputs": [
    {
     "data": {
      "text/plain": [
       "LinearRegression(copy_X=True, fit_intercept=True, n_jobs=1, normalize=False)"
      ]
     },
     "execution_count": 20,
     "metadata": {},
     "output_type": "execute_result"
    }
   ],
   "source": [
    "# Import Linear Regression model\n",
    "\n",
    "from sklearn.linear_model import LinearRegression\n",
    "lr=LinearRegression()\n",
    "lr.fit(x_train,y_train)"
   ]
  },
  {
   "cell_type": "code",
   "execution_count": 21,
   "metadata": {},
   "outputs": [],
   "source": [
    "# Generate predictions for the test set\n",
    "y_pred=lr.predict(x_test)"
   ]
  },
  {
   "cell_type": "code",
   "execution_count": 22,
   "metadata": {},
   "outputs": [
    {
     "data": {
      "text/plain": [
       "array([6.18905753, 5.78686103, 5.85125999, ..., 5.82999011, 5.43597068,\n",
       "       5.97872956])"
      ]
     },
     "execution_count": 22,
     "metadata": {},
     "output_type": "execute_result"
    }
   ],
   "source": [
    "y_pred"
   ]
  },
  {
   "cell_type": "code",
   "execution_count": 23,
   "metadata": {},
   "outputs": [
    {
     "data": {
      "text/plain": [
       "0.16068442097557"
      ]
     },
     "execution_count": 23,
     "metadata": {},
     "output_type": "execute_result"
    }
   ],
   "source": [
    "#compute error between our test predictions and actual values\n",
    "lr.score(x_test,y_test)\n"
   ]
  },
  {
   "cell_type": "code",
   "execution_count": 24,
   "metadata": {},
   "outputs": [
    {
     "data": {
      "text/plain": [
       "2.0989930026570565"
      ]
     },
     "execution_count": 24,
     "metadata": {},
     "output_type": "execute_result"
    }
   ],
   "source": [
    "from sklearn.metrics import mean_squared_error\n",
    "mean_squared_error(y_pred, y_test)"
   ]
  },
  {
   "cell_type": "code",
   "execution_count": 25,
   "metadata": {},
   "outputs": [],
   "source": [
    "# Import the random forest model\n",
    "from sklearn.ensemble import RandomForestRegressor\n",
    "\n",
    "rf= RandomForestRegressor(n_estimators=100,min_samples_leaf=10,random_state=1)\n",
    "rf.fit(x_train,y_train)\n",
    "\n",
    "y_pred1= rf.predict(x_test)\n"
   ]
  },
  {
   "cell_type": "code",
   "execution_count": 26,
   "metadata": {},
   "outputs": [
    {
     "data": {
      "text/plain": [
       "0.4182485305259912"
      ]
     },
     "execution_count": 26,
     "metadata": {},
     "output_type": "execute_result"
    }
   ],
   "source": [
    "rf.score(x_test,y_test)"
   ]
  },
  {
   "cell_type": "code",
   "execution_count": 27,
   "metadata": {},
   "outputs": [
    {
     "data": {
      "text/plain": [
       "1.4548666725937924"
      ]
     },
     "execution_count": 27,
     "metadata": {},
     "output_type": "execute_result"
    }
   ],
   "source": [
    "mean_squared_error(y_pred1, y_test)"
   ]
  },
  {
   "cell_type": "markdown",
   "metadata": {},
   "source": [
    "## Observation that compare to linear model , Random forest model provide good score \n",
    "#(0.4 1) with less MSE 1.48"
   ]
  },
  {
   "cell_type": "code",
   "execution_count": 28,
   "metadata": {},
   "outputs": [
    {
     "data": {
      "text/plain": [
       "yearpublished     2014.0\n",
       "minplayers           2.0\n",
       "maxplayers           6.0\n",
       "playingtime         15.0\n",
       "minplaytime         15.0\n",
       "maxplaytime         15.0\n",
       "minage               8.0\n",
       "users_rated         10.0\n",
       "total_owners        22.0\n",
       "total_traders        0.0\n",
       "total_wanters        1.0\n",
       "total_wishers        2.0\n",
       "total_comments       4.0\n",
       "total_weights        1.0\n",
       "average_weight       1.0\n",
       "Name: 71833, dtype: float64"
      ]
     },
     "execution_count": 28,
     "metadata": {},
     "output_type": "execute_result"
    }
   ],
   "source": [
    "# prdict the model value\n",
    "x_test.iloc[100]"
   ]
  },
  {
   "cell_type": "code",
   "execution_count": 29,
   "metadata": {},
   "outputs": [
    {
     "name": "stdout",
     "output_type": "stream",
     "text": [
      "[6.18905753]\n",
      "[6.18390833]\n"
     ]
    }
   ],
   "source": [
    "# Prediction with both model\n",
    "rating_lr= lr.predict(x_test.iloc[0].values.reshape(1,-1))\n",
    "rating_rf= rf.predict(x_test.iloc[0].values.reshape(1,-1))\n",
    "\n",
    "print(rating_lr)\n",
    "print(rating_rf)"
   ]
  },
  {
   "cell_type": "code",
   "execution_count": 30,
   "metadata": {},
   "outputs": [
    {
     "data": {
      "text/plain": [
       "6.38889"
      ]
     },
     "execution_count": 30,
     "metadata": {},
     "output_type": "execute_result"
    }
   ],
   "source": [
    "# actual value of test data in Rw.no. zeroin test datset\n",
    "\n",
    "y_test.iloc[0]"
   ]
  },
  {
   "cell_type": "markdown",
   "metadata": {},
   "source": [
    "##  compare to cell in 107, 109 -> actual value ( Pred- 6.9, Actual 6.5) matches well with RFS prediction, so model work well with Random forest model"
   ]
  }
 ],
 "metadata": {
  "kernelspec": {
   "display_name": "Python 3",
   "language": "python",
   "name": "python3"
  },
  "language_info": {
   "codemirror_mode": {
    "name": "ipython",
    "version": 3
   },
   "file_extension": ".py",
   "mimetype": "text/x-python",
   "name": "python",
   "nbconvert_exporter": "python",
   "pygments_lexer": "ipython3",
   "version": "3.6.4"
  }
 },
 "nbformat": 4,
 "nbformat_minor": 2
}
