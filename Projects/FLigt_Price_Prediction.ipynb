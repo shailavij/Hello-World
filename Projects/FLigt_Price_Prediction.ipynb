{
 "cells": [
  {
   "cell_type": "code",
   "execution_count": 1,
   "metadata": {},
   "outputs": [],
   "source": [
    "import pandas as pd\n",
    "import numpy as np\n",
    "from matplotlib import pyplot as plt\n"
   ]
  },
  {
   "cell_type": "markdown",
   "metadata": {},
   "source": [
    "## FLight price Prediction\n",
    "\n",
    "1.Identifying the target and independent features\n",
    "2. Cleaning the data set\n",
    "3. Feature Engineering\n",
    "4.Feature Encoding and Scaling\n",
    "5.Feature selection\n",
    "6.Check distribution of target variable\n",
    "7.Get insights from graphs for fine-tuning features\n",
    "8.Model application and hyper-parameter tuning\n",
    "9.Combining different models"
   ]
  },
  {
   "cell_type": "code",
   "execution_count": 2,
   "metadata": {},
   "outputs": [],
   "source": [
    "df_train=pd.read_excel(\"C:\\\\python\\\\ML\\\\Flight_Price\\\\Data_Train.xlsx\")\n",
    "df_to_predict = pd.read_excel(\"C:\\\\python\\\\ML\\\\Flight_Price\\\\Test_set.xlsx\")"
   ]
  },
  {
   "cell_type": "code",
   "execution_count": 3,
   "metadata": {},
   "outputs": [
    {
     "data": {
      "text/html": [
       "<div>\n",
       "<style scoped>\n",
       "    .dataframe tbody tr th:only-of-type {\n",
       "        vertical-align: middle;\n",
       "    }\n",
       "\n",
       "    .dataframe tbody tr th {\n",
       "        vertical-align: top;\n",
       "    }\n",
       "\n",
       "    .dataframe thead th {\n",
       "        text-align: right;\n",
       "    }\n",
       "</style>\n",
       "<table border=\"1\" class=\"dataframe\">\n",
       "  <thead>\n",
       "    <tr style=\"text-align: right;\">\n",
       "      <th></th>\n",
       "      <th>Airline</th>\n",
       "      <th>Date_of_Journey</th>\n",
       "      <th>Source</th>\n",
       "      <th>Destination</th>\n",
       "      <th>Route</th>\n",
       "      <th>Dep_Time</th>\n",
       "      <th>Arrival_Time</th>\n",
       "      <th>Duration</th>\n",
       "      <th>Total_Stops</th>\n",
       "      <th>Additional_Info</th>\n",
       "      <th>Price</th>\n",
       "    </tr>\n",
       "  </thead>\n",
       "  <tbody>\n",
       "    <tr>\n",
       "      <th>0</th>\n",
       "      <td>IndiGo</td>\n",
       "      <td>24/03/2019</td>\n",
       "      <td>Banglore</td>\n",
       "      <td>New Delhi</td>\n",
       "      <td>BLR → DEL</td>\n",
       "      <td>22:20</td>\n",
       "      <td>01:10 22 Mar</td>\n",
       "      <td>2h 50m</td>\n",
       "      <td>non-stop</td>\n",
       "      <td>No info</td>\n",
       "      <td>3897</td>\n",
       "    </tr>\n",
       "    <tr>\n",
       "      <th>1</th>\n",
       "      <td>Air India</td>\n",
       "      <td>1/05/2019</td>\n",
       "      <td>Kolkata</td>\n",
       "      <td>Banglore</td>\n",
       "      <td>CCU → IXR → BBI → BLR</td>\n",
       "      <td>05:50</td>\n",
       "      <td>13:15</td>\n",
       "      <td>7h 25m</td>\n",
       "      <td>2 stops</td>\n",
       "      <td>No info</td>\n",
       "      <td>7662</td>\n",
       "    </tr>\n",
       "    <tr>\n",
       "      <th>2</th>\n",
       "      <td>Jet Airways</td>\n",
       "      <td>9/06/2019</td>\n",
       "      <td>Delhi</td>\n",
       "      <td>Cochin</td>\n",
       "      <td>DEL → LKO → BOM → COK</td>\n",
       "      <td>09:25</td>\n",
       "      <td>04:25 10 Jun</td>\n",
       "      <td>19h</td>\n",
       "      <td>2 stops</td>\n",
       "      <td>No info</td>\n",
       "      <td>13882</td>\n",
       "    </tr>\n",
       "    <tr>\n",
       "      <th>3</th>\n",
       "      <td>IndiGo</td>\n",
       "      <td>12/05/2019</td>\n",
       "      <td>Kolkata</td>\n",
       "      <td>Banglore</td>\n",
       "      <td>CCU → NAG → BLR</td>\n",
       "      <td>18:05</td>\n",
       "      <td>23:30</td>\n",
       "      <td>5h 25m</td>\n",
       "      <td>1 stop</td>\n",
       "      <td>No info</td>\n",
       "      <td>6218</td>\n",
       "    </tr>\n",
       "    <tr>\n",
       "      <th>4</th>\n",
       "      <td>IndiGo</td>\n",
       "      <td>01/03/2019</td>\n",
       "      <td>Banglore</td>\n",
       "      <td>New Delhi</td>\n",
       "      <td>BLR → NAG → DEL</td>\n",
       "      <td>16:50</td>\n",
       "      <td>21:35</td>\n",
       "      <td>4h 45m</td>\n",
       "      <td>1 stop</td>\n",
       "      <td>No info</td>\n",
       "      <td>13302</td>\n",
       "    </tr>\n",
       "  </tbody>\n",
       "</table>\n",
       "</div>"
      ],
      "text/plain": [
       "       Airline Date_of_Journey    Source Destination                  Route  \\\n",
       "0       IndiGo      24/03/2019  Banglore   New Delhi              BLR → DEL   \n",
       "1    Air India       1/05/2019   Kolkata    Banglore  CCU → IXR → BBI → BLR   \n",
       "2  Jet Airways       9/06/2019     Delhi      Cochin  DEL → LKO → BOM → COK   \n",
       "3       IndiGo      12/05/2019   Kolkata    Banglore        CCU → NAG → BLR   \n",
       "4       IndiGo      01/03/2019  Banglore   New Delhi        BLR → NAG → DEL   \n",
       "\n",
       "  Dep_Time  Arrival_Time Duration Total_Stops Additional_Info  Price  \n",
       "0    22:20  01:10 22 Mar   2h 50m    non-stop         No info   3897  \n",
       "1    05:50         13:15   7h 25m     2 stops         No info   7662  \n",
       "2    09:25  04:25 10 Jun      19h     2 stops         No info  13882  \n",
       "3    18:05         23:30   5h 25m      1 stop         No info   6218  \n",
       "4    16:50         21:35   4h 45m      1 stop         No info  13302  "
      ]
     },
     "execution_count": 3,
     "metadata": {},
     "output_type": "execute_result"
    }
   ],
   "source": [
    "df_train.head()"
   ]
  },
  {
   "cell_type": "code",
   "execution_count": 4,
   "metadata": {},
   "outputs": [
    {
     "data": {
      "text/plain": [
       "(10683, 11)"
      ]
     },
     "execution_count": 4,
     "metadata": {},
     "output_type": "execute_result"
    }
   ],
   "source": [
    "df_train.shape"
   ]
  },
  {
   "cell_type": "code",
   "execution_count": 5,
   "metadata": {},
   "outputs": [
    {
     "data": {
      "text/plain": [
       "Airline            object\n",
       "Date_of_Journey    object\n",
       "Source             object\n",
       "Destination        object\n",
       "Route              object\n",
       "Dep_Time           object\n",
       "Arrival_Time       object\n",
       "Duration           object\n",
       "Total_Stops        object\n",
       "Additional_Info    object\n",
       "Price               int64\n",
       "dtype: object"
      ]
     },
     "execution_count": 5,
     "metadata": {},
     "output_type": "execute_result"
    }
   ],
   "source": [
    "df_train.dtypes"
   ]
  },
  {
   "cell_type": "code",
   "execution_count": 6,
   "metadata": {},
   "outputs": [
    {
     "data": {
      "text/html": [
       "<div>\n",
       "<style scoped>\n",
       "    .dataframe tbody tr th:only-of-type {\n",
       "        vertical-align: middle;\n",
       "    }\n",
       "\n",
       "    .dataframe tbody tr th {\n",
       "        vertical-align: top;\n",
       "    }\n",
       "\n",
       "    .dataframe thead th {\n",
       "        text-align: right;\n",
       "    }\n",
       "</style>\n",
       "<table border=\"1\" class=\"dataframe\">\n",
       "  <thead>\n",
       "    <tr style=\"text-align: right;\">\n",
       "      <th></th>\n",
       "      <th>Price</th>\n",
       "    </tr>\n",
       "  </thead>\n",
       "  <tbody>\n",
       "    <tr>\n",
       "      <th>count</th>\n",
       "      <td>10683.000000</td>\n",
       "    </tr>\n",
       "    <tr>\n",
       "      <th>mean</th>\n",
       "      <td>9087.064121</td>\n",
       "    </tr>\n",
       "    <tr>\n",
       "      <th>std</th>\n",
       "      <td>4611.359167</td>\n",
       "    </tr>\n",
       "    <tr>\n",
       "      <th>min</th>\n",
       "      <td>1759.000000</td>\n",
       "    </tr>\n",
       "    <tr>\n",
       "      <th>25%</th>\n",
       "      <td>5277.000000</td>\n",
       "    </tr>\n",
       "    <tr>\n",
       "      <th>50%</th>\n",
       "      <td>8372.000000</td>\n",
       "    </tr>\n",
       "    <tr>\n",
       "      <th>75%</th>\n",
       "      <td>12373.000000</td>\n",
       "    </tr>\n",
       "    <tr>\n",
       "      <th>max</th>\n",
       "      <td>79512.000000</td>\n",
       "    </tr>\n",
       "  </tbody>\n",
       "</table>\n",
       "</div>"
      ],
      "text/plain": [
       "              Price\n",
       "count  10683.000000\n",
       "mean    9087.064121\n",
       "std     4611.359167\n",
       "min     1759.000000\n",
       "25%     5277.000000\n",
       "50%     8372.000000\n",
       "75%    12373.000000\n",
       "max    79512.000000"
      ]
     },
     "execution_count": 6,
     "metadata": {},
     "output_type": "execute_result"
    }
   ],
   "source": [
    "df_train.describe()"
   ]
  },
  {
   "cell_type": "code",
   "execution_count": 7,
   "metadata": {},
   "outputs": [
    {
     "data": {
      "text/plain": [
       "Airline            0\n",
       "Date_of_Journey    0\n",
       "Source             0\n",
       "Destination        0\n",
       "Route              1\n",
       "Dep_Time           0\n",
       "Arrival_Time       0\n",
       "Duration           0\n",
       "Total_Stops        1\n",
       "Additional_Info    0\n",
       "Price              0\n",
       "dtype: int64"
      ]
     },
     "execution_count": 7,
     "metadata": {},
     "output_type": "execute_result"
    }
   ],
   "source": [
    "# TO check the missing value\n",
    "df_train.isnull().sum()"
   ]
  },
  {
   "cell_type": "code",
   "execution_count": 8,
   "metadata": {},
   "outputs": [],
   "source": [
    "# Since we have only one null value in our dataset I am simply removing it, as making efforts to \n",
    "#impute a single value does not seem like a good option.\n",
    "df_train.dropna(inplace=True)\n"
   ]
  },
  {
   "cell_type": "code",
   "execution_count": 9,
   "metadata": {},
   "outputs": [
    {
     "name": "stdout",
     "output_type": "stream",
     "text": [
      "Total duplicated Row except first occurrence based on all columns\n"
     ]
    },
    {
     "data": {
      "text/plain": [
       "(220, 11)"
      ]
     },
     "execution_count": 9,
     "metadata": {},
     "output_type": "execute_result"
    }
   ],
   "source": [
    "# TO check duplicate rows in dataset\n",
    "# Select duplicate rows except first occurrence based on all columns\n",
    "duplicaterowDF= df_train[df_train.duplicated()]\n",
    "print(\"Total duplicated Row except first occurrence based on all columns\")\n",
    "duplicaterowDF.shape"
   ]
  },
  {
   "cell_type": "code",
   "execution_count": 10,
   "metadata": {},
   "outputs": [],
   "source": [
    "#remove duplicate rows in training dataset, except first occurenece\n",
    "df_train.drop_duplicates(keep='first',inplace=True)"
   ]
  },
  {
   "cell_type": "code",
   "execution_count": 11,
   "metadata": {},
   "outputs": [],
   "source": [
    "#In the drop_duplicates command above, keep='first' option allows us to keep the first occurrence of the\n",
    "#row values while removing all the subsequent occurrences"
   ]
  },
  {
   "cell_type": "code",
   "execution_count": 12,
   "metadata": {},
   "outputs": [
    {
     "data": {
      "text/plain": [
       "(2671, 10)"
      ]
     },
     "execution_count": 12,
     "metadata": {},
     "output_type": "execute_result"
    }
   ],
   "source": [
    "df_to_predict.shape\n"
   ]
  },
  {
   "cell_type": "code",
   "execution_count": 13,
   "metadata": {},
   "outputs": [
    {
     "name": "stdout",
     "output_type": "stream",
     "text": [
      "Trian set\n",
      " No info                         8182\n",
      "In-flight meal not included     1926\n",
      "No check-in baggage included     318\n",
      "1 Long layover                    19\n",
      "Change airports                    7\n",
      "Business class                     4\n",
      "No Info                            3\n",
      "1 Short layover                    1\n",
      "2 Long layover                     1\n",
      "Red-eye flight                     1\n",
      "Name: Additional_Info, dtype: int64\n",
      "Test set\n",
      " No info                         2148\n",
      "In-flight meal not included      444\n",
      "No check-in baggage included      76\n",
      "1 Long layover                     1\n",
      "Change airports                    1\n",
      "Business class                     1\n",
      "Name: Additional_Info, dtype: int64\n"
     ]
    }
   ],
   "source": [
    " # Data Cleaning\n",
    "    \n",
    "print(\"Trian set\\n\",df_train[\"Additional_Info\"].value_counts())\n",
    "print(\"Test set\\n\",df_to_predict[\"Additional_Info\"].value_counts())   "
   ]
  },
  {
   "cell_type": "code",
   "execution_count": 14,
   "metadata": {},
   "outputs": [
    {
     "data": {
      "text/html": [
       "<div>\n",
       "<style scoped>\n",
       "    .dataframe tbody tr th:only-of-type {\n",
       "        vertical-align: middle;\n",
       "    }\n",
       "\n",
       "    .dataframe tbody tr th {\n",
       "        vertical-align: top;\n",
       "    }\n",
       "\n",
       "    .dataframe thead th {\n",
       "        text-align: right;\n",
       "    }\n",
       "</style>\n",
       "<table border=\"1\" class=\"dataframe\">\n",
       "  <thead>\n",
       "    <tr style=\"text-align: right;\">\n",
       "      <th></th>\n",
       "      <th>Airline</th>\n",
       "      <th>Date_of_Journey</th>\n",
       "      <th>Source</th>\n",
       "      <th>Destination</th>\n",
       "      <th>Route</th>\n",
       "      <th>Dep_Time</th>\n",
       "      <th>Arrival_Time</th>\n",
       "      <th>Duration</th>\n",
       "      <th>Total_Stops</th>\n",
       "      <th>Additional_Info</th>\n",
       "    </tr>\n",
       "  </thead>\n",
       "  <tbody>\n",
       "    <tr>\n",
       "      <th>0</th>\n",
       "      <td>Jet Airways</td>\n",
       "      <td>6/06/2019</td>\n",
       "      <td>Delhi</td>\n",
       "      <td>Cochin</td>\n",
       "      <td>DEL → BOM → COK</td>\n",
       "      <td>17:30</td>\n",
       "      <td>04:25 07 Jun</td>\n",
       "      <td>10h 55m</td>\n",
       "      <td>1 stop</td>\n",
       "      <td>No info</td>\n",
       "    </tr>\n",
       "    <tr>\n",
       "      <th>1</th>\n",
       "      <td>IndiGo</td>\n",
       "      <td>12/05/2019</td>\n",
       "      <td>Kolkata</td>\n",
       "      <td>Banglore</td>\n",
       "      <td>CCU → MAA → BLR</td>\n",
       "      <td>06:20</td>\n",
       "      <td>10:20</td>\n",
       "      <td>4h</td>\n",
       "      <td>1 stop</td>\n",
       "      <td>No info</td>\n",
       "    </tr>\n",
       "    <tr>\n",
       "      <th>2</th>\n",
       "      <td>Jet Airways</td>\n",
       "      <td>21/05/2019</td>\n",
       "      <td>Delhi</td>\n",
       "      <td>Cochin</td>\n",
       "      <td>DEL → BOM → COK</td>\n",
       "      <td>19:15</td>\n",
       "      <td>19:00 22 May</td>\n",
       "      <td>23h 45m</td>\n",
       "      <td>1 stop</td>\n",
       "      <td>In-flight meal not included</td>\n",
       "    </tr>\n",
       "    <tr>\n",
       "      <th>3</th>\n",
       "      <td>Multiple carriers</td>\n",
       "      <td>21/05/2019</td>\n",
       "      <td>Delhi</td>\n",
       "      <td>Cochin</td>\n",
       "      <td>DEL → BOM → COK</td>\n",
       "      <td>08:00</td>\n",
       "      <td>21:00</td>\n",
       "      <td>13h</td>\n",
       "      <td>1 stop</td>\n",
       "      <td>No info</td>\n",
       "    </tr>\n",
       "    <tr>\n",
       "      <th>4</th>\n",
       "      <td>Air Asia</td>\n",
       "      <td>24/06/2019</td>\n",
       "      <td>Banglore</td>\n",
       "      <td>Delhi</td>\n",
       "      <td>BLR → DEL</td>\n",
       "      <td>23:55</td>\n",
       "      <td>02:45 25 Jun</td>\n",
       "      <td>2h 50m</td>\n",
       "      <td>non-stop</td>\n",
       "      <td>No info</td>\n",
       "    </tr>\n",
       "  </tbody>\n",
       "</table>\n",
       "</div>"
      ],
      "text/plain": [
       "             Airline Date_of_Journey    Source Destination            Route  \\\n",
       "0        Jet Airways       6/06/2019     Delhi      Cochin  DEL → BOM → COK   \n",
       "1             IndiGo      12/05/2019   Kolkata    Banglore  CCU → MAA → BLR   \n",
       "2        Jet Airways      21/05/2019     Delhi      Cochin  DEL → BOM → COK   \n",
       "3  Multiple carriers      21/05/2019     Delhi      Cochin  DEL → BOM → COK   \n",
       "4           Air Asia      24/06/2019  Banglore       Delhi        BLR → DEL   \n",
       "\n",
       "  Dep_Time  Arrival_Time Duration Total_Stops              Additional_Info  \n",
       "0    17:30  04:25 07 Jun  10h 55m      1 stop                      No info  \n",
       "1    06:20         10:20       4h      1 stop                      No info  \n",
       "2    19:15  19:00 22 May  23h 45m      1 stop  In-flight meal not included  \n",
       "3    08:00         21:00      13h      1 stop                      No info  \n",
       "4    23:55  02:45 25 Jun   2h 50m    non-stop                      No info  "
      ]
     },
     "execution_count": 14,
     "metadata": {},
     "output_type": "execute_result"
    }
   ],
   "source": [
    "df_to_predict.head()"
   ]
  },
  {
   "cell_type": "code",
   "execution_count": 15,
   "metadata": {},
   "outputs": [
    {
     "data": {
      "text/plain": [
       "No info                         2148\n",
       "In-flight meal not included      444\n",
       "No check-in baggage included      76\n",
       "1 Long layover                     1\n",
       "Change airports                    1\n",
       "Business class                     1\n",
       "Name: Additional_Info, dtype: int64"
      ]
     },
     "execution_count": 15,
     "metadata": {},
     "output_type": "execute_result"
    }
   ],
   "source": [
    "df_to_predict['Additional_Info'].value_counts()"
   ]
  },
  {
   "cell_type": "code",
   "execution_count": 16,
   "metadata": {},
   "outputs": [
    {
     "data": {
      "text/plain": [
       "Cochin       1145\n",
       "Banglore      710\n",
       "Delhi         317\n",
       "New Delhi     238\n",
       "Hyderabad     186\n",
       "Kolkata        75\n",
       "Name: Destination, dtype: int64"
      ]
     },
     "execution_count": 16,
     "metadata": {},
     "output_type": "execute_result"
    }
   ],
   "source": [
    "df_to_predict['Destination'].value_counts()"
   ]
  },
  {
   "cell_type": "code",
   "execution_count": 17,
   "metadata": {},
   "outputs": [
    {
     "data": {
      "text/html": [
       "<div>\n",
       "<style scoped>\n",
       "    .dataframe tbody tr th:only-of-type {\n",
       "        vertical-align: middle;\n",
       "    }\n",
       "\n",
       "    .dataframe tbody tr th {\n",
       "        vertical-align: top;\n",
       "    }\n",
       "\n",
       "    .dataframe thead th {\n",
       "        text-align: right;\n",
       "    }\n",
       "</style>\n",
       "<table border=\"1\" class=\"dataframe\">\n",
       "  <thead>\n",
       "    <tr style=\"text-align: right;\">\n",
       "      <th></th>\n",
       "      <th>Airline</th>\n",
       "      <th>Date_of_Journey</th>\n",
       "      <th>Source</th>\n",
       "      <th>Destination</th>\n",
       "      <th>Route</th>\n",
       "      <th>Dep_Time</th>\n",
       "      <th>Arrival_Time</th>\n",
       "      <th>Duration</th>\n",
       "      <th>Total_Stops</th>\n",
       "      <th>Additional_Info</th>\n",
       "      <th>Price</th>\n",
       "    </tr>\n",
       "  </thead>\n",
       "  <tbody>\n",
       "    <tr>\n",
       "      <th>0</th>\n",
       "      <td>IndiGo</td>\n",
       "      <td>24/03/2019</td>\n",
       "      <td>Banglore</td>\n",
       "      <td>New Delhi</td>\n",
       "      <td>BLR → DEL</td>\n",
       "      <td>22:20</td>\n",
       "      <td>01:10 22 Mar</td>\n",
       "      <td>2h 50m</td>\n",
       "      <td>0</td>\n",
       "      <td>No info</td>\n",
       "      <td>3897</td>\n",
       "    </tr>\n",
       "    <tr>\n",
       "      <th>1</th>\n",
       "      <td>Air India</td>\n",
       "      <td>1/05/2019</td>\n",
       "      <td>Kolkata</td>\n",
       "      <td>Banglore</td>\n",
       "      <td>CCU → IXR → BBI → BLR</td>\n",
       "      <td>05:50</td>\n",
       "      <td>13:15</td>\n",
       "      <td>7h 25m</td>\n",
       "      <td>2</td>\n",
       "      <td>No info</td>\n",
       "      <td>7662</td>\n",
       "    </tr>\n",
       "    <tr>\n",
       "      <th>2</th>\n",
       "      <td>Jet Airways</td>\n",
       "      <td>9/06/2019</td>\n",
       "      <td>Delhi</td>\n",
       "      <td>Cochin</td>\n",
       "      <td>DEL → LKO → BOM → COK</td>\n",
       "      <td>09:25</td>\n",
       "      <td>04:25 10 Jun</td>\n",
       "      <td>19h</td>\n",
       "      <td>2</td>\n",
       "      <td>No info</td>\n",
       "      <td>13882</td>\n",
       "    </tr>\n",
       "    <tr>\n",
       "      <th>3</th>\n",
       "      <td>IndiGo</td>\n",
       "      <td>12/05/2019</td>\n",
       "      <td>Kolkata</td>\n",
       "      <td>Banglore</td>\n",
       "      <td>CCU → NAG → BLR</td>\n",
       "      <td>18:05</td>\n",
       "      <td>23:30</td>\n",
       "      <td>5h 25m</td>\n",
       "      <td>1</td>\n",
       "      <td>No info</td>\n",
       "      <td>6218</td>\n",
       "    </tr>\n",
       "    <tr>\n",
       "      <th>4</th>\n",
       "      <td>IndiGo</td>\n",
       "      <td>01/03/2019</td>\n",
       "      <td>Banglore</td>\n",
       "      <td>New Delhi</td>\n",
       "      <td>BLR → NAG → DEL</td>\n",
       "      <td>16:50</td>\n",
       "      <td>21:35</td>\n",
       "      <td>4h 45m</td>\n",
       "      <td>1</td>\n",
       "      <td>No info</td>\n",
       "      <td>13302</td>\n",
       "    </tr>\n",
       "  </tbody>\n",
       "</table>\n",
       "</div>"
      ],
      "text/plain": [
       "       Airline Date_of_Journey    Source Destination                  Route  \\\n",
       "0       IndiGo      24/03/2019  Banglore   New Delhi              BLR → DEL   \n",
       "1    Air India       1/05/2019   Kolkata    Banglore  CCU → IXR → BBI → BLR   \n",
       "2  Jet Airways       9/06/2019     Delhi      Cochin  DEL → LKO → BOM → COK   \n",
       "3       IndiGo      12/05/2019   Kolkata    Banglore        CCU → NAG → BLR   \n",
       "4       IndiGo      01/03/2019  Banglore   New Delhi        BLR → NAG → DEL   \n",
       "\n",
       "  Dep_Time  Arrival_Time Duration  Total_Stops Additional_Info  Price  \n",
       "0    22:20  01:10 22 Mar   2h 50m            0         No info   3897  \n",
       "1    05:50         13:15   7h 25m            2         No info   7662  \n",
       "2    09:25  04:25 10 Jun      19h            2         No info  13882  \n",
       "3    18:05         23:30   5h 25m            1         No info   6218  \n",
       "4    16:50         21:35   4h 45m            1         No info  13302  "
      ]
     },
     "execution_count": 17,
     "metadata": {},
     "output_type": "execute_result"
    }
   ],
   "source": [
    "\n",
    "# Assign values manually to Total_stops column since label encoder might assign \n",
    "# wrong values. Like it can assign value 1 to 'non-stop' or 2 to '3 stops'\n",
    "df_train.Total_Stops.replace(['1 stop','2 stops','non-stop','3 stops','4 stops'],[1,2,0,3,4],inplace=True)\n",
    "df_to_predict.Total_Stops.replace(['1 stop','2 stops','non-stop','3 stops','4 stops'],[1,2,0,3,4],inplace=True)\n",
    "\n",
    "df_train.head()"
   ]
  },
  {
   "cell_type": "code",
   "execution_count": 18,
   "metadata": {},
   "outputs": [
    {
     "data": {
      "text/plain": [
       "dtype('int32')"
      ]
     },
     "execution_count": 18,
     "metadata": {},
     "output_type": "execute_result"
    }
   ],
   "source": [
    "df_train['Total_Stops']=df_train['Total_Stops'].astype(int)\n",
    "df_to_predict['Total_Stops']=df_train['Total_Stops'].astype(int)\n",
    "df_train['Total_Stops'].dtypes"
   ]
  },
  {
   "cell_type": "code",
   "execution_count": 19,
   "metadata": {},
   "outputs": [],
   "source": [
    "# Feature Engineering"
   ]
  },
  {
   "cell_type": "code",
   "execution_count": 20,
   "metadata": {},
   "outputs": [],
   "source": [
    "# feature engineering on Date_of_Journey column\n",
    "# Extract day and month of journey from the above column in train , test dataset\n",
    "df_train['is_weekend']=(pd.to_datetime(df_train['Date_of_Journey'],format='%d/%m/%Y').dt.dayofweek)\n",
    "# to check weekend or not\n",
    "df_train['is_weekend']=(df_train['is_weekend']//5==1).astype(int)\n",
    "df_train['dayname_of_week']=pd.to_datetime(df_train['Date_of_Journey'],format='%d/%m/%Y').dt.weekday_name\n",
    "df_train['day_of_Journey']=(pd.to_datetime(df_train['Date_of_Journey'],format='%d/%m/%Y').dt.day)\n",
    "df_train['Month_of_Journey']=(pd.to_datetime(df_train['Date_of_Journey'],format='%d/%m/%Y').dt.month)\n",
    "df_train.drop(['Date_of_Journey'],axis=1,inplace=True)\n",
    "\n",
    "# TEst dataset\n",
    "df_to_predict['is_weekend']=(pd.to_datetime(df_to_predict['Date_of_Journey'],format='%d/%m/%Y').dt.dayofweek)\n",
    "# to check weekend or not\n",
    "df_to_predict['is_weekend']=(df_to_predict['is_weekend']//5==1).astype(int)\n",
    "df_to_predict['dayname_of_week']=pd.to_datetime(df_to_predict['Date_of_Journey'],format='%d/%m/%Y').dt.weekday_name\n",
    "df_to_predict['day_of_Journey']=(pd.to_datetime(df_to_predict['Date_of_Journey'],format='%d/%m/%Y').dt.day)\n",
    "df_to_predict['Month_of_Journey']=(pd.to_datetime(df_to_predict['Date_of_Journey'],format='%d/%m/%Y').dt.month)\n",
    "df_to_predict.drop(['Date_of_Journey'],axis=1,inplace=True)"
   ]
  },
  {
   "cell_type": "code",
   "execution_count": 21,
   "metadata": {},
   "outputs": [
    {
     "data": {
      "text/html": [
       "<div>\n",
       "<style scoped>\n",
       "    .dataframe tbody tr th:only-of-type {\n",
       "        vertical-align: middle;\n",
       "    }\n",
       "\n",
       "    .dataframe tbody tr th {\n",
       "        vertical-align: top;\n",
       "    }\n",
       "\n",
       "    .dataframe thead th {\n",
       "        text-align: right;\n",
       "    }\n",
       "</style>\n",
       "<table border=\"1\" class=\"dataframe\">\n",
       "  <thead>\n",
       "    <tr style=\"text-align: right;\">\n",
       "      <th></th>\n",
       "      <th>Airline</th>\n",
       "      <th>Source</th>\n",
       "      <th>Destination</th>\n",
       "      <th>Route</th>\n",
       "      <th>Dep_Time</th>\n",
       "      <th>Arrival_Time</th>\n",
       "      <th>Duration</th>\n",
       "      <th>Total_Stops</th>\n",
       "      <th>Additional_Info</th>\n",
       "      <th>Price</th>\n",
       "      <th>is_weekend</th>\n",
       "      <th>dayname_of_week</th>\n",
       "      <th>day_of_Journey</th>\n",
       "      <th>Month_of_Journey</th>\n",
       "    </tr>\n",
       "  </thead>\n",
       "  <tbody>\n",
       "    <tr>\n",
       "      <th>0</th>\n",
       "      <td>IndiGo</td>\n",
       "      <td>Banglore</td>\n",
       "      <td>New Delhi</td>\n",
       "      <td>BLR → DEL</td>\n",
       "      <td>22:20</td>\n",
       "      <td>01:10 22 Mar</td>\n",
       "      <td>2h 50m</td>\n",
       "      <td>0</td>\n",
       "      <td>No info</td>\n",
       "      <td>3897</td>\n",
       "      <td>1</td>\n",
       "      <td>Sunday</td>\n",
       "      <td>24</td>\n",
       "      <td>3</td>\n",
       "    </tr>\n",
       "    <tr>\n",
       "      <th>1</th>\n",
       "      <td>Air India</td>\n",
       "      <td>Kolkata</td>\n",
       "      <td>Banglore</td>\n",
       "      <td>CCU → IXR → BBI → BLR</td>\n",
       "      <td>05:50</td>\n",
       "      <td>13:15</td>\n",
       "      <td>7h 25m</td>\n",
       "      <td>2</td>\n",
       "      <td>No info</td>\n",
       "      <td>7662</td>\n",
       "      <td>0</td>\n",
       "      <td>Wednesday</td>\n",
       "      <td>1</td>\n",
       "      <td>5</td>\n",
       "    </tr>\n",
       "    <tr>\n",
       "      <th>2</th>\n",
       "      <td>Jet Airways</td>\n",
       "      <td>Delhi</td>\n",
       "      <td>Cochin</td>\n",
       "      <td>DEL → LKO → BOM → COK</td>\n",
       "      <td>09:25</td>\n",
       "      <td>04:25 10 Jun</td>\n",
       "      <td>19h</td>\n",
       "      <td>2</td>\n",
       "      <td>No info</td>\n",
       "      <td>13882</td>\n",
       "      <td>1</td>\n",
       "      <td>Sunday</td>\n",
       "      <td>9</td>\n",
       "      <td>6</td>\n",
       "    </tr>\n",
       "    <tr>\n",
       "      <th>3</th>\n",
       "      <td>IndiGo</td>\n",
       "      <td>Kolkata</td>\n",
       "      <td>Banglore</td>\n",
       "      <td>CCU → NAG → BLR</td>\n",
       "      <td>18:05</td>\n",
       "      <td>23:30</td>\n",
       "      <td>5h 25m</td>\n",
       "      <td>1</td>\n",
       "      <td>No info</td>\n",
       "      <td>6218</td>\n",
       "      <td>1</td>\n",
       "      <td>Sunday</td>\n",
       "      <td>12</td>\n",
       "      <td>5</td>\n",
       "    </tr>\n",
       "    <tr>\n",
       "      <th>4</th>\n",
       "      <td>IndiGo</td>\n",
       "      <td>Banglore</td>\n",
       "      <td>New Delhi</td>\n",
       "      <td>BLR → NAG → DEL</td>\n",
       "      <td>16:50</td>\n",
       "      <td>21:35</td>\n",
       "      <td>4h 45m</td>\n",
       "      <td>1</td>\n",
       "      <td>No info</td>\n",
       "      <td>13302</td>\n",
       "      <td>0</td>\n",
       "      <td>Friday</td>\n",
       "      <td>1</td>\n",
       "      <td>3</td>\n",
       "    </tr>\n",
       "    <tr>\n",
       "      <th>5</th>\n",
       "      <td>SpiceJet</td>\n",
       "      <td>Kolkata</td>\n",
       "      <td>Banglore</td>\n",
       "      <td>CCU → BLR</td>\n",
       "      <td>09:00</td>\n",
       "      <td>11:25</td>\n",
       "      <td>2h 25m</td>\n",
       "      <td>0</td>\n",
       "      <td>No info</td>\n",
       "      <td>3873</td>\n",
       "      <td>0</td>\n",
       "      <td>Monday</td>\n",
       "      <td>24</td>\n",
       "      <td>6</td>\n",
       "    </tr>\n",
       "    <tr>\n",
       "      <th>6</th>\n",
       "      <td>Jet Airways</td>\n",
       "      <td>Banglore</td>\n",
       "      <td>New Delhi</td>\n",
       "      <td>BLR → BOM → DEL</td>\n",
       "      <td>18:55</td>\n",
       "      <td>10:25 13 Mar</td>\n",
       "      <td>15h 30m</td>\n",
       "      <td>1</td>\n",
       "      <td>In-flight meal not included</td>\n",
       "      <td>11087</td>\n",
       "      <td>0</td>\n",
       "      <td>Tuesday</td>\n",
       "      <td>12</td>\n",
       "      <td>3</td>\n",
       "    </tr>\n",
       "    <tr>\n",
       "      <th>7</th>\n",
       "      <td>Jet Airways</td>\n",
       "      <td>Banglore</td>\n",
       "      <td>New Delhi</td>\n",
       "      <td>BLR → BOM → DEL</td>\n",
       "      <td>08:00</td>\n",
       "      <td>05:05 02 Mar</td>\n",
       "      <td>21h 5m</td>\n",
       "      <td>1</td>\n",
       "      <td>No info</td>\n",
       "      <td>22270</td>\n",
       "      <td>0</td>\n",
       "      <td>Friday</td>\n",
       "      <td>1</td>\n",
       "      <td>3</td>\n",
       "    </tr>\n",
       "    <tr>\n",
       "      <th>8</th>\n",
       "      <td>Jet Airways</td>\n",
       "      <td>Banglore</td>\n",
       "      <td>New Delhi</td>\n",
       "      <td>BLR → BOM → DEL</td>\n",
       "      <td>08:55</td>\n",
       "      <td>10:25 13 Mar</td>\n",
       "      <td>25h 30m</td>\n",
       "      <td>1</td>\n",
       "      <td>In-flight meal not included</td>\n",
       "      <td>11087</td>\n",
       "      <td>0</td>\n",
       "      <td>Tuesday</td>\n",
       "      <td>12</td>\n",
       "      <td>3</td>\n",
       "    </tr>\n",
       "    <tr>\n",
       "      <th>9</th>\n",
       "      <td>Multiple carriers</td>\n",
       "      <td>Delhi</td>\n",
       "      <td>Cochin</td>\n",
       "      <td>DEL → BOM → COK</td>\n",
       "      <td>11:25</td>\n",
       "      <td>19:15</td>\n",
       "      <td>7h 50m</td>\n",
       "      <td>1</td>\n",
       "      <td>No info</td>\n",
       "      <td>8625</td>\n",
       "      <td>0</td>\n",
       "      <td>Monday</td>\n",
       "      <td>27</td>\n",
       "      <td>5</td>\n",
       "    </tr>\n",
       "    <tr>\n",
       "      <th>10</th>\n",
       "      <td>Air India</td>\n",
       "      <td>Delhi</td>\n",
       "      <td>Cochin</td>\n",
       "      <td>DEL → BLR → COK</td>\n",
       "      <td>09:45</td>\n",
       "      <td>23:00</td>\n",
       "      <td>13h 15m</td>\n",
       "      <td>1</td>\n",
       "      <td>No info</td>\n",
       "      <td>8907</td>\n",
       "      <td>1</td>\n",
       "      <td>Saturday</td>\n",
       "      <td>1</td>\n",
       "      <td>6</td>\n",
       "    </tr>\n",
       "    <tr>\n",
       "      <th>11</th>\n",
       "      <td>IndiGo</td>\n",
       "      <td>Kolkata</td>\n",
       "      <td>Banglore</td>\n",
       "      <td>CCU → BLR</td>\n",
       "      <td>20:20</td>\n",
       "      <td>22:55</td>\n",
       "      <td>2h 35m</td>\n",
       "      <td>0</td>\n",
       "      <td>No info</td>\n",
       "      <td>4174</td>\n",
       "      <td>0</td>\n",
       "      <td>Thursday</td>\n",
       "      <td>18</td>\n",
       "      <td>4</td>\n",
       "    </tr>\n",
       "    <tr>\n",
       "      <th>12</th>\n",
       "      <td>Air India</td>\n",
       "      <td>Chennai</td>\n",
       "      <td>Kolkata</td>\n",
       "      <td>MAA → CCU</td>\n",
       "      <td>11:40</td>\n",
       "      <td>13:55</td>\n",
       "      <td>2h 15m</td>\n",
       "      <td>0</td>\n",
       "      <td>No info</td>\n",
       "      <td>4667</td>\n",
       "      <td>0</td>\n",
       "      <td>Monday</td>\n",
       "      <td>24</td>\n",
       "      <td>6</td>\n",
       "    </tr>\n",
       "    <tr>\n",
       "      <th>13</th>\n",
       "      <td>Jet Airways</td>\n",
       "      <td>Kolkata</td>\n",
       "      <td>Banglore</td>\n",
       "      <td>CCU → BOM → BLR</td>\n",
       "      <td>21:10</td>\n",
       "      <td>09:20 10 May</td>\n",
       "      <td>12h 10m</td>\n",
       "      <td>1</td>\n",
       "      <td>In-flight meal not included</td>\n",
       "      <td>9663</td>\n",
       "      <td>0</td>\n",
       "      <td>Thursday</td>\n",
       "      <td>9</td>\n",
       "      <td>5</td>\n",
       "    </tr>\n",
       "    <tr>\n",
       "      <th>14</th>\n",
       "      <td>IndiGo</td>\n",
       "      <td>Kolkata</td>\n",
       "      <td>Banglore</td>\n",
       "      <td>CCU → BLR</td>\n",
       "      <td>17:15</td>\n",
       "      <td>19:50</td>\n",
       "      <td>2h 35m</td>\n",
       "      <td>0</td>\n",
       "      <td>No info</td>\n",
       "      <td>4804</td>\n",
       "      <td>0</td>\n",
       "      <td>Wednesday</td>\n",
       "      <td>24</td>\n",
       "      <td>4</td>\n",
       "    </tr>\n",
       "    <tr>\n",
       "      <th>15</th>\n",
       "      <td>Air India</td>\n",
       "      <td>Delhi</td>\n",
       "      <td>Cochin</td>\n",
       "      <td>DEL → AMD → BOM → COK</td>\n",
       "      <td>16:40</td>\n",
       "      <td>19:15 04 Mar</td>\n",
       "      <td>26h 35m</td>\n",
       "      <td>2</td>\n",
       "      <td>No info</td>\n",
       "      <td>14011</td>\n",
       "      <td>1</td>\n",
       "      <td>Sunday</td>\n",
       "      <td>3</td>\n",
       "      <td>3</td>\n",
       "    </tr>\n",
       "    <tr>\n",
       "      <th>16</th>\n",
       "      <td>SpiceJet</td>\n",
       "      <td>Delhi</td>\n",
       "      <td>Cochin</td>\n",
       "      <td>DEL → PNQ → COK</td>\n",
       "      <td>08:45</td>\n",
       "      <td>13:15</td>\n",
       "      <td>4h 30m</td>\n",
       "      <td>1</td>\n",
       "      <td>No info</td>\n",
       "      <td>5830</td>\n",
       "      <td>0</td>\n",
       "      <td>Monday</td>\n",
       "      <td>15</td>\n",
       "      <td>4</td>\n",
       "    </tr>\n",
       "    <tr>\n",
       "      <th>17</th>\n",
       "      <td>Jet Airways</td>\n",
       "      <td>Delhi</td>\n",
       "      <td>Cochin</td>\n",
       "      <td>DEL → BOM → COK</td>\n",
       "      <td>14:00</td>\n",
       "      <td>12:35 13 Jun</td>\n",
       "      <td>22h 35m</td>\n",
       "      <td>1</td>\n",
       "      <td>In-flight meal not included</td>\n",
       "      <td>10262</td>\n",
       "      <td>0</td>\n",
       "      <td>Wednesday</td>\n",
       "      <td>12</td>\n",
       "      <td>6</td>\n",
       "    </tr>\n",
       "    <tr>\n",
       "      <th>18</th>\n",
       "      <td>Air India</td>\n",
       "      <td>Delhi</td>\n",
       "      <td>Cochin</td>\n",
       "      <td>DEL → CCU → BOM → COK</td>\n",
       "      <td>20:15</td>\n",
       "      <td>19:15 13 Jun</td>\n",
       "      <td>23h</td>\n",
       "      <td>2</td>\n",
       "      <td>No info</td>\n",
       "      <td>13381</td>\n",
       "      <td>0</td>\n",
       "      <td>Wednesday</td>\n",
       "      <td>12</td>\n",
       "      <td>6</td>\n",
       "    </tr>\n",
       "    <tr>\n",
       "      <th>19</th>\n",
       "      <td>Jet Airways</td>\n",
       "      <td>Delhi</td>\n",
       "      <td>Cochin</td>\n",
       "      <td>DEL → BOM → COK</td>\n",
       "      <td>16:00</td>\n",
       "      <td>12:35 28 May</td>\n",
       "      <td>20h 35m</td>\n",
       "      <td>1</td>\n",
       "      <td>In-flight meal not included</td>\n",
       "      <td>12898</td>\n",
       "      <td>0</td>\n",
       "      <td>Monday</td>\n",
       "      <td>27</td>\n",
       "      <td>5</td>\n",
       "    </tr>\n",
       "    <tr>\n",
       "      <th>20</th>\n",
       "      <td>GoAir</td>\n",
       "      <td>Delhi</td>\n",
       "      <td>Cochin</td>\n",
       "      <td>DEL → BOM → COK</td>\n",
       "      <td>14:10</td>\n",
       "      <td>19:20</td>\n",
       "      <td>5h 10m</td>\n",
       "      <td>1</td>\n",
       "      <td>No info</td>\n",
       "      <td>19495</td>\n",
       "      <td>0</td>\n",
       "      <td>Wednesday</td>\n",
       "      <td>6</td>\n",
       "      <td>3</td>\n",
       "    </tr>\n",
       "    <tr>\n",
       "      <th>21</th>\n",
       "      <td>Air India</td>\n",
       "      <td>Banglore</td>\n",
       "      <td>New Delhi</td>\n",
       "      <td>BLR → COK → DEL</td>\n",
       "      <td>22:00</td>\n",
       "      <td>13:20 19 Mar</td>\n",
       "      <td>15h 20m</td>\n",
       "      <td>1</td>\n",
       "      <td>No info</td>\n",
       "      <td>6955</td>\n",
       "      <td>0</td>\n",
       "      <td>Thursday</td>\n",
       "      <td>21</td>\n",
       "      <td>3</td>\n",
       "    </tr>\n",
       "    <tr>\n",
       "      <th>22</th>\n",
       "      <td>IndiGo</td>\n",
       "      <td>Banglore</td>\n",
       "      <td>Delhi</td>\n",
       "      <td>BLR → DEL</td>\n",
       "      <td>04:00</td>\n",
       "      <td>06:50</td>\n",
       "      <td>2h 50m</td>\n",
       "      <td>0</td>\n",
       "      <td>No info</td>\n",
       "      <td>3943</td>\n",
       "      <td>0</td>\n",
       "      <td>Wednesday</td>\n",
       "      <td>3</td>\n",
       "      <td>4</td>\n",
       "    </tr>\n",
       "    <tr>\n",
       "      <th>23</th>\n",
       "      <td>IndiGo</td>\n",
       "      <td>Banglore</td>\n",
       "      <td>Delhi</td>\n",
       "      <td>BLR → DEL</td>\n",
       "      <td>18:55</td>\n",
       "      <td>21:50</td>\n",
       "      <td>2h 55m</td>\n",
       "      <td>0</td>\n",
       "      <td>No info</td>\n",
       "      <td>4823</td>\n",
       "      <td>0</td>\n",
       "      <td>Wednesday</td>\n",
       "      <td>1</td>\n",
       "      <td>5</td>\n",
       "    </tr>\n",
       "    <tr>\n",
       "      <th>24</th>\n",
       "      <td>Jet Airways</td>\n",
       "      <td>Kolkata</td>\n",
       "      <td>Banglore</td>\n",
       "      <td>CCU → BOM → BLR</td>\n",
       "      <td>18:55</td>\n",
       "      <td>08:15 07 May</td>\n",
       "      <td>13h 20m</td>\n",
       "      <td>1</td>\n",
       "      <td>In-flight meal not included</td>\n",
       "      <td>7757</td>\n",
       "      <td>0</td>\n",
       "      <td>Monday</td>\n",
       "      <td>6</td>\n",
       "      <td>5</td>\n",
       "    </tr>\n",
       "    <tr>\n",
       "      <th>25</th>\n",
       "      <td>Jet Airways</td>\n",
       "      <td>Delhi</td>\n",
       "      <td>Cochin</td>\n",
       "      <td>DEL → IDR → BOM → COK</td>\n",
       "      <td>21:25</td>\n",
       "      <td>12:35 10 Jun</td>\n",
       "      <td>15h 10m</td>\n",
       "      <td>2</td>\n",
       "      <td>No info</td>\n",
       "      <td>13292</td>\n",
       "      <td>1</td>\n",
       "      <td>Sunday</td>\n",
       "      <td>9</td>\n",
       "      <td>6</td>\n",
       "    </tr>\n",
       "    <tr>\n",
       "      <th>26</th>\n",
       "      <td>IndiGo</td>\n",
       "      <td>Delhi</td>\n",
       "      <td>Cochin</td>\n",
       "      <td>DEL → LKO → COK</td>\n",
       "      <td>21:50</td>\n",
       "      <td>03:35 02 Jun</td>\n",
       "      <td>5h 45m</td>\n",
       "      <td>1</td>\n",
       "      <td>No info</td>\n",
       "      <td>8238</td>\n",
       "      <td>1</td>\n",
       "      <td>Saturday</td>\n",
       "      <td>1</td>\n",
       "      <td>6</td>\n",
       "    </tr>\n",
       "    <tr>\n",
       "      <th>27</th>\n",
       "      <td>GoAir</td>\n",
       "      <td>Delhi</td>\n",
       "      <td>Cochin</td>\n",
       "      <td>DEL → BOM → COK</td>\n",
       "      <td>07:00</td>\n",
       "      <td>12:55</td>\n",
       "      <td>5h 55m</td>\n",
       "      <td>1</td>\n",
       "      <td>No info</td>\n",
       "      <td>7682</td>\n",
       "      <td>0</td>\n",
       "      <td>Wednesday</td>\n",
       "      <td>15</td>\n",
       "      <td>5</td>\n",
       "    </tr>\n",
       "    <tr>\n",
       "      <th>28</th>\n",
       "      <td>Vistara</td>\n",
       "      <td>Banglore</td>\n",
       "      <td>Delhi</td>\n",
       "      <td>BLR → DEL</td>\n",
       "      <td>09:45</td>\n",
       "      <td>12:35</td>\n",
       "      <td>2h 50m</td>\n",
       "      <td>0</td>\n",
       "      <td>No info</td>\n",
       "      <td>4668</td>\n",
       "      <td>0</td>\n",
       "      <td>Tuesday</td>\n",
       "      <td>18</td>\n",
       "      <td>6</td>\n",
       "    </tr>\n",
       "    <tr>\n",
       "      <th>29</th>\n",
       "      <td>Vistara</td>\n",
       "      <td>Chennai</td>\n",
       "      <td>Kolkata</td>\n",
       "      <td>MAA → CCU</td>\n",
       "      <td>07:05</td>\n",
       "      <td>09:20</td>\n",
       "      <td>2h 15m</td>\n",
       "      <td>0</td>\n",
       "      <td>No info</td>\n",
       "      <td>3687</td>\n",
       "      <td>1</td>\n",
       "      <td>Saturday</td>\n",
       "      <td>15</td>\n",
       "      <td>6</td>\n",
       "    </tr>\n",
       "  </tbody>\n",
       "</table>\n",
       "</div>"
      ],
      "text/plain": [
       "              Airline    Source Destination                  Route Dep_Time  \\\n",
       "0              IndiGo  Banglore   New Delhi              BLR → DEL    22:20   \n",
       "1           Air India   Kolkata    Banglore  CCU → IXR → BBI → BLR    05:50   \n",
       "2         Jet Airways     Delhi      Cochin  DEL → LKO → BOM → COK    09:25   \n",
       "3              IndiGo   Kolkata    Banglore        CCU → NAG → BLR    18:05   \n",
       "4              IndiGo  Banglore   New Delhi        BLR → NAG → DEL    16:50   \n",
       "5            SpiceJet   Kolkata    Banglore              CCU → BLR    09:00   \n",
       "6         Jet Airways  Banglore   New Delhi        BLR → BOM → DEL    18:55   \n",
       "7         Jet Airways  Banglore   New Delhi        BLR → BOM → DEL    08:00   \n",
       "8         Jet Airways  Banglore   New Delhi        BLR → BOM → DEL    08:55   \n",
       "9   Multiple carriers     Delhi      Cochin        DEL → BOM → COK    11:25   \n",
       "10          Air India     Delhi      Cochin        DEL → BLR → COK    09:45   \n",
       "11             IndiGo   Kolkata    Banglore              CCU → BLR    20:20   \n",
       "12          Air India   Chennai     Kolkata              MAA → CCU    11:40   \n",
       "13        Jet Airways   Kolkata    Banglore        CCU → BOM → BLR    21:10   \n",
       "14             IndiGo   Kolkata    Banglore              CCU → BLR    17:15   \n",
       "15          Air India     Delhi      Cochin  DEL → AMD → BOM → COK    16:40   \n",
       "16           SpiceJet     Delhi      Cochin        DEL → PNQ → COK    08:45   \n",
       "17        Jet Airways     Delhi      Cochin        DEL → BOM → COK    14:00   \n",
       "18          Air India     Delhi      Cochin  DEL → CCU → BOM → COK    20:15   \n",
       "19        Jet Airways     Delhi      Cochin        DEL → BOM → COK    16:00   \n",
       "20              GoAir     Delhi      Cochin        DEL → BOM → COK    14:10   \n",
       "21          Air India  Banglore   New Delhi        BLR → COK → DEL    22:00   \n",
       "22             IndiGo  Banglore       Delhi              BLR → DEL    04:00   \n",
       "23             IndiGo  Banglore       Delhi              BLR → DEL    18:55   \n",
       "24        Jet Airways   Kolkata    Banglore        CCU → BOM → BLR    18:55   \n",
       "25        Jet Airways     Delhi      Cochin  DEL → IDR → BOM → COK    21:25   \n",
       "26             IndiGo     Delhi      Cochin        DEL → LKO → COK    21:50   \n",
       "27              GoAir     Delhi      Cochin        DEL → BOM → COK    07:00   \n",
       "28            Vistara  Banglore       Delhi              BLR → DEL    09:45   \n",
       "29            Vistara   Chennai     Kolkata              MAA → CCU    07:05   \n",
       "\n",
       "    Arrival_Time Duration  Total_Stops              Additional_Info  Price  \\\n",
       "0   01:10 22 Mar   2h 50m            0                      No info   3897   \n",
       "1          13:15   7h 25m            2                      No info   7662   \n",
       "2   04:25 10 Jun      19h            2                      No info  13882   \n",
       "3          23:30   5h 25m            1                      No info   6218   \n",
       "4          21:35   4h 45m            1                      No info  13302   \n",
       "5          11:25   2h 25m            0                      No info   3873   \n",
       "6   10:25 13 Mar  15h 30m            1  In-flight meal not included  11087   \n",
       "7   05:05 02 Mar   21h 5m            1                      No info  22270   \n",
       "8   10:25 13 Mar  25h 30m            1  In-flight meal not included  11087   \n",
       "9          19:15   7h 50m            1                      No info   8625   \n",
       "10         23:00  13h 15m            1                      No info   8907   \n",
       "11         22:55   2h 35m            0                      No info   4174   \n",
       "12         13:55   2h 15m            0                      No info   4667   \n",
       "13  09:20 10 May  12h 10m            1  In-flight meal not included   9663   \n",
       "14         19:50   2h 35m            0                      No info   4804   \n",
       "15  19:15 04 Mar  26h 35m            2                      No info  14011   \n",
       "16         13:15   4h 30m            1                      No info   5830   \n",
       "17  12:35 13 Jun  22h 35m            1  In-flight meal not included  10262   \n",
       "18  19:15 13 Jun      23h            2                      No info  13381   \n",
       "19  12:35 28 May  20h 35m            1  In-flight meal not included  12898   \n",
       "20         19:20   5h 10m            1                      No info  19495   \n",
       "21  13:20 19 Mar  15h 20m            1                      No info   6955   \n",
       "22         06:50   2h 50m            0                      No info   3943   \n",
       "23         21:50   2h 55m            0                      No info   4823   \n",
       "24  08:15 07 May  13h 20m            1  In-flight meal not included   7757   \n",
       "25  12:35 10 Jun  15h 10m            2                      No info  13292   \n",
       "26  03:35 02 Jun   5h 45m            1                      No info   8238   \n",
       "27         12:55   5h 55m            1                      No info   7682   \n",
       "28         12:35   2h 50m            0                      No info   4668   \n",
       "29         09:20   2h 15m            0                      No info   3687   \n",
       "\n",
       "    is_weekend dayname_of_week  day_of_Journey  Month_of_Journey  \n",
       "0            1          Sunday              24                 3  \n",
       "1            0       Wednesday               1                 5  \n",
       "2            1          Sunday               9                 6  \n",
       "3            1          Sunday              12                 5  \n",
       "4            0          Friday               1                 3  \n",
       "5            0          Monday              24                 6  \n",
       "6            0         Tuesday              12                 3  \n",
       "7            0          Friday               1                 3  \n",
       "8            0         Tuesday              12                 3  \n",
       "9            0          Monday              27                 5  \n",
       "10           1        Saturday               1                 6  \n",
       "11           0        Thursday              18                 4  \n",
       "12           0          Monday              24                 6  \n",
       "13           0        Thursday               9                 5  \n",
       "14           0       Wednesday              24                 4  \n",
       "15           1          Sunday               3                 3  \n",
       "16           0          Monday              15                 4  \n",
       "17           0       Wednesday              12                 6  \n",
       "18           0       Wednesday              12                 6  \n",
       "19           0          Monday              27                 5  \n",
       "20           0       Wednesday               6                 3  \n",
       "21           0        Thursday              21                 3  \n",
       "22           0       Wednesday               3                 4  \n",
       "23           0       Wednesday               1                 5  \n",
       "24           0          Monday               6                 5  \n",
       "25           1          Sunday               9                 6  \n",
       "26           1        Saturday               1                 6  \n",
       "27           0       Wednesday              15                 5  \n",
       "28           0         Tuesday              18                 6  \n",
       "29           1        Saturday              15                 6  "
      ]
     },
     "execution_count": 21,
     "metadata": {},
     "output_type": "execute_result"
    }
   ],
   "source": [
    "df_train.head(30)"
   ]
  },
  {
   "cell_type": "code",
   "execution_count": 22,
   "metadata": {},
   "outputs": [
    {
     "data": {
      "text/plain": [
       "['2h 50m',\n",
       " '7h 25m',\n",
       " '19h',\n",
       " '5h 25m',\n",
       " '4h 45m',\n",
       " '2h 25m',\n",
       " '15h 30m',\n",
       " '21h 5m',\n",
       " '25h 30m',\n",
       " '7h 50m',\n",
       " '13h 15m',\n",
       " '2h 35m',\n",
       " '2h 15m',\n",
       " '12h 10m',\n",
       " '2h 35m',\n",
       " '26h 35m',\n",
       " '4h 30m',\n",
       " '22h 35m',\n",
       " '23h',\n",
       " '20h 35m',\n",
       " '5h 10m',\n",
       " '15h 20m',\n",
       " '2h 50m',\n",
       " '2h 55m',\n",
       " '13h 20m',\n",
       " '15h 10m',\n",
       " '5h 45m',\n",
       " '5h 55m',\n",
       " '2h 50m',\n",
       " '2h 15m',\n",
       " '2h 15m',\n",
       " '13h 25m',\n",
       " '2h 50m',\n",
       " '22h',\n",
       " '5h 30m',\n",
       " '10h 25m',\n",
       " '5h 15m',\n",
       " '2h 30m',\n",
       " '6h 15m',\n",
       " '11h 55m',\n",
       " '11h 5m',\n",
       " '8h 30m',\n",
       " '22h 5m',\n",
       " '2h 45m',\n",
       " '12h',\n",
       " '2h 50m',\n",
       " '2h 50m',\n",
       " '2h 15m',\n",
       " '16h 5m',\n",
       " '19h 55m',\n",
       " '3h 15m',\n",
       " '25h 20m',\n",
       " '2h 50m',\n",
       " '3h',\n",
       " '2h 50m',\n",
       " '16h 15m',\n",
       " '15h 5m',\n",
       " '2h 15m',\n",
       " '6h 30m',\n",
       " '25h 5m',\n",
       " '12h 25m',\n",
       " '27h 20m',\n",
       " '10h 15m',\n",
       " '10h 30m',\n",
       " '2h 15m',\n",
       " '10h 25m',\n",
       " '2h 50m',\n",
       " '1h 30m',\n",
       " '13h 20m',\n",
       " '2h 15m',\n",
       " '1h 25m',\n",
       " '26h 30m',\n",
       " '7h 20m',\n",
       " '13h 30m',\n",
       " '5h',\n",
       " '2h 45m',\n",
       " '2h 50m',\n",
       " '1h 30m',\n",
       " '19h 5m',\n",
       " '2h 15m',\n",
       " '14h 50m',\n",
       " '2h 40m',\n",
       " '22h 10m',\n",
       " '9h 35m',\n",
       " '10h',\n",
       " '21h 20m',\n",
       " '5h 25m',\n",
       " '18h 45m',\n",
       " '12h 20m',\n",
       " '18h',\n",
       " '9h 15m',\n",
       " '11h 5m',\n",
       " '17h 30m',\n",
       " '13h 20m',\n",
       " '2h 35m',\n",
       " '2h 25m',\n",
       " '2h 40m',\n",
       " '3h',\n",
       " '1h 25m',\n",
       " '16h 35m',\n",
       " '12h 20m',\n",
       " '12h 15m',\n",
       " '7h 30m',\n",
       " '24h',\n",
       " '2h 45m',\n",
       " '8h 55m',\n",
       " '7h 10m',\n",
       " '14h 30m',\n",
       " '30h 20m',\n",
       " '19h 55m',\n",
       " '15h',\n",
       " '2h 55m',\n",
       " '12h 45m',\n",
       " '10h 10m',\n",
       " '5h 55m',\n",
       " '15h 25m',\n",
       " '16h 5m',\n",
       " '10h 10m',\n",
       " '2h 40m',\n",
       " '11h 55m',\n",
       " '2h 40m',\n",
       " '1h 25m',\n",
       " '14h 5m',\n",
       " '20h 15m',\n",
       " '2h 25m',\n",
       " '23h 10m',\n",
       " '18h 10m',\n",
       " '16h',\n",
       " '2h 50m',\n",
       " '2h 20m',\n",
       " '8h',\n",
       " '16h 55m',\n",
       " '3h 10m',\n",
       " '2h 45m',\n",
       " '14h',\n",
       " '23h 50m',\n",
       " '21h 40m',\n",
       " '21h 15m',\n",
       " '2h 45m',\n",
       " '10h 50m',\n",
       " '8h',\n",
       " '8h 15m',\n",
       " '5h 25m',\n",
       " '8h 35m',\n",
       " '11h 50m',\n",
       " '27h 35m',\n",
       " '8h 25m',\n",
       " '20h 55m',\n",
       " '4h 50m',\n",
       " '8h 10m',\n",
       " '2h 20m',\n",
       " '24h 25m',\n",
       " '2h 50m',\n",
       " '12h 20m',\n",
       " '12h 15m',\n",
       " '23h 35m',\n",
       " '16h 35m',\n",
       " '2h 50m',\n",
       " '25h 45m',\n",
       " '26h 10m',\n",
       " '28h 50m',\n",
       " '2h 45m',\n",
       " '25h 15m',\n",
       " '9h 20m',\n",
       " '4h 30m',\n",
       " '15h 25m',\n",
       " '1h 30m',\n",
       " '2h 40m',\n",
       " '9h 10m',\n",
       " '2h 45m',\n",
       " '22h 35m',\n",
       " '3h 5m',\n",
       " '11h 30m',\n",
       " '9h 30m',\n",
       " '12h 10m',\n",
       " '17h 35m',\n",
       " '5h 5m',\n",
       " '25h 50m',\n",
       " '20h',\n",
       " '13h',\n",
       " '18h 25m',\n",
       " '1h 30m',\n",
       " '9h 30m',\n",
       " '16h',\n",
       " '2h 20m',\n",
       " '4h 30m',\n",
       " '5h 45m',\n",
       " '24h 10m',\n",
       " '2h 35m',\n",
       " '2h 45m',\n",
       " '4h 55m',\n",
       " '25h 35m',\n",
       " '6h 20m',\n",
       " '3h 5m',\n",
       " '18h 40m',\n",
       " '2h 15m',\n",
       " '12h 10m',\n",
       " '19h 25m',\n",
       " '2h 50m',\n",
       " '8h 25m',\n",
       " '9h 15m',\n",
       " '2h 50m',\n",
       " '3h 15m',\n",
       " '2h 50m',\n",
       " '12h 20m',\n",
       " '2h 55m',\n",
       " '9h 35m',\n",
       " '2h 35m',\n",
       " '9h 30m',\n",
       " '29h 20m',\n",
       " '2h 55m',\n",
       " '5h 15m',\n",
       " '9h 5m',\n",
       " '10h 45m',\n",
       " '4h 55m',\n",
       " '1h 30m',\n",
       " '11h 40m',\n",
       " '2h 45m',\n",
       " '2h 55m',\n",
       " '10h',\n",
       " '2h 45m',\n",
       " '10h 15m',\n",
       " '1h 25m',\n",
       " '9h 15m',\n",
       " '22h 55m',\n",
       " '28h 50m',\n",
       " '37h 25m',\n",
       " '2h 50m',\n",
       " '1h 30m',\n",
       " '1h 30m',\n",
       " '25h 40m',\n",
       " '2h 35m',\n",
       " '6h 15m',\n",
       " '17h 30m',\n",
       " '5h 45m',\n",
       " '2h 35m',\n",
       " '25h 30m',\n",
       " '13h 55m',\n",
       " '2h 55m',\n",
       " '10h 15m',\n",
       " '8h 40m',\n",
       " '5h 30m',\n",
       " '12h',\n",
       " '2h 15m',\n",
       " '2h 15m',\n",
       " '2h 50m',\n",
       " '9h 10m',\n",
       " '10h 25m',\n",
       " '2h 20m',\n",
       " '4h 30m',\n",
       " '3h 10m',\n",
       " '23h 30m',\n",
       " '27h 20m',\n",
       " '12h 35m',\n",
       " '24h 15m',\n",
       " '1h 20m',\n",
       " '2h 45m',\n",
       " '3h',\n",
       " '11h',\n",
       " '13h 30m',\n",
       " '2h 50m',\n",
       " '2h 55m',\n",
       " '2h 45m',\n",
       " '11h 15m',\n",
       " '14h 35m',\n",
       " '13h 55m',\n",
       " '14h 5m',\n",
       " '15h 5m',\n",
       " '2h 15m',\n",
       " '15h',\n",
       " '12h 55m',\n",
       " '9h',\n",
       " '12h 15m',\n",
       " '7h 40m',\n",
       " '27h 20m',\n",
       " '1h 25m',\n",
       " '1h 20m',\n",
       " '5h 30m',\n",
       " '11h 45m',\n",
       " '3h 15m',\n",
       " '24h 55m',\n",
       " '27h 20m',\n",
       " '2h 55m',\n",
       " '17h 5m',\n",
       " '2h 40m',\n",
       " '8h',\n",
       " '3h',\n",
       " '27h 35m',\n",
       " '7h 30m',\n",
       " '22h 55m',\n",
       " '8h 35m',\n",
       " '29h 55m',\n",
       " '22h 15m',\n",
       " '1h 20m',\n",
       " '2h 40m',\n",
       " '3h',\n",
       " '12h 10m',\n",
       " '2h 35m',\n",
       " '11h 45m',\n",
       " '2h 35m',\n",
       " '1h 30m',\n",
       " '2h 40m',\n",
       " '2h 35m',\n",
       " '22h 55m',\n",
       " '14h 40m',\n",
       " '15h 25m',\n",
       " '7h 15m',\n",
       " '20h 10m',\n",
       " '20h 45m',\n",
       " '2h 30m',\n",
       " '23h 50m',\n",
       " '27h',\n",
       " '5h 30m',\n",
       " '11h 50m',\n",
       " '2h 15m',\n",
       " '24h 30m',\n",
       " '2h 20m',\n",
       " '6h 30m',\n",
       " '20h 25m',\n",
       " '2h 35m',\n",
       " '2h 55m',\n",
       " '5h 35m',\n",
       " '2h 30m',\n",
       " '14h 45m',\n",
       " '12h 20m',\n",
       " '25h 30m',\n",
       " '5h 35m',\n",
       " '11h 45m',\n",
       " '2h 55m',\n",
       " '5h 40m',\n",
       " '4h 5m',\n",
       " '8h',\n",
       " '2h 45m',\n",
       " '2h 40m',\n",
       " '2h 55m',\n",
       " '15h 55m',\n",
       " '23h 10m',\n",
       " '7h 20m',\n",
       " '2h 50m',\n",
       " '7h 30m',\n",
       " '3h',\n",
       " '7h 45m',\n",
       " '25h 20m',\n",
       " '10h 25m',\n",
       " '30h 20m',\n",
       " '2h 35m',\n",
       " '9h',\n",
       " '15h 10m',\n",
       " '28h 20m',\n",
       " '3h',\n",
       " '2h 45m',\n",
       " '4h 55m',\n",
       " '2h 40m',\n",
       " '22h 10m',\n",
       " '10h 10m',\n",
       " '2h 50m',\n",
       " '4h 20m',\n",
       " '11h',\n",
       " '3h',\n",
       " '22h 35m',\n",
       " '3h 5m',\n",
       " '2h 40m',\n",
       " '2h 50m',\n",
       " '21h 5m',\n",
       " '11h 50m',\n",
       " '25h 35m',\n",
       " '15h 25m',\n",
       " '2h 25m',\n",
       " '3h 40m',\n",
       " '2h 55m',\n",
       " '3h 10m',\n",
       " '11h 50m',\n",
       " '2h 50m',\n",
       " '2h 50m',\n",
       " '1h 30m',\n",
       " '11h 30m',\n",
       " '8h 50m',\n",
       " '20h 15m',\n",
       " '20h 10m',\n",
       " '16h 5m',\n",
       " '12h 35m',\n",
       " '17h 5m',\n",
       " '3h',\n",
       " '15h 30m',\n",
       " '11h 30m',\n",
       " '2h 20m',\n",
       " '23h 45m',\n",
       " '1h 30m',\n",
       " '2h 35m',\n",
       " '24h 45m',\n",
       " '21h 35m',\n",
       " '5h 30m',\n",
       " '12h 15m',\n",
       " '8h 5m',\n",
       " '5h',\n",
       " '2h 50m',\n",
       " '6h 25m',\n",
       " '2h 20m',\n",
       " '2h 45m',\n",
       " '12h 45m',\n",
       " '15h 50m',\n",
       " '27h',\n",
       " '26h 25m',\n",
       " '2h 55m',\n",
       " '24h 50m',\n",
       " '8h 40m',\n",
       " '25h 45m',\n",
       " '2h 50m',\n",
       " '6h 15m',\n",
       " '10h 30m',\n",
       " '26h',\n",
       " '17h 5m',\n",
       " '21h 20m',\n",
       " '5h 35m',\n",
       " '2h 50m',\n",
       " '25h 50m',\n",
       " '12h 10m',\n",
       " '17h 5m',\n",
       " '8h 30m',\n",
       " '23h 5m',\n",
       " '9h 20m',\n",
       " '7h 55m',\n",
       " '1h 30m',\n",
       " '2h 50m',\n",
       " '2h 15m',\n",
       " '10h',\n",
       " '2h 35m',\n",
       " '7h 45m',\n",
       " '2h 55m',\n",
       " '26h 20m',\n",
       " '2h 40m',\n",
       " '11h',\n",
       " '19h 25m',\n",
       " '2h 55m',\n",
       " '2h 45m',\n",
       " '23h 15m',\n",
       " '9h',\n",
       " '3h 10m',\n",
       " '6h 25m',\n",
       " '8h 40m',\n",
       " '2h 50m',\n",
       " '12h 20m',\n",
       " '5h 20m',\n",
       " '4h',\n",
       " '9h 45m',\n",
       " '2h 55m',\n",
       " '26h 20m',\n",
       " '2h 15m',\n",
       " '9h 45m',\n",
       " '24h 55m',\n",
       " '11h 55m',\n",
       " '8h 20m',\n",
       " '17h 25m',\n",
       " '2h 50m',\n",
       " '7h 5m',\n",
       " '21h 15m',\n",
       " '5h',\n",
       " '2h 25m',\n",
       " '5h 15m',\n",
       " '15h 10m',\n",
       " '11h 45m',\n",
       " '3h',\n",
       " '4h 55m',\n",
       " '2h 45m',\n",
       " '2h 30m',\n",
       " '9h 45m',\n",
       " '2h 40m',\n",
       " '6h 30m',\n",
       " '5h 30m',\n",
       " '2h 40m',\n",
       " '34h 5m',\n",
       " '15h 25m',\n",
       " '9h 30m',\n",
       " '6h 5m',\n",
       " '2h 40m',\n",
       " '5h 50m',\n",
       " '2h 45m',\n",
       " '27h 20m',\n",
       " '3h',\n",
       " '5h 15m',\n",
       " '16h',\n",
       " '7h',\n",
       " '8h 40m',\n",
       " '9h',\n",
       " '2h 20m',\n",
       " '2h 20m',\n",
       " '6h 20m',\n",
       " '4h 25m',\n",
       " '2h 20m',\n",
       " '11h 5m',\n",
       " '16h 55m',\n",
       " '13h 45m',\n",
       " '25h 45m',\n",
       " '13h 55m',\n",
       " '5h 15m',\n",
       " '19h 15m',\n",
       " '7h 30m',\n",
       " '9h',\n",
       " '24h',\n",
       " '18h 10m',\n",
       " '2h 55m',\n",
       " '1h 30m',\n",
       " '21h 20m',\n",
       " '6h 15m',\n",
       " '14h 30m',\n",
       " '1h 20m',\n",
       " '12h 55m',\n",
       " '2h 25m',\n",
       " '22h 30m',\n",
       " '22h 55m',\n",
       " '5h 25m',\n",
       " '1h 25m',\n",
       " '7h 15m',\n",
       " '12h 20m',\n",
       " '20h 10m',\n",
       " '21h 15m',\n",
       " '2h 15m',\n",
       " '10h 30m',\n",
       " '14h 5m',\n",
       " '2h 50m',\n",
       " '16h 25m',\n",
       " '5h 15m',\n",
       " '13h 50m',\n",
       " '2h 15m',\n",
       " '7h 15m',\n",
       " '27h 5m',\n",
       " '27h 35m',\n",
       " '5h',\n",
       " '2h 50m',\n",
       " '2h 50m',\n",
       " '15h 20m',\n",
       " '5h 20m',\n",
       " '10h 10m',\n",
       " '27h 35m',\n",
       " '9h 35m',\n",
       " '28h 10m',\n",
       " '14h',\n",
       " '2h 35m',\n",
       " '2h 55m',\n",
       " '2h 35m',\n",
       " '4h 40m',\n",
       " '2h 30m',\n",
       " '11h 15m',\n",
       " '7h 55m',\n",
       " '8h 50m',\n",
       " '1h 25m',\n",
       " '15h 40m',\n",
       " '2h 35m',\n",
       " '2h 55m',\n",
       " '13h 25m',\n",
       " '4h 35m',\n",
       " '18h 30m',\n",
       " '2h 15m',\n",
       " '38h 15m',\n",
       " '3h 5m',\n",
       " '25h 50m',\n",
       " '3h 10m',\n",
       " '2h 50m',\n",
       " '11h 30m',\n",
       " '6h 35m',\n",
       " '27h 35m',\n",
       " '2h 35m',\n",
       " '7h 30m',\n",
       " '3h 15m',\n",
       " '9h 35m',\n",
       " '12h 30m',\n",
       " '11h 20m',\n",
       " '3h',\n",
       " '2h 35m',\n",
       " '1h 30m',\n",
       " '26h 10m',\n",
       " '4h 55m',\n",
       " '2h 45m',\n",
       " '8h 40m',\n",
       " '7h 5m',\n",
       " '2h 45m',\n",
       " '24h 50m',\n",
       " '2h 20m',\n",
       " '11h',\n",
       " '9h',\n",
       " '2h 55m',\n",
       " '3h 5m',\n",
       " '2h 35m',\n",
       " '13h',\n",
       " '1h 25m',\n",
       " '7h 35m',\n",
       " '2h 40m',\n",
       " '12h 55m',\n",
       " '29h 20m',\n",
       " '5h',\n",
       " '8h 40m',\n",
       " '3h',\n",
       " '3h',\n",
       " '2h 45m',\n",
       " '12h 10m',\n",
       " '2h 20m',\n",
       " '7h 55m',\n",
       " '29h 35m',\n",
       " '26h 55m',\n",
       " '12h 45m',\n",
       " '7h 35m',\n",
       " '2h 30m',\n",
       " '11h 45m',\n",
       " '23h 40m',\n",
       " '13h 50m',\n",
       " '12h 50m',\n",
       " '9h 50m',\n",
       " '2h 30m',\n",
       " '21h 55m',\n",
       " '26h 10m',\n",
       " '2h 55m',\n",
       " '20h 15m',\n",
       " '20h 10m',\n",
       " '10h 55m',\n",
       " '2h 30m',\n",
       " '21h 10m',\n",
       " '2h 35m',\n",
       " '20h 40m',\n",
       " '2h 50m',\n",
       " '6h 30m',\n",
       " '30h',\n",
       " '13h 10m',\n",
       " '2h 55m',\n",
       " '18h',\n",
       " '8h',\n",
       " '8h 45m',\n",
       " '12h 30m',\n",
       " '13h 20m',\n",
       " '6h 10m',\n",
       " '7h 30m',\n",
       " '19h 15m',\n",
       " '2h 35m',\n",
       " '12h',\n",
       " '3h',\n",
       " '2h 50m',\n",
       " '1h 25m',\n",
       " '23h 5m',\n",
       " '2h 50m',\n",
       " '22h 5m',\n",
       " '2h 15m',\n",
       " '5h 45m',\n",
       " '2h 50m',\n",
       " '9h 30m',\n",
       " '8h 55m',\n",
       " '17h 45m',\n",
       " '2h 50m',\n",
       " '21h 45m',\n",
       " '12h 35m',\n",
       " '1h 30m',\n",
       " '2h 15m',\n",
       " '3h 55m',\n",
       " '2h 45m',\n",
       " '7h 30m',\n",
       " '17h 20m',\n",
       " '1h 30m',\n",
       " '1h 30m',\n",
       " '30h 30m',\n",
       " '5h',\n",
       " '11h 15m',\n",
       " '2h 50m',\n",
       " '19h 5m',\n",
       " '6h 35m',\n",
       " '7h 30m',\n",
       " '2h 15m',\n",
       " '2h 45m',\n",
       " '12h 45m',\n",
       " '2h 50m',\n",
       " '26h 35m',\n",
       " '12h 55m',\n",
       " '1h 30m',\n",
       " '8h 40m',\n",
       " '14h',\n",
       " '23h 30m',\n",
       " '29h 55m',\n",
       " '22h 10m',\n",
       " '4h 50m',\n",
       " '2h 45m',\n",
       " '13h 30m',\n",
       " '13h 20m',\n",
       " '2h 20m',\n",
       " '11h 55m',\n",
       " '5h 10m',\n",
       " '11h 45m',\n",
       " '3h',\n",
       " '6h 10m',\n",
       " '2h 20m',\n",
       " '10h 45m',\n",
       " '2h 15m',\n",
       " '2h 55m',\n",
       " '1h 30m',\n",
       " '7h 35m',\n",
       " '26h 35m',\n",
       " '4h 45m',\n",
       " '21h 25m',\n",
       " '8h 35m',\n",
       " '8h 30m',\n",
       " '2h 15m',\n",
       " '12h 40m',\n",
       " '8h 25m',\n",
       " '25h 40m',\n",
       " '2h 45m',\n",
       " '29h 20m',\n",
       " '2h 40m',\n",
       " '2h 50m',\n",
       " '2h 20m',\n",
       " '7h 15m',\n",
       " '20h 15m',\n",
       " '11h 45m',\n",
       " '2h 35m',\n",
       " '13h 30m',\n",
       " '1h 30m',\n",
       " '24h 35m',\n",
       " '20h 35m',\n",
       " '2h 50m',\n",
       " '4h 35m',\n",
       " '2h 20m',\n",
       " '11h 45m',\n",
       " '1h 30m',\n",
       " '12h 50m',\n",
       " '24h 30m',\n",
       " '11h 30m',\n",
       " '4h',\n",
       " '11h',\n",
       " '5h 25m',\n",
       " '2h 35m',\n",
       " '5h 10m',\n",
       " '10h 10m',\n",
       " '26h 55m',\n",
       " '7h 15m',\n",
       " '8h 10m',\n",
       " '2h 55m',\n",
       " '5h 15m',\n",
       " '2h 20m',\n",
       " '1h 25m',\n",
       " '4h 50m',\n",
       " '2h 20m',\n",
       " '2h 20m',\n",
       " '13h 15m',\n",
       " '19h 10m',\n",
       " '22h 40m',\n",
       " '14h 50m',\n",
       " '15h 10m',\n",
       " '7h 5m',\n",
       " '1h 25m',\n",
       " '2h 55m',\n",
       " '8h',\n",
       " '2h 45m',\n",
       " '14h 55m',\n",
       " '1h 30m',\n",
       " '16h 15m',\n",
       " '2h 50m',\n",
       " '5h',\n",
       " '22h 15m',\n",
       " '5h 30m',\n",
       " '8h 35m',\n",
       " '15h 25m',\n",
       " '21h',\n",
       " '13h 30m',\n",
       " '2h 50m',\n",
       " '6h 45m',\n",
       " '1h 30m',\n",
       " '8h 40m',\n",
       " '1h 30m',\n",
       " '2h 50m',\n",
       " '2h 35m',\n",
       " '16h 5m',\n",
       " '23h 50m',\n",
       " '27h 5m',\n",
       " '16h 15m',\n",
       " '15h 25m',\n",
       " '2h 50m',\n",
       " '8h 35m',\n",
       " '13h 50m',\n",
       " '2h 40m',\n",
       " '2h 25m',\n",
       " '3h 10m',\n",
       " '2h 55m',\n",
       " '28h 40m',\n",
       " '2h 50m',\n",
       " '2h 35m',\n",
       " '9h 40m',\n",
       " '16h 40m',\n",
       " '6h 20m',\n",
       " '27h',\n",
       " '14h 35m',\n",
       " '12h 10m',\n",
       " '7h 35m',\n",
       " '2h 20m',\n",
       " '19h 10m',\n",
       " '20h',\n",
       " '3h',\n",
       " '5h 10m',\n",
       " '2h 40m',\n",
       " '29h 35m',\n",
       " '4h 55m',\n",
       " '3h',\n",
       " '12h 30m',\n",
       " '12h 35m',\n",
       " '26h 20m',\n",
       " '13h 15m',\n",
       " '2h 50m',\n",
       " '12h 45m',\n",
       " '16h 20m',\n",
       " '2h 40m',\n",
       " '8h 15m',\n",
       " '12h',\n",
       " '2h 50m',\n",
       " '11h',\n",
       " '2h 20m',\n",
       " '13h 50m',\n",
       " '8h 10m',\n",
       " '12h 10m',\n",
       " '2h 40m',\n",
       " '2h 45m',\n",
       " '2h 50m',\n",
       " '24h',\n",
       " '3h',\n",
       " '12h 35m',\n",
       " '25h 50m',\n",
       " '2h 55m',\n",
       " '17h 5m',\n",
       " '29h 20m',\n",
       " '8h 55m',\n",
       " '3h 5m',\n",
       " '9h',\n",
       " '10h 25m',\n",
       " '16h 45m',\n",
       " '2h 45m',\n",
       " '26h 20m',\n",
       " '13h 15m',\n",
       " '10h 30m',\n",
       " '7h 35m',\n",
       " '11h',\n",
       " '2h 50m',\n",
       " '25h 45m',\n",
       " '6h 25m',\n",
       " '1h 25m',\n",
       " '20h 10m',\n",
       " '11h 55m',\n",
       " '2h 50m',\n",
       " '5h',\n",
       " '27h',\n",
       " '2h 50m',\n",
       " '1h 15m',\n",
       " '10h 15m',\n",
       " '24h 50m',\n",
       " '2h 50m',\n",
       " '20h',\n",
       " '5h 30m',\n",
       " '2h 45m',\n",
       " '6h 55m',\n",
       " '2h 45m',\n",
       " '5h 15m',\n",
       " '6h 15m',\n",
       " '2h 50m',\n",
       " '19h 25m',\n",
       " '2h 55m',\n",
       " '11h 25m',\n",
       " '14h 5m',\n",
       " '2h 45m',\n",
       " '3h 15m',\n",
       " '14h 20m',\n",
       " '12h 30m',\n",
       " '5h 20m',\n",
       " '26h 20m',\n",
       " '3h 5m',\n",
       " '1h 30m',\n",
       " '7h 5m',\n",
       " '6h 10m',\n",
       " '8h',\n",
       " '12h 5m',\n",
       " '12h 55m',\n",
       " '9h 35m',\n",
       " '15h 10m',\n",
       " '11h 40m',\n",
       " '2h 55m',\n",
       " '4h 30m',\n",
       " '2h 40m',\n",
       " '2h 30m',\n",
       " '24h 10m',\n",
       " '28h 20m',\n",
       " '1h 25m',\n",
       " '10h 10m',\n",
       " '11h 30m',\n",
       " '2h 50m',\n",
       " '13h 45m',\n",
       " '6h 25m',\n",
       " '12h 55m',\n",
       " '4h 25m',\n",
       " '13h 30m',\n",
       " '24h 5m',\n",
       " '16h 5m',\n",
       " '8h 20m',\n",
       " '3h 40m',\n",
       " '9h 30m',\n",
       " '28h 15m',\n",
       " '13h 20m',\n",
       " '17h 50m',\n",
       " '20h 20m',\n",
       " '28h 5m',\n",
       " '15h 25m',\n",
       " '12h 5m',\n",
       " '10h 20m',\n",
       " '12h 25m',\n",
       " '7h 35m',\n",
       " '2h 50m',\n",
       " '4h 35m',\n",
       " '11h 15m',\n",
       " '2h 35m',\n",
       " '26h',\n",
       " '2h 25m',\n",
       " '2h 35m',\n",
       " '14h 15m',\n",
       " '2h 35m',\n",
       " '22h 5m',\n",
       " '6h 35m',\n",
       " '8h 30m',\n",
       " '18h 45m',\n",
       " '35h 15m',\n",
       " '2h 15m',\n",
       " '2h 30m',\n",
       " '2h 20m',\n",
       " '2h 30m',\n",
       " '7h 35m',\n",
       " '35h 35m',\n",
       " '26h 30m',\n",
       " '11h 30m',\n",
       " '26h 40m',\n",
       " '3h',\n",
       " '1h 30m',\n",
       " '2h 55m',\n",
       " '14h 15m',\n",
       " '16h 55m',\n",
       " '12h 20m',\n",
       " '29h 35m',\n",
       " '20h 20m',\n",
       " '8h 25m',\n",
       " '13h 50m',\n",
       " '10h',\n",
       " '19h 25m',\n",
       " '28h',\n",
       " '2h 50m',\n",
       " '17h 20m',\n",
       " '2h 45m',\n",
       " '2h 55m',\n",
       " '13h 25m',\n",
       " '12h 55m',\n",
       " '9h 45m',\n",
       " '21h 25m',\n",
       " '15h 40m',\n",
       " '2h 20m',\n",
       " '14h 25m',\n",
       " '2h 50m',\n",
       " '6h 35m',\n",
       " '22h 10m',\n",
       " '14h 25m',\n",
       " '2h 30m',\n",
       " '23h 35m',\n",
       " '13h 5m',\n",
       " '1h 30m',\n",
       " '5h 5m',\n",
       " '1h 20m',\n",
       " '22h 55m',\n",
       " '1h 30m',\n",
       " '2h 35m',\n",
       " '37h 20m',\n",
       " '2h 50m',\n",
       " '2h 50m',\n",
       " '36h 10m',\n",
       " '9h 15m',\n",
       " '1h 25m',\n",
       " '5h 5m',\n",
       " '2h 15m',\n",
       " '15h 10m',\n",
       " '25h 55m',\n",
       " '5h 40m',\n",
       " '7h 30m',\n",
       " '17h 45m',\n",
       " '2h 20m',\n",
       " '8h 15m',\n",
       " '3h 40m',\n",
       " '5h 55m',\n",
       " '2h 30m',\n",
       " '17h 30m',\n",
       " '13h 50m',\n",
       " '2h 15m',\n",
       " '21h 35m',\n",
       " '9h 30m',\n",
       " '8h 40m',\n",
       " '10h 25m',\n",
       " '35h 5m',\n",
       " '14h 15m',\n",
       " '3h',\n",
       " '25h 50m',\n",
       " '2h 30m',\n",
       " '8h 40m',\n",
       " '10h',\n",
       " '11h 30m',\n",
       " '7h 30m',\n",
       " '7h',\n",
       " ...]"
      ]
     },
     "execution_count": 22,
     "metadata": {},
     "output_type": "execute_result"
    }
   ],
   "source": [
    " \n",
    "# cleaning duration column in dataset to predict\n",
    "duration = list(df_train[\"Duration\"])\n",
    "duration"
   ]
  },
  {
   "cell_type": "code",
   "execution_count": 23,
   "metadata": {},
   "outputs": [
    {
     "data": {
      "text/plain": [
       "['7h', '25m']"
      ]
     },
     "execution_count": 23,
     "metadata": {},
     "output_type": "execute_result"
    }
   ],
   "source": [
    "d1=duration[1].split()\n",
    "d1"
   ]
  },
  {
   "cell_type": "code",
   "execution_count": 24,
   "metadata": {},
   "outputs": [
    {
     "data": {
      "text/plain": [
       "'7h 25m'"
      ]
     },
     "execution_count": 24,
     "metadata": {},
     "output_type": "execute_result"
    }
   ],
   "source": [
    "len(d1)\n",
    "\n",
    "duration[1].strip()  # strip function will remove whitespace between numbers"
   ]
  },
  {
   "cell_type": "code",
   "execution_count": 25,
   "metadata": {},
   "outputs": [],
   "source": [
    "# training set, to convert hours into minute\n",
    "for i in range(len(duration)) :\n",
    "    if len(duration[i].split()) != 2:\n",
    "        if 'h' in duration[i] :\n",
    "            duration[i] = duration[i].strip() + ' 0m'\n",
    "        elif 'm' in duration[i] :\n",
    "            duration[i] = '0h {}'.format(duration[i].strip())\n",
    "            dur_hours = []\n",
    "dur_minutes = []  \n",
    "dur_seconds = []\n",
    "for i in range(len(duration)) :\n",
    "    dur_minutes.append(int(duration[i].split()[0][:-1])*60 + int(duration[i].split()[1][:-1]))\n",
    "    #dur_seconds.append(int(duration[i].split()[0][:-1])*60*60 + int(duration[i].split()[1][:-1])*60)\n",
    "\n",
    "df_train[\"Duration_minutes\"] = dur_minutes\n",
    "df_train[\"Duration_seconds\"]= df_train[\"Duration_minutes\"]*60\n",
    "df_train.drop(['Duration'],axis=1,inplace=True)\n"
   ]
  },
  {
   "cell_type": "code",
   "execution_count": 26,
   "metadata": {},
   "outputs": [],
   "source": [
    "\n",
    "# cleaning duration column in dataset to predict\n",
    "duration = list(df_to_predict[\"Duration\"])\n",
    "\n",
    "for i in range(len(duration)) :\n",
    "    if len(duration[i].split()) != 2:\n",
    "        if 'h' in duration[i] :\n",
    "            duration[i] = duration[i].strip() + ' 0m'\n",
    "        elif 'm' in duration[i] :\n",
    "            duration[i] = '0h {}'.format(duration[i].strip())\n",
    "            dur_hours = []\n",
    "dur_minutes = []  \n",
    "dur_seconds = []\n",
    "for i in range(len(duration)) :\n",
    "    dur_minutes.append(int(duration[i].split()[0][:-1])*60 + int(duration[i].split()[1][:-1]))\n",
    "    #dur_seconds.append(int(duration[i].split()[0][:-1])*60*60 + int(duration[i].split()[1][:-1])*60)\n",
    "\n",
    "df_to_predict[\"Duration_minutes\"] = dur_minutes\n",
    "df_to_predict[\"Duration_seconds\"]= df_to_predict[\"Duration_minutes\"]*60\n",
    "df_to_predict.drop(['Duration'],axis=1,inplace=True)\n",
    "\n"
   ]
  },
  {
   "cell_type": "code",
   "execution_count": 27,
   "metadata": {},
   "outputs": [],
   "source": [
    "# Cleaning departure & arrival time\n",
    "df_train[\"dep_time_Hour\"]=pd.to_datetime(df_train['Dep_Time']).dt.hour\n",
    "df_train[\"dep_time_Min\"]=pd.to_datetime(df_train['Dep_Time']).dt.minute\n",
    "df_train.drop(['Dep_Time'],axis=1,inplace=True)\n",
    "\n",
    "df_train[\"Arr_time_Hour\"]=pd.to_datetime(df_train['Arrival_Time']).dt.hour\n",
    "df_train[\"Arr_time_Min\"]=pd.to_datetime(df_train['Arrival_Time']).dt.minute\n",
    "df_train.drop(['Arrival_Time'],axis=1,inplace=True)\n",
    "\n"
   ]
  },
  {
   "cell_type": "code",
   "execution_count": 28,
   "metadata": {
    "scrolled": true
   },
   "outputs": [
    {
     "data": {
      "text/html": [
       "<div>\n",
       "<style scoped>\n",
       "    .dataframe tbody tr th:only-of-type {\n",
       "        vertical-align: middle;\n",
       "    }\n",
       "\n",
       "    .dataframe tbody tr th {\n",
       "        vertical-align: top;\n",
       "    }\n",
       "\n",
       "    .dataframe thead th {\n",
       "        text-align: right;\n",
       "    }\n",
       "</style>\n",
       "<table border=\"1\" class=\"dataframe\">\n",
       "  <thead>\n",
       "    <tr style=\"text-align: right;\">\n",
       "      <th></th>\n",
       "      <th>Airline</th>\n",
       "      <th>Source</th>\n",
       "      <th>Destination</th>\n",
       "      <th>Route</th>\n",
       "      <th>Total_Stops</th>\n",
       "      <th>Additional_Info</th>\n",
       "      <th>Price</th>\n",
       "      <th>is_weekend</th>\n",
       "      <th>dayname_of_week</th>\n",
       "      <th>day_of_Journey</th>\n",
       "      <th>Month_of_Journey</th>\n",
       "      <th>Duration_minutes</th>\n",
       "      <th>Duration_seconds</th>\n",
       "      <th>dep_time_Hour</th>\n",
       "      <th>dep_time_Min</th>\n",
       "      <th>Arr_time_Hour</th>\n",
       "      <th>Arr_time_Min</th>\n",
       "    </tr>\n",
       "  </thead>\n",
       "  <tbody>\n",
       "    <tr>\n",
       "      <th>0</th>\n",
       "      <td>IndiGo</td>\n",
       "      <td>Banglore</td>\n",
       "      <td>New Delhi</td>\n",
       "      <td>BLR → DEL</td>\n",
       "      <td>0</td>\n",
       "      <td>No info</td>\n",
       "      <td>3897</td>\n",
       "      <td>1</td>\n",
       "      <td>Sunday</td>\n",
       "      <td>24</td>\n",
       "      <td>3</td>\n",
       "      <td>170</td>\n",
       "      <td>10200</td>\n",
       "      <td>22</td>\n",
       "      <td>20</td>\n",
       "      <td>1</td>\n",
       "      <td>10</td>\n",
       "    </tr>\n",
       "    <tr>\n",
       "      <th>1</th>\n",
       "      <td>Air India</td>\n",
       "      <td>Kolkata</td>\n",
       "      <td>Banglore</td>\n",
       "      <td>CCU → IXR → BBI → BLR</td>\n",
       "      <td>2</td>\n",
       "      <td>No info</td>\n",
       "      <td>7662</td>\n",
       "      <td>0</td>\n",
       "      <td>Wednesday</td>\n",
       "      <td>1</td>\n",
       "      <td>5</td>\n",
       "      <td>445</td>\n",
       "      <td>26700</td>\n",
       "      <td>5</td>\n",
       "      <td>50</td>\n",
       "      <td>13</td>\n",
       "      <td>15</td>\n",
       "    </tr>\n",
       "    <tr>\n",
       "      <th>2</th>\n",
       "      <td>Jet Airways</td>\n",
       "      <td>Delhi</td>\n",
       "      <td>Cochin</td>\n",
       "      <td>DEL → LKO → BOM → COK</td>\n",
       "      <td>2</td>\n",
       "      <td>No info</td>\n",
       "      <td>13882</td>\n",
       "      <td>1</td>\n",
       "      <td>Sunday</td>\n",
       "      <td>9</td>\n",
       "      <td>6</td>\n",
       "      <td>1140</td>\n",
       "      <td>68400</td>\n",
       "      <td>9</td>\n",
       "      <td>25</td>\n",
       "      <td>4</td>\n",
       "      <td>25</td>\n",
       "    </tr>\n",
       "    <tr>\n",
       "      <th>3</th>\n",
       "      <td>IndiGo</td>\n",
       "      <td>Kolkata</td>\n",
       "      <td>Banglore</td>\n",
       "      <td>CCU → NAG → BLR</td>\n",
       "      <td>1</td>\n",
       "      <td>No info</td>\n",
       "      <td>6218</td>\n",
       "      <td>1</td>\n",
       "      <td>Sunday</td>\n",
       "      <td>12</td>\n",
       "      <td>5</td>\n",
       "      <td>325</td>\n",
       "      <td>19500</td>\n",
       "      <td>18</td>\n",
       "      <td>5</td>\n",
       "      <td>23</td>\n",
       "      <td>30</td>\n",
       "    </tr>\n",
       "    <tr>\n",
       "      <th>4</th>\n",
       "      <td>IndiGo</td>\n",
       "      <td>Banglore</td>\n",
       "      <td>New Delhi</td>\n",
       "      <td>BLR → NAG → DEL</td>\n",
       "      <td>1</td>\n",
       "      <td>No info</td>\n",
       "      <td>13302</td>\n",
       "      <td>0</td>\n",
       "      <td>Friday</td>\n",
       "      <td>1</td>\n",
       "      <td>3</td>\n",
       "      <td>285</td>\n",
       "      <td>17100</td>\n",
       "      <td>16</td>\n",
       "      <td>50</td>\n",
       "      <td>21</td>\n",
       "      <td>35</td>\n",
       "    </tr>\n",
       "  </tbody>\n",
       "</table>\n",
       "</div>"
      ],
      "text/plain": [
       "       Airline    Source Destination                  Route  Total_Stops  \\\n",
       "0       IndiGo  Banglore   New Delhi              BLR → DEL            0   \n",
       "1    Air India   Kolkata    Banglore  CCU → IXR → BBI → BLR            2   \n",
       "2  Jet Airways     Delhi      Cochin  DEL → LKO → BOM → COK            2   \n",
       "3       IndiGo   Kolkata    Banglore        CCU → NAG → BLR            1   \n",
       "4       IndiGo  Banglore   New Delhi        BLR → NAG → DEL            1   \n",
       "\n",
       "  Additional_Info  Price  is_weekend dayname_of_week  day_of_Journey  \\\n",
       "0         No info   3897           1          Sunday              24   \n",
       "1         No info   7662           0       Wednesday               1   \n",
       "2         No info  13882           1          Sunday               9   \n",
       "3         No info   6218           1          Sunday              12   \n",
       "4         No info  13302           0          Friday               1   \n",
       "\n",
       "   Month_of_Journey  Duration_minutes  Duration_seconds  dep_time_Hour  \\\n",
       "0                 3               170             10200             22   \n",
       "1                 5               445             26700              5   \n",
       "2                 6              1140             68400              9   \n",
       "3                 5               325             19500             18   \n",
       "4                 3               285             17100             16   \n",
       "\n",
       "   dep_time_Min  Arr_time_Hour  Arr_time_Min  \n",
       "0            20              1            10  \n",
       "1            50             13            15  \n",
       "2            25              4            25  \n",
       "3             5             23            30  \n",
       "4            50             21            35  "
      ]
     },
     "execution_count": 28,
     "metadata": {},
     "output_type": "execute_result"
    }
   ],
   "source": [
    "df_train.head()"
   ]
  },
  {
   "cell_type": "code",
   "execution_count": 29,
   "metadata": {},
   "outputs": [],
   "source": [
    "# Cleaning departure & arrival time for predictin time\n",
    "df_to_predict[\"dep_time_Hour\"]=pd.to_datetime(df_to_predict['Dep_Time']).dt.hour\n",
    "df_to_predict[\"dep_time_Min\"]=pd.to_datetime(df_to_predict['Dep_Time']).dt.minute\n",
    "df_to_predict.drop(['Dep_Time'],axis=1,inplace=True)\n",
    "\n",
    "df_to_predict[\"Arr_time_Hour\"]=pd.to_datetime(df_to_predict['Arrival_Time']).dt.hour\n",
    "df_to_predict[\"Arr_time_Min\"]=pd.to_datetime(df_to_predict['Arrival_Time']).dt.minute\n",
    "df_to_predict.drop(['Arrival_Time'],axis=1,inplace=True)"
   ]
  },
  {
   "cell_type": "code",
   "execution_count": 30,
   "metadata": {},
   "outputs": [],
   "source": [
    "# TO define dependent & independent variable\n",
    "X=df_train.drop(['Price'],axis=1)\n",
    "y=np.log1p(df_train[\"Price\"])\n",
    "X.columns\n",
    "X_to_predict=df_to_predict"
   ]
  },
  {
   "cell_type": "code",
   "execution_count": 31,
   "metadata": {},
   "outputs": [],
   "source": [
    "\n",
    "#Separate categorical and numerical columns in dataframe\n",
    "X_categorical = X.select_dtypes(exclude=['int64','int', 'float'])\n",
    "X_numerical = X.select_dtypes(include=['int','int64', 'float'])\n",
    "\n",
    "X_to_predict_categorical = X_to_predict.select_dtypes(exclude=['int64','int', 'float64'])\n",
    "X_to_predict_numerical = X_to_predict.select_dtypes(include=['int', 'int64','float'])"
   ]
  },
  {
   "cell_type": "code",
   "execution_count": 32,
   "metadata": {},
   "outputs": [
    {
     "data": {
      "text/plain": [
       "Airline             object\n",
       "Source              object\n",
       "Destination         object\n",
       "Route               object\n",
       "Total_Stops          int32\n",
       "Additional_Info     object\n",
       "is_weekend           int32\n",
       "dayname_of_week     object\n",
       "day_of_Journey       int64\n",
       "Month_of_Journey     int64\n",
       "Duration_minutes     int64\n",
       "Duration_seconds     int64\n",
       "dep_time_Hour        int64\n",
       "dep_time_Min         int64\n",
       "Arr_time_Hour        int64\n",
       "Arr_time_Min         int64\n",
       "dtype: object"
      ]
     },
     "execution_count": 32,
     "metadata": {},
     "output_type": "execute_result"
    }
   ],
   "source": [
    "X.dtypes\n"
   ]
  },
  {
   "cell_type": "code",
   "execution_count": 33,
   "metadata": {
    "scrolled": true
   },
   "outputs": [
    {
     "data": {
      "text/plain": [
       "Index(['Airline', 'Source', 'Destination', 'Route', 'Additional_Info',\n",
       "       'dayname_of_week'],\n",
       "      dtype='object')"
      ]
     },
     "execution_count": 33,
     "metadata": {},
     "output_type": "execute_result"
    }
   ],
   "source": [
    "X_categorical.columns"
   ]
  },
  {
   "cell_type": "code",
   "execution_count": 34,
   "metadata": {},
   "outputs": [
    {
     "data": {
      "text/plain": [
       "Index(['Airline', 'Source', 'Destination', 'Route', 'Additional_Info',\n",
       "       'dayname_of_week'],\n",
       "      dtype='object')"
      ]
     },
     "execution_count": 34,
     "metadata": {},
     "output_type": "execute_result"
    }
   ],
   "source": [
    "X_to_predict_categorical.columns"
   ]
  },
  {
   "cell_type": "code",
   "execution_count": 35,
   "metadata": {},
   "outputs": [
    {
     "data": {
      "text/html": [
       "<div>\n",
       "<style scoped>\n",
       "    .dataframe tbody tr th:only-of-type {\n",
       "        vertical-align: middle;\n",
       "    }\n",
       "\n",
       "    .dataframe tbody tr th {\n",
       "        vertical-align: top;\n",
       "    }\n",
       "\n",
       "    .dataframe thead th {\n",
       "        text-align: right;\n",
       "    }\n",
       "</style>\n",
       "<table border=\"1\" class=\"dataframe\">\n",
       "  <thead>\n",
       "    <tr style=\"text-align: right;\">\n",
       "      <th></th>\n",
       "      <th>Total_Stops</th>\n",
       "      <th>is_weekend</th>\n",
       "      <th>day_of_Journey</th>\n",
       "      <th>Month_of_Journey</th>\n",
       "      <th>Duration_minutes</th>\n",
       "      <th>Duration_seconds</th>\n",
       "      <th>dep_time_Hour</th>\n",
       "      <th>dep_time_Min</th>\n",
       "      <th>Arr_time_Hour</th>\n",
       "      <th>Arr_time_Min</th>\n",
       "    </tr>\n",
       "  </thead>\n",
       "  <tbody>\n",
       "    <tr>\n",
       "      <th>0</th>\n",
       "      <td>0</td>\n",
       "      <td>1</td>\n",
       "      <td>24</td>\n",
       "      <td>3</td>\n",
       "      <td>170</td>\n",
       "      <td>10200</td>\n",
       "      <td>22</td>\n",
       "      <td>20</td>\n",
       "      <td>1</td>\n",
       "      <td>10</td>\n",
       "    </tr>\n",
       "    <tr>\n",
       "      <th>1</th>\n",
       "      <td>2</td>\n",
       "      <td>0</td>\n",
       "      <td>1</td>\n",
       "      <td>5</td>\n",
       "      <td>445</td>\n",
       "      <td>26700</td>\n",
       "      <td>5</td>\n",
       "      <td>50</td>\n",
       "      <td>13</td>\n",
       "      <td>15</td>\n",
       "    </tr>\n",
       "    <tr>\n",
       "      <th>2</th>\n",
       "      <td>2</td>\n",
       "      <td>1</td>\n",
       "      <td>9</td>\n",
       "      <td>6</td>\n",
       "      <td>1140</td>\n",
       "      <td>68400</td>\n",
       "      <td>9</td>\n",
       "      <td>25</td>\n",
       "      <td>4</td>\n",
       "      <td>25</td>\n",
       "    </tr>\n",
       "    <tr>\n",
       "      <th>3</th>\n",
       "      <td>1</td>\n",
       "      <td>1</td>\n",
       "      <td>12</td>\n",
       "      <td>5</td>\n",
       "      <td>325</td>\n",
       "      <td>19500</td>\n",
       "      <td>18</td>\n",
       "      <td>5</td>\n",
       "      <td>23</td>\n",
       "      <td>30</td>\n",
       "    </tr>\n",
       "    <tr>\n",
       "      <th>4</th>\n",
       "      <td>1</td>\n",
       "      <td>0</td>\n",
       "      <td>1</td>\n",
       "      <td>3</td>\n",
       "      <td>285</td>\n",
       "      <td>17100</td>\n",
       "      <td>16</td>\n",
       "      <td>50</td>\n",
       "      <td>21</td>\n",
       "      <td>35</td>\n",
       "    </tr>\n",
       "  </tbody>\n",
       "</table>\n",
       "</div>"
      ],
      "text/plain": [
       "   Total_Stops  is_weekend  day_of_Journey  Month_of_Journey  \\\n",
       "0            0           1              24                 3   \n",
       "1            2           0               1                 5   \n",
       "2            2           1               9                 6   \n",
       "3            1           1              12                 5   \n",
       "4            1           0               1                 3   \n",
       "\n",
       "   Duration_minutes  Duration_seconds  dep_time_Hour  dep_time_Min  \\\n",
       "0               170             10200             22            20   \n",
       "1               445             26700              5            50   \n",
       "2              1140             68400              9            25   \n",
       "3               325             19500             18             5   \n",
       "4               285             17100             16            50   \n",
       "\n",
       "   Arr_time_Hour  Arr_time_Min  \n",
       "0              1            10  \n",
       "1             13            15  \n",
       "2              4            25  \n",
       "3             23            30  \n",
       "4             21            35  "
      ]
     },
     "execution_count": 35,
     "metadata": {},
     "output_type": "execute_result"
    }
   ],
   "source": [
    "X_numerical.head()"
   ]
  },
  {
   "cell_type": "code",
   "execution_count": 36,
   "metadata": {},
   "outputs": [],
   "source": [
    "#Create a back up copy specifically for plotting graphs\n",
    "X_numerical_graph = X_numerical.copy()\n",
    "X_categorical_graph = X_categorical.copy()"
   ]
  },
  {
   "cell_type": "code",
   "execution_count": 37,
   "metadata": {},
   "outputs": [
    {
     "name": "stderr",
     "output_type": "stream",
     "text": [
      "C:\\Users\\inshn\\AppData\\Local\\Continuum\\anaconda3\\lib\\site-packages\\pandas\\core\\generic.py:4619: SettingWithCopyWarning: \n",
      "A value is trying to be set on a copy of a slice from a DataFrame\n",
      "\n",
      "See the caveats in the documentation: http://pandas.pydata.org/pandas-docs/stable/indexing.html#indexing-view-versus-copy\n",
      "  self._update_inplace(new_data)\n"
     ]
    }
   ],
   "source": [
    "\n",
    "#We replace values based on insights gathered from graphs generated in further steps\n",
    "X_categorical[\"Airline\"].replace(to_replace={'Multiple carriers Premium economy':'Other', \n",
    "                                                        'Jet Airways Business':'Other',\n",
    "                                                        'Vistara Premium economy':'Other',\n",
    "                                                        'Trujet':'Other'\n",
    "                                                   },    \n",
    "                                        inplace=True)\n",
    "\n",
    "X_to_predict_categorical[\"Airline\"].replace(to_replace={'Multiple carriers Premium economy':'Other', \n",
    "                                                        'Jet Airways Business':'Other',\n",
    "                                                        'Vistara Premium economy':'Other',\n",
    "                                                        'Trujet':'Other'\n",
    "                                                   },    \n",
    "                                        inplace=True)"
   ]
  },
  {
   "cell_type": "code",
   "execution_count": 38,
   "metadata": {},
   "outputs": [
    {
     "name": "stderr",
     "output_type": "stream",
     "text": [
      "C:\\Users\\inshn\\AppData\\Local\\Continuum\\anaconda3\\lib\\site-packages\\pandas\\core\\generic.py:4619: SettingWithCopyWarning: \n",
      "A value is trying to be set on a copy of a slice from a DataFrame\n",
      "\n",
      "See the caveats in the documentation: http://pandas.pydata.org/pandas-docs/stable/indexing.html#indexing-view-versus-copy\n",
      "  self._update_inplace(new_data)\n"
     ]
    }
   ],
   "source": [
    "\n",
    "#We replace values based on insights gathered from graphs generated in further steps\n",
    "X_categorical[\"Additional_Info\"].replace(['Change airports' ,\n",
    "                                                        'Business class',\n",
    "                                                        '1 Short layover',\n",
    "                                                        'Red-eye flight',\n",
    "                                                        '2 Long layover' ] ,['other','other','other','other','other']\n",
    "                                                   ,    \n",
    "                                        inplace=True)\n",
    "X_to_predict_categorical[\"Additional_Info\"].replace(to_replace={'Change airports':'Other', \n",
    "                                                        'Business class':'Other',\n",
    "                                                        '1 Short layover':'Other',\n",
    "                                                        'Red-eye flight':'Other',\n",
    "                                                        '2 Long layover':'Other',   \n",
    "                                                   },    \n",
    "                                        inplace=True)"
   ]
  },
  {
   "cell_type": "code",
   "execution_count": 39,
   "metadata": {},
   "outputs": [
    {
     "data": {
      "text/plain": [
       "No info                         8182\n",
       "In-flight meal not included     1926\n",
       "No check-in baggage included     318\n",
       "1 Long layover                    19\n",
       "other                             14\n",
       "No Info                            3\n",
       "Name: Additional_Info, dtype: int64"
      ]
     },
     "execution_count": 39,
     "metadata": {},
     "output_type": "execute_result"
    }
   ],
   "source": [
    "X_categorical[\"Additional_Info\"].value_counts()"
   ]
  },
  {
   "cell_type": "code",
   "execution_count": 40,
   "metadata": {
    "scrolled": false
   },
   "outputs": [
    {
     "data": {
      "text/plain": [
       "Index(['Airline', 'Source', 'Destination', 'Route', 'Additional_Info',\n",
       "       'dayname_of_week'],\n",
       "      dtype='object')"
      ]
     },
     "execution_count": 40,
     "metadata": {},
     "output_type": "execute_result"
    }
   ],
   "source": [
    "X_categorical.columns"
   ]
  },
  {
   "cell_type": "code",
   "execution_count": 41,
   "metadata": {},
   "outputs": [
    {
     "data": {
      "text/plain": [
       "Index(['Airline', 'Source', 'Destination', 'Route', 'Additional_Info',\n",
       "       'dayname_of_week'],\n",
       "      dtype='object')"
      ]
     },
     "execution_count": 41,
     "metadata": {},
     "output_type": "execute_result"
    }
   ],
   "source": [
    "X_to_predict_categorical.columns"
   ]
  },
  {
   "cell_type": "code",
   "execution_count": 42,
   "metadata": {},
   "outputs": [
    {
     "data": {
      "text/html": [
       "<div>\n",
       "<style scoped>\n",
       "    .dataframe tbody tr th:only-of-type {\n",
       "        vertical-align: middle;\n",
       "    }\n",
       "\n",
       "    .dataframe tbody tr th {\n",
       "        vertical-align: top;\n",
       "    }\n",
       "\n",
       "    .dataframe thead th {\n",
       "        text-align: right;\n",
       "    }\n",
       "</style>\n",
       "<table border=\"1\" class=\"dataframe\">\n",
       "  <thead>\n",
       "    <tr style=\"text-align: right;\">\n",
       "      <th></th>\n",
       "      <th>Airline</th>\n",
       "      <th>Source</th>\n",
       "      <th>Destination</th>\n",
       "      <th>Route</th>\n",
       "      <th>Additional_Info</th>\n",
       "      <th>dayname_of_week</th>\n",
       "    </tr>\n",
       "  </thead>\n",
       "  <tbody>\n",
       "    <tr>\n",
       "      <th>0</th>\n",
       "      <td>IndiGo</td>\n",
       "      <td>Banglore</td>\n",
       "      <td>New Delhi</td>\n",
       "      <td>BLR → DEL</td>\n",
       "      <td>No info</td>\n",
       "      <td>Sunday</td>\n",
       "    </tr>\n",
       "    <tr>\n",
       "      <th>1</th>\n",
       "      <td>Air India</td>\n",
       "      <td>Kolkata</td>\n",
       "      <td>Banglore</td>\n",
       "      <td>CCU → IXR → BBI → BLR</td>\n",
       "      <td>No info</td>\n",
       "      <td>Wednesday</td>\n",
       "    </tr>\n",
       "    <tr>\n",
       "      <th>2</th>\n",
       "      <td>Jet Airways</td>\n",
       "      <td>Delhi</td>\n",
       "      <td>Cochin</td>\n",
       "      <td>DEL → LKO → BOM → COK</td>\n",
       "      <td>No info</td>\n",
       "      <td>Sunday</td>\n",
       "    </tr>\n",
       "    <tr>\n",
       "      <th>3</th>\n",
       "      <td>IndiGo</td>\n",
       "      <td>Kolkata</td>\n",
       "      <td>Banglore</td>\n",
       "      <td>CCU → NAG → BLR</td>\n",
       "      <td>No info</td>\n",
       "      <td>Sunday</td>\n",
       "    </tr>\n",
       "    <tr>\n",
       "      <th>4</th>\n",
       "      <td>IndiGo</td>\n",
       "      <td>Banglore</td>\n",
       "      <td>New Delhi</td>\n",
       "      <td>BLR → NAG → DEL</td>\n",
       "      <td>No info</td>\n",
       "      <td>Friday</td>\n",
       "    </tr>\n",
       "  </tbody>\n",
       "</table>\n",
       "</div>"
      ],
      "text/plain": [
       "       Airline    Source Destination                  Route Additional_Info  \\\n",
       "0       IndiGo  Banglore   New Delhi              BLR → DEL         No info   \n",
       "1    Air India   Kolkata    Banglore  CCU → IXR → BBI → BLR         No info   \n",
       "2  Jet Airways     Delhi      Cochin  DEL → LKO → BOM → COK         No info   \n",
       "3       IndiGo   Kolkata    Banglore        CCU → NAG → BLR         No info   \n",
       "4       IndiGo  Banglore   New Delhi        BLR → NAG → DEL         No info   \n",
       "\n",
       "  dayname_of_week  \n",
       "0          Sunday  \n",
       "1       Wednesday  \n",
       "2          Sunday  \n",
       "3          Sunday  \n",
       "4          Friday  "
      ]
     },
     "execution_count": 42,
     "metadata": {},
     "output_type": "execute_result"
    }
   ],
   "source": [
    "X_categorical.head()"
   ]
  },
  {
   "cell_type": "code",
   "execution_count": 43,
   "metadata": {},
   "outputs": [],
   "source": [
    "#Label encode and hot encode categorical columns\n",
    "from sklearn.preprocessing import LabelEncoder\n",
    "le = LabelEncoder()\n",
    "X_categorical = X_categorical.apply(le.fit_transform)\n",
    "X_to_predict_categorical = X_to_predict_categorical.apply(le.fit_transform)"
   ]
  },
  {
   "cell_type": "code",
   "execution_count": 44,
   "metadata": {},
   "outputs": [
    {
     "data": {
      "text/html": [
       "<div>\n",
       "<style scoped>\n",
       "    .dataframe tbody tr th:only-of-type {\n",
       "        vertical-align: middle;\n",
       "    }\n",
       "\n",
       "    .dataframe tbody tr th {\n",
       "        vertical-align: top;\n",
       "    }\n",
       "\n",
       "    .dataframe thead th {\n",
       "        text-align: right;\n",
       "    }\n",
       "</style>\n",
       "<table border=\"1\" class=\"dataframe\">\n",
       "  <thead>\n",
       "    <tr style=\"text-align: right;\">\n",
       "      <th></th>\n",
       "      <th>Airline</th>\n",
       "      <th>Source</th>\n",
       "      <th>Destination</th>\n",
       "      <th>Route</th>\n",
       "      <th>Additional_Info</th>\n",
       "      <th>dayname_of_week</th>\n",
       "    </tr>\n",
       "  </thead>\n",
       "  <tbody>\n",
       "    <tr>\n",
       "      <th>0</th>\n",
       "      <td>3</td>\n",
       "      <td>0</td>\n",
       "      <td>5</td>\n",
       "      <td>18</td>\n",
       "      <td>4</td>\n",
       "      <td>3</td>\n",
       "    </tr>\n",
       "    <tr>\n",
       "      <th>1</th>\n",
       "      <td>1</td>\n",
       "      <td>3</td>\n",
       "      <td>0</td>\n",
       "      <td>84</td>\n",
       "      <td>4</td>\n",
       "      <td>6</td>\n",
       "    </tr>\n",
       "    <tr>\n",
       "      <th>2</th>\n",
       "      <td>4</td>\n",
       "      <td>2</td>\n",
       "      <td>1</td>\n",
       "      <td>118</td>\n",
       "      <td>4</td>\n",
       "      <td>3</td>\n",
       "    </tr>\n",
       "    <tr>\n",
       "      <th>3</th>\n",
       "      <td>3</td>\n",
       "      <td>3</td>\n",
       "      <td>0</td>\n",
       "      <td>91</td>\n",
       "      <td>4</td>\n",
       "      <td>3</td>\n",
       "    </tr>\n",
       "    <tr>\n",
       "      <th>4</th>\n",
       "      <td>3</td>\n",
       "      <td>0</td>\n",
       "      <td>5</td>\n",
       "      <td>29</td>\n",
       "      <td>4</td>\n",
       "      <td>0</td>\n",
       "    </tr>\n",
       "  </tbody>\n",
       "</table>\n",
       "</div>"
      ],
      "text/plain": [
       "   Airline  Source  Destination  Route  Additional_Info  dayname_of_week\n",
       "0        3       0            5     18                4                3\n",
       "1        1       3            0     84                4                6\n",
       "2        4       2            1    118                4                3\n",
       "3        3       3            0     91                4                3\n",
       "4        3       0            5     29                4                0"
      ]
     },
     "execution_count": 44,
     "metadata": {},
     "output_type": "execute_result"
    }
   ],
   "source": [
    "X_categorical.head()"
   ]
  },
  {
   "cell_type": "code",
   "execution_count": 45,
   "metadata": {},
   "outputs": [
    {
     "data": {
      "text/html": [
       "<div>\n",
       "<style scoped>\n",
       "    .dataframe tbody tr th:only-of-type {\n",
       "        vertical-align: middle;\n",
       "    }\n",
       "\n",
       "    .dataframe tbody tr th {\n",
       "        vertical-align: top;\n",
       "    }\n",
       "\n",
       "    .dataframe thead th {\n",
       "        text-align: right;\n",
       "    }\n",
       "</style>\n",
       "<table border=\"1\" class=\"dataframe\">\n",
       "  <thead>\n",
       "    <tr style=\"text-align: right;\">\n",
       "      <th></th>\n",
       "      <th>Airline</th>\n",
       "      <th>Source</th>\n",
       "      <th>Destination</th>\n",
       "      <th>Route</th>\n",
       "      <th>Additional_Info</th>\n",
       "      <th>dayname_of_week</th>\n",
       "    </tr>\n",
       "  </thead>\n",
       "  <tbody>\n",
       "    <tr>\n",
       "      <th>0</th>\n",
       "      <td>4</td>\n",
       "      <td>2</td>\n",
       "      <td>1</td>\n",
       "      <td>76</td>\n",
       "      <td>3</td>\n",
       "      <td>4</td>\n",
       "    </tr>\n",
       "    <tr>\n",
       "      <th>1</th>\n",
       "      <td>3</td>\n",
       "      <td>3</td>\n",
       "      <td>0</td>\n",
       "      <td>65</td>\n",
       "      <td>3</td>\n",
       "      <td>3</td>\n",
       "    </tr>\n",
       "    <tr>\n",
       "      <th>2</th>\n",
       "      <td>4</td>\n",
       "      <td>2</td>\n",
       "      <td>1</td>\n",
       "      <td>76</td>\n",
       "      <td>1</td>\n",
       "      <td>5</td>\n",
       "    </tr>\n",
       "    <tr>\n",
       "      <th>3</th>\n",
       "      <td>5</td>\n",
       "      <td>2</td>\n",
       "      <td>1</td>\n",
       "      <td>76</td>\n",
       "      <td>3</td>\n",
       "      <td>5</td>\n",
       "    </tr>\n",
       "    <tr>\n",
       "      <th>4</th>\n",
       "      <td>0</td>\n",
       "      <td>0</td>\n",
       "      <td>2</td>\n",
       "      <td>16</td>\n",
       "      <td>3</td>\n",
       "      <td>1</td>\n",
       "    </tr>\n",
       "  </tbody>\n",
       "</table>\n",
       "</div>"
      ],
      "text/plain": [
       "   Airline  Source  Destination  Route  Additional_Info  dayname_of_week\n",
       "0        4       2            1     76                3                4\n",
       "1        3       3            0     65                3                3\n",
       "2        4       2            1     76                1                5\n",
       "3        5       2            1     76                3                5\n",
       "4        0       0            2     16                3                1"
      ]
     },
     "execution_count": 45,
     "metadata": {},
     "output_type": "execute_result"
    }
   ],
   "source": [
    "X_to_predict_categorical.head()"
   ]
  },
  {
   "cell_type": "code",
   "execution_count": 46,
   "metadata": {},
   "outputs": [
    {
     "data": {
      "text/plain": [
       "(10462, 10)"
      ]
     },
     "execution_count": 46,
     "metadata": {},
     "output_type": "execute_result"
    }
   ],
   "source": [
    "X_numerical.head()\n",
    "X_numerical.shape\n"
   ]
  },
  {
   "cell_type": "code",
   "execution_count": 47,
   "metadata": {},
   "outputs": [
    {
     "data": {
      "text/plain": [
       "(2671, 10)"
      ]
     },
     "execution_count": 47,
     "metadata": {},
     "output_type": "execute_result"
    }
   ],
   "source": [
    "X_to_predict_numerical.head()\n",
    "X_to_predict_numerical.shape"
   ]
  },
  {
   "cell_type": "code",
   "execution_count": 48,
   "metadata": {},
   "outputs": [
    {
     "name": "stdout",
     "output_type": "stream",
     "text": [
      "\n",
      "Skew in numerical features: \n",
      "\n",
      "There are 10 skewed numerical features to Box Cox transform\n"
     ]
    }
   ],
   "source": [
    "# Check the skew of all numerical features\n",
    "from scipy.stats import skew\n",
    "skewed_feats = X_numerical.apply(lambda x: skew(x.dropna())).sort_values(ascending=False)\n",
    "print(\"\\nSkew in numerical features: \\n\")\n",
    "skewness = pd.DataFrame({'Skew' :skewed_feats})\n",
    "skewness.head(10)\n",
    "skewness = skewness[abs(skewness) > 0.75]\n",
    "print(\"There are {} skewed numerical features to Box Cox transform\".format(skewness.shape[0]))"
   ]
  },
  {
   "cell_type": "code",
   "execution_count": 49,
   "metadata": {},
   "outputs": [],
   "source": [
    "from sklearn.preprocessing import StandardScaler\n",
    "from sklearn.preprocessing import MinMaxScaler\n",
    "cols_train = list(X_numerical.columns)\n",
    "index_train = X_numerical.index.tolist()\n",
    "cols_test = list(X_to_predict_numerical.columns)\n",
    "index_test = X_to_predict_numerical.index.tolist()"
   ]
  },
  {
   "cell_type": "code",
   "execution_count": 50,
   "metadata": {},
   "outputs": [],
   "source": [
    "# We can also use standard scaler if required...The code is commented for now\n",
    "# Get column names first\n",
    "X_numerical_names = X_numerical.columns\n",
    "X_numerical_index = X_numerical.index\n",
    "X_to_predict_numerical_names = X_to_predict_numerical.columns"
   ]
  },
  {
   "cell_type": "code",
   "execution_count": 51,
   "metadata": {},
   "outputs": [
    {
     "name": "stderr",
     "output_type": "stream",
     "text": [
      "C:\\Users\\inshn\\AppData\\Local\\Continuum\\anaconda3\\lib\\site-packages\\ipykernel_launcher.py:6: SettingWithCopyWarning: \n",
      "A value is trying to be set on a copy of a slice from a DataFrame.\n",
      "Try using .loc[row_indexer,col_indexer] = value instead\n",
      "\n",
      "See the caveats in the documentation: http://pandas.pydata.org/pandas-docs/stable/indexing.html#indexing-view-versus-copy\n",
      "  \n",
      "C:\\Users\\inshn\\AppData\\Local\\Continuum\\anaconda3\\lib\\site-packages\\ipykernel_launcher.py:7: SettingWithCopyWarning: \n",
      "A value is trying to be set on a copy of a slice from a DataFrame.\n",
      "Try using .loc[row_indexer,col_indexer] = value instead\n",
      "\n",
      "See the caveats in the documentation: http://pandas.pydata.org/pandas-docs/stable/indexing.html#indexing-view-versus-copy\n",
      "  import sys\n"
     ]
    }
   ],
   "source": [
    "from scipy.special import boxcox1p\n",
    "skewed_features = skewness.index\n",
    "lam = 0.5\n",
    "for feat in skewed_features:\n",
    "    #all_data[feat] += 1\n",
    "    X_numerical[feat] = boxcox1p(X_numerical[feat], lam)\n",
    "    X_to_predict_numerical[feat] = boxcox1p(X_to_predict_numerical[feat], lam)"
   ]
  },
  {
   "cell_type": "code",
   "execution_count": 52,
   "metadata": {},
   "outputs": [
    {
     "data": {
      "text/html": [
       "<div>\n",
       "<style scoped>\n",
       "    .dataframe tbody tr th:only-of-type {\n",
       "        vertical-align: middle;\n",
       "    }\n",
       "\n",
       "    .dataframe tbody tr th {\n",
       "        vertical-align: top;\n",
       "    }\n",
       "\n",
       "    .dataframe thead th {\n",
       "        text-align: right;\n",
       "    }\n",
       "</style>\n",
       "<table border=\"1\" class=\"dataframe\">\n",
       "  <thead>\n",
       "    <tr style=\"text-align: right;\">\n",
       "      <th></th>\n",
       "      <th>Total_Stops</th>\n",
       "      <th>is_weekend</th>\n",
       "      <th>day_of_Journey</th>\n",
       "      <th>Month_of_Journey</th>\n",
       "      <th>Duration_minutes</th>\n",
       "      <th>Duration_seconds</th>\n",
       "      <th>dep_time_Hour</th>\n",
       "      <th>dep_time_Min</th>\n",
       "      <th>Arr_time_Hour</th>\n",
       "      <th>Arr_time_Min</th>\n",
       "    </tr>\n",
       "  </thead>\n",
       "  <tbody>\n",
       "    <tr>\n",
       "      <th>0</th>\n",
       "      <td>0.000000</td>\n",
       "      <td>0.828427</td>\n",
       "      <td>8.000000</td>\n",
       "      <td>2.000000</td>\n",
       "      <td>24.153394</td>\n",
       "      <td>200.000000</td>\n",
       "      <td>7.591663</td>\n",
       "      <td>7.165151</td>\n",
       "      <td>0.828427</td>\n",
       "      <td>4.633250</td>\n",
       "    </tr>\n",
       "    <tr>\n",
       "      <th>1</th>\n",
       "      <td>1.464102</td>\n",
       "      <td>0.000000</td>\n",
       "      <td>0.828427</td>\n",
       "      <td>2.898979</td>\n",
       "      <td>40.237424</td>\n",
       "      <td>324.808813</td>\n",
       "      <td>2.898979</td>\n",
       "      <td>12.282857</td>\n",
       "      <td>5.483315</td>\n",
       "      <td>6.000000</td>\n",
       "    </tr>\n",
       "    <tr>\n",
       "      <th>2</th>\n",
       "      <td>1.464102</td>\n",
       "      <td>0.828427</td>\n",
       "      <td>4.324555</td>\n",
       "      <td>3.291503</td>\n",
       "      <td>65.557383</td>\n",
       "      <td>521.071697</td>\n",
       "      <td>4.324555</td>\n",
       "      <td>8.198039</td>\n",
       "      <td>2.472136</td>\n",
       "      <td>8.198039</td>\n",
       "    </tr>\n",
       "    <tr>\n",
       "      <th>3</th>\n",
       "      <td>0.828427</td>\n",
       "      <td>0.828427</td>\n",
       "      <td>5.211103</td>\n",
       "      <td>2.898979</td>\n",
       "      <td>34.110940</td>\n",
       "      <td>277.291962</td>\n",
       "      <td>6.717798</td>\n",
       "      <td>2.898979</td>\n",
       "      <td>7.797959</td>\n",
       "      <td>9.135529</td>\n",
       "    </tr>\n",
       "    <tr>\n",
       "      <th>4</th>\n",
       "      <td>0.828427</td>\n",
       "      <td>0.000000</td>\n",
       "      <td>0.828427</td>\n",
       "      <td>2.000000</td>\n",
       "      <td>31.823069</td>\n",
       "      <td>259.541584</td>\n",
       "      <td>6.246211</td>\n",
       "      <td>12.282857</td>\n",
       "      <td>7.380832</td>\n",
       "      <td>10.000000</td>\n",
       "    </tr>\n",
       "  </tbody>\n",
       "</table>\n",
       "</div>"
      ],
      "text/plain": [
       "   Total_Stops  is_weekend  day_of_Journey  Month_of_Journey  \\\n",
       "0     0.000000    0.828427        8.000000          2.000000   \n",
       "1     1.464102    0.000000        0.828427          2.898979   \n",
       "2     1.464102    0.828427        4.324555          3.291503   \n",
       "3     0.828427    0.828427        5.211103          2.898979   \n",
       "4     0.828427    0.000000        0.828427          2.000000   \n",
       "\n",
       "   Duration_minutes  Duration_seconds  dep_time_Hour  dep_time_Min  \\\n",
       "0         24.153394        200.000000       7.591663      7.165151   \n",
       "1         40.237424        324.808813       2.898979     12.282857   \n",
       "2         65.557383        521.071697       4.324555      8.198039   \n",
       "3         34.110940        277.291962       6.717798      2.898979   \n",
       "4         31.823069        259.541584       6.246211     12.282857   \n",
       "\n",
       "   Arr_time_Hour  Arr_time_Min  \n",
       "0       0.828427      4.633250  \n",
       "1       5.483315      6.000000  \n",
       "2       2.472136      8.198039  \n",
       "3       7.797959      9.135529  \n",
       "4       7.380832     10.000000  "
      ]
     },
     "execution_count": 52,
     "metadata": {},
     "output_type": "execute_result"
    }
   ],
   "source": [
    "#Check values in numerical columns after minmax scaling\n",
    "X_numerical.head(5)"
   ]
  },
  {
   "cell_type": "code",
   "execution_count": 53,
   "metadata": {},
   "outputs": [],
   "source": [
    "#Merge categorical and numerical columns back into respective X and X_to_predict\n",
    "X= pd.concat([X_numerical,X_categorical],axis=1)\n",
    "X_to_predict= pd.concat([X_to_predict_numerical,X_to_predict_categorical],axis=1)"
   ]
  },
  {
   "cell_type": "code",
   "execution_count": 54,
   "metadata": {},
   "outputs": [
    {
     "data": {
      "text/html": [
       "<div>\n",
       "<style scoped>\n",
       "    .dataframe tbody tr th:only-of-type {\n",
       "        vertical-align: middle;\n",
       "    }\n",
       "\n",
       "    .dataframe tbody tr th {\n",
       "        vertical-align: top;\n",
       "    }\n",
       "\n",
       "    .dataframe thead th {\n",
       "        text-align: right;\n",
       "    }\n",
       "</style>\n",
       "<table border=\"1\" class=\"dataframe\">\n",
       "  <thead>\n",
       "    <tr style=\"text-align: right;\">\n",
       "      <th></th>\n",
       "      <th>Total_Stops</th>\n",
       "      <th>is_weekend</th>\n",
       "      <th>day_of_Journey</th>\n",
       "      <th>Month_of_Journey</th>\n",
       "      <th>Duration_minutes</th>\n",
       "      <th>Duration_seconds</th>\n",
       "      <th>dep_time_Hour</th>\n",
       "      <th>dep_time_Min</th>\n",
       "      <th>Arr_time_Hour</th>\n",
       "      <th>Arr_time_Min</th>\n",
       "      <th>Airline</th>\n",
       "      <th>Source</th>\n",
       "      <th>Destination</th>\n",
       "      <th>Route</th>\n",
       "      <th>Additional_Info</th>\n",
       "      <th>dayname_of_week</th>\n",
       "    </tr>\n",
       "  </thead>\n",
       "  <tbody>\n",
       "    <tr>\n",
       "      <th>0</th>\n",
       "      <td>0.000000</td>\n",
       "      <td>0.828427</td>\n",
       "      <td>8.000000</td>\n",
       "      <td>2.000000</td>\n",
       "      <td>24.153394</td>\n",
       "      <td>200.000000</td>\n",
       "      <td>7.591663</td>\n",
       "      <td>7.165151</td>\n",
       "      <td>0.828427</td>\n",
       "      <td>4.633250</td>\n",
       "      <td>3</td>\n",
       "      <td>0</td>\n",
       "      <td>5</td>\n",
       "      <td>18</td>\n",
       "      <td>4</td>\n",
       "      <td>3</td>\n",
       "    </tr>\n",
       "    <tr>\n",
       "      <th>1</th>\n",
       "      <td>1.464102</td>\n",
       "      <td>0.000000</td>\n",
       "      <td>0.828427</td>\n",
       "      <td>2.898979</td>\n",
       "      <td>40.237424</td>\n",
       "      <td>324.808813</td>\n",
       "      <td>2.898979</td>\n",
       "      <td>12.282857</td>\n",
       "      <td>5.483315</td>\n",
       "      <td>6.000000</td>\n",
       "      <td>1</td>\n",
       "      <td>3</td>\n",
       "      <td>0</td>\n",
       "      <td>84</td>\n",
       "      <td>4</td>\n",
       "      <td>6</td>\n",
       "    </tr>\n",
       "    <tr>\n",
       "      <th>2</th>\n",
       "      <td>1.464102</td>\n",
       "      <td>0.828427</td>\n",
       "      <td>4.324555</td>\n",
       "      <td>3.291503</td>\n",
       "      <td>65.557383</td>\n",
       "      <td>521.071697</td>\n",
       "      <td>4.324555</td>\n",
       "      <td>8.198039</td>\n",
       "      <td>2.472136</td>\n",
       "      <td>8.198039</td>\n",
       "      <td>4</td>\n",
       "      <td>2</td>\n",
       "      <td>1</td>\n",
       "      <td>118</td>\n",
       "      <td>4</td>\n",
       "      <td>3</td>\n",
       "    </tr>\n",
       "    <tr>\n",
       "      <th>3</th>\n",
       "      <td>0.828427</td>\n",
       "      <td>0.828427</td>\n",
       "      <td>5.211103</td>\n",
       "      <td>2.898979</td>\n",
       "      <td>34.110940</td>\n",
       "      <td>277.291962</td>\n",
       "      <td>6.717798</td>\n",
       "      <td>2.898979</td>\n",
       "      <td>7.797959</td>\n",
       "      <td>9.135529</td>\n",
       "      <td>3</td>\n",
       "      <td>3</td>\n",
       "      <td>0</td>\n",
       "      <td>91</td>\n",
       "      <td>4</td>\n",
       "      <td>3</td>\n",
       "    </tr>\n",
       "    <tr>\n",
       "      <th>4</th>\n",
       "      <td>0.828427</td>\n",
       "      <td>0.000000</td>\n",
       "      <td>0.828427</td>\n",
       "      <td>2.000000</td>\n",
       "      <td>31.823069</td>\n",
       "      <td>259.541584</td>\n",
       "      <td>6.246211</td>\n",
       "      <td>12.282857</td>\n",
       "      <td>7.380832</td>\n",
       "      <td>10.000000</td>\n",
       "      <td>3</td>\n",
       "      <td>0</td>\n",
       "      <td>5</td>\n",
       "      <td>29</td>\n",
       "      <td>4</td>\n",
       "      <td>0</td>\n",
       "    </tr>\n",
       "  </tbody>\n",
       "</table>\n",
       "</div>"
      ],
      "text/plain": [
       "   Total_Stops  is_weekend  day_of_Journey  Month_of_Journey  \\\n",
       "0     0.000000    0.828427        8.000000          2.000000   \n",
       "1     1.464102    0.000000        0.828427          2.898979   \n",
       "2     1.464102    0.828427        4.324555          3.291503   \n",
       "3     0.828427    0.828427        5.211103          2.898979   \n",
       "4     0.828427    0.000000        0.828427          2.000000   \n",
       "\n",
       "   Duration_minutes  Duration_seconds  dep_time_Hour  dep_time_Min  \\\n",
       "0         24.153394        200.000000       7.591663      7.165151   \n",
       "1         40.237424        324.808813       2.898979     12.282857   \n",
       "2         65.557383        521.071697       4.324555      8.198039   \n",
       "3         34.110940        277.291962       6.717798      2.898979   \n",
       "4         31.823069        259.541584       6.246211     12.282857   \n",
       "\n",
       "   Arr_time_Hour  Arr_time_Min  Airline  Source  Destination  Route  \\\n",
       "0       0.828427      4.633250        3       0            5     18   \n",
       "1       5.483315      6.000000        1       3            0     84   \n",
       "2       2.472136      8.198039        4       2            1    118   \n",
       "3       7.797959      9.135529        3       3            0     91   \n",
       "4       7.380832     10.000000        3       0            5     29   \n",
       "\n",
       "   Additional_Info  dayname_of_week  \n",
       "0                4                3  \n",
       "1                4                6  \n",
       "2                4                3  \n",
       "3                4                3  \n",
       "4                4                0  "
      ]
     },
     "execution_count": 54,
     "metadata": {},
     "output_type": "execute_result"
    }
   ],
   "source": [
    "X.head()"
   ]
  },
  {
   "cell_type": "code",
   "execution_count": 55,
   "metadata": {
    "scrolled": true
   },
   "outputs": [
    {
     "name": "stdout",
     "output_type": "stream",
     "text": [
      "(10462, 16) (10462, 10) (10462, 6)\n",
      "(2671, 16) (2671, 10) (2671, 6)\n",
      "(10462,)\n"
     ]
    }
   ],
   "source": [
    "#Check shape of all three to verify that merge was done properly in above step\n",
    "print(X.shape, X_numerical.shape, X_categorical.shape)\n",
    "print(X_to_predict.shape, X_to_predict_numerical.shape, X_to_predict_categorical.shape)\n",
    "print(y.shape)"
   ]
  },
  {
   "cell_type": "markdown",
   "metadata": {},
   "source": [
    "## Print accuracy metrics"
   ]
  },
  {
   "cell_type": "code",
   "execution_count": 56,
   "metadata": {},
   "outputs": [],
   "source": [
    "from sklearn.model_selection import train_test_split\n",
    "from sklearn import metrics\n",
    "from sklearn.metrics import mean_squared_log_error\n",
    "# We have created a function to print accuracy metrics which can be used\n",
    "# to get accuracy metrics of all models in upcoming steps\n",
    "def print_accuracy_report(y_test, y_pred,X_test, model):\n",
    " print('R Squared(Accuracy)', metrics.r2_score(y_test, y_pred))   \n",
    " print('Mean Absolute Error:', metrics.mean_absolute_error(y_test, y_pred))  \n",
    " print('Mean Squared Error:', metrics.mean_squared_error(y_test, y_pred))\n",
    " print('Root Mean Squared Error:', np.sqrt(metrics.mean_squared_error(y_test, y_pred)))\n",
    " print('Root Mean Squared Log Error',np.sqrt(mean_squared_log_error( y_test, y_pred )))\n"
   ]
  },
  {
   "cell_type": "markdown",
   "metadata": {},
   "source": [
    "## we have created a function to generate linear regression model\n",
    "# which can then be called again after feature selection or other steps"
   ]
  },
  {
   "cell_type": "code",
   "execution_count": 57,
   "metadata": {},
   "outputs": [],
   "source": [
    "\n",
    "from sklearn.linear_model import LinearRegression\n",
    "from sklearn.metrics import accuracy_score\n",
    "def LinearRegressionModel(X,y):\n",
    " X_train, X_test, y_train, y_test = train_test_split(X, y,random_state=42, test_size=0.3)\n",
    " regressor = LinearRegression()  \n",
    " regressor.fit(X_train, y_train)\n",
    " y_pred = regressor.predict(X_test)\n",
    " print(print_accuracy_report(y_test, y_pred, X_test, regressor))\n",
    " return regressor"
   ]
  },
  {
   "cell_type": "code",
   "execution_count": 58,
   "metadata": {},
   "outputs": [
    {
     "name": "stdout",
     "output_type": "stream",
     "text": [
      "R Squared(Accuracy) 0.6257756982489532\n",
      "Mean Absolute Error: 0.25399721786795876\n",
      "Mean Squared Error: 0.09861484901869362\n",
      "Root Mean Squared Error: 0.3140300129266208\n",
      "Root Mean Squared Log Error 0.031541707158304295\n",
      "None\n"
     ]
    }
   ],
   "source": [
    "\n",
    "linearModel = LinearRegressionModel(X,y)"
   ]
  },
  {
   "cell_type": "code",
   "execution_count": 59,
   "metadata": {},
   "outputs": [
    {
     "name": "stdout",
     "output_type": "stream",
     "text": [
      "R Squared(Accuracy) 0.625145396067998\n",
      "Mean Absolute Error: 0.2542347747467612\n",
      "Mean Squared Error: 0.09878094500476453\n",
      "Root Mean Squared Error: 0.314294360440598\n",
      "Root Mean Squared Log Error 0.031568157329024814\n",
      "None\n"
     ]
    }
   ],
   "source": [
    "# we have created a function to generate linear regression model\n",
    "# which can then be called again after feature selection or other steps\n",
    "from sklearn.linear_model import BayesianRidge\n",
    "from sklearn.metrics import accuracy_score\n",
    "def BayesianRidgeModel(X,y):\n",
    " X_train, X_test, y_train, y_test = train_test_split(X, y,random_state=42, test_size=0.3)\n",
    " regressor = BayesianRidge()  \n",
    " regressor.fit(X_train, y_train)\n",
    " y_pred = regressor.predict(X_test)\n",
    " print(print_accuracy_report(y_test, y_pred, X_test, regressor))\n",
    " return regressor\n",
    "linearModel = BayesianRidgeModel(X,y)"
   ]
  },
  {
   "cell_type": "code",
   "execution_count": 60,
   "metadata": {
    "scrolled": true
   },
   "outputs": [
    {
     "name": "stdout",
     "output_type": "stream",
     "text": [
      "R Squared(Accuracy) 0.9245264462828292\n",
      "Mean Absolute Error: 0.0771508215256869\n",
      "Mean Squared Error: 0.019888641838322934\n",
      "Root Mean Squared Error: 0.1410270961139133\n",
      "Root Mean Squared Log Error 0.01408673093740681\n",
      "None\n"
     ]
    }
   ],
   "source": [
    "#similarly define a function for random forest regressor\n",
    "from sklearn.ensemble import RandomForestRegressor\n",
    "def RandomForestRegressorModel(X,y):\n",
    "    X_train, X_test, y_train, y_test = train_test_split(X, y,random_state=42, test_size=0.3)\n",
    "    rf = RandomForestRegressor(random_state=42)\n",
    "    rf.fit(X_train, y_train)\n",
    "    y_pred = rf.predict(X_test)\n",
    "    print(print_accuracy_report(y_test, y_pred, X_test, rf))\n",
    "    return rf\n",
    "randomForestModel = RandomForestRegressorModel(X,y)"
   ]
  },
  {
   "cell_type": "markdown",
   "metadata": {},
   "source": [
    "## get feature importances from a model2"
   ]
  },
  {
   "cell_type": "code",
   "execution_count": 61,
   "metadata": {},
   "outputs": [],
   "source": [
    "\n",
    "\n",
    "import matplotlib.pyplot as plt\n",
    "def plotFeatureImportances(model):\n",
    "    #first print all features importances in descending order\n",
    "    feature_importances = pd.DataFrame(model.feature_importances_,\n",
    "                                   index = X.columns,\n",
    "                                    columns=['importance']).sort_values('importance',ascending=False)\n",
    "    print(feature_importances)\n",
    "    # Next plot feature importances to get idea about where the curve breaks\n",
    "    # in the graph i.e. select top appropriate features\n",
    "    features = X.columns.tolist()\n",
    "    importances = model.feature_importances_\n",
    "    indices = np.argsort(importances)\n",
    "    plt.title('Feature Importances')\n",
    "    plt.barh(range(len(indices)), importances[indices], color='b', align='center')\n",
    "    plt.yticks(range(len(indices)), [features[i] for i in indices])\n",
    "    plt.xlabel('Relative Importance')\n",
    "    plt.show()"
   ]
  },
  {
   "cell_type": "code",
   "execution_count": 62,
   "metadata": {},
   "outputs": [
    {
     "name": "stdout",
     "output_type": "stream",
     "text": [
      "                  importance\n",
      "Duration_minutes    0.351931\n",
      "Duration_seconds    0.253468\n",
      "Airline             0.094730\n",
      "day_of_Journey      0.048720\n",
      "Additional_Info     0.046884\n",
      "Total_Stops         0.040614\n",
      "Month_of_Journey    0.037043\n",
      "Route               0.022334\n",
      "dep_time_Min        0.016768\n",
      "Destination         0.016676\n",
      "dayname_of_week     0.016266\n",
      "Arr_time_Hour       0.015884\n",
      "dep_time_Hour       0.014273\n",
      "Arr_time_Min        0.013334\n",
      "is_weekend          0.005733\n",
      "Source              0.005342\n"
     ]
    },
    {
     "data": {
      "image/png": "[encoded data removed]",
      "text/plain": [
       "<matplotlib.figure.Figure at 0xd9207f0>"
      ]
     },
     "metadata": {},
     "output_type": "display_data"
    }
   ],
   "source": [
    "plotFeatureImportances(randomForestModel)"
   ]
  },
  {
   "cell_type": "code",
   "execution_count": 63,
   "metadata": {},
   "outputs": [
    {
     "name": "stdout",
     "output_type": "stream",
     "text": [
      "R Squared(Accuracy) 0.9313097750950294\n",
      "Mean Absolute Error: 0.07204976797480589\n",
      "Mean Squared Error: 0.018101112424735326\n",
      "Root Mean Squared Error: 0.13454037470118524\n",
      "Root Mean Squared Log Error 0.013414983995314492\n",
      "None\n"
     ]
    }
   ],
   "source": [
    "# select features using extratreesclassifier\n",
    "from sklearn.ensemble import ExtraTreesRegressor\n",
    "def ExtraTreesRegressorModel(X,y):\n",
    "    X_train, X_test, y_train, y_test = train_test_split(X, y,random_state=42, test_size=0.3)\n",
    "    rf = ExtraTreesRegressor()\n",
    "    rf.fit(X_train, y_train)\n",
    "    y_pred = rf.predict(X_test)\n",
    "    print(print_accuracy_report(y_test, y_pred, X_test, rf))\n",
    "    return rf\n",
    "extraTreeRegressorModel = ExtraTreesRegressorModel(X,y)"
   ]
  },
  {
   "cell_type": "code",
   "execution_count": 64,
   "metadata": {},
   "outputs": [
    {
     "name": "stdout",
     "output_type": "stream",
     "text": [
      "                  importance\n",
      "Total_Stops         0.281243\n",
      "Duration_seconds    0.185776\n",
      "Airline             0.115452\n",
      "Duration_minutes    0.101013\n",
      "Month_of_Journey    0.053460\n",
      "day_of_Journey      0.053076\n",
      "Route               0.041327\n",
      "Additional_Info     0.036187\n",
      "Destination         0.030290\n",
      "Arr_time_Hour       0.018487\n",
      "Source              0.016246\n",
      "dep_time_Hour       0.016015\n",
      "dep_time_Min        0.015051\n",
      "Arr_time_Min        0.013759\n",
      "dayname_of_week     0.012888\n",
      "is_weekend          0.009730\n"
     ]
    },
    {
     "data": {
      "image/png": "[encoded data removed]",
      "text/plain": [
       "<matplotlib.figure.Figure at 0xd9dffd0>"
      ]
     },
     "metadata": {},
     "output_type": "display_data"
    }
   ],
   "source": [
    "plotFeatureImportances(extraTreeRegressorModel)"
   ]
  },
  {
   "cell_type": "code",
   "execution_count": 65,
   "metadata": {},
   "outputs": [
    {
     "name": "stdout",
     "output_type": "stream",
     "text": [
      "R Squared(Accuracy) 0.9208639705719383\n",
      "Mean Absolute Error: 0.10215119802215096\n",
      "Mean Squared Error: 0.020853770205385574\n",
      "Root Mean Squared Error: 0.14440834534536282\n",
      "Root Mean Squared Log Error 0.014457309425048713\n",
      "None\n"
     ]
    }
   ],
   "source": [
    "# select features using XGboost\n",
    "from xgboost import XGBRegressor\n",
    "def XGBRegressorModel(X,y):\n",
    "    X_train, X_test, y_train, y_test = train_test_split(X, y,random_state=42, test_size=0.3)\n",
    "    rf = XGBRegressor(colsample_bytree=0.4603, gamma=0.0468, \n",
    "                             learning_rate=0.05, max_depth=3, \n",
    "                             min_child_weight=1.7817, n_estimators=2200,\n",
    "                             reg_alpha=0.4640, reg_lambda=0.8571,\n",
    "                             subsample=0.5213, silent=1,\n",
    "                             random_state =42, nthread = -1)\n",
    "    rf.fit(X_train, y_train)\n",
    "    y_pred = rf.predict(X_test)\n",
    "    print(print_accuracy_report(y_test, y_pred, X_test, rf))\n",
    "    return rf\n",
    "xgbRegressorModel = XGBRegressorModel(X,y)"
   ]
  },
  {
   "cell_type": "code",
   "execution_count": 66,
   "metadata": {
    "scrolled": false
   },
   "outputs": [
    {
     "name": "stdout",
     "output_type": "stream",
     "text": [
      "                  importance\n",
      "Total_Stops         0.294841\n",
      "Duration_seconds    0.149858\n",
      "Duration_minutes    0.133718\n",
      "Airline             0.078327\n",
      "Source              0.061371\n",
      "Additional_Info     0.054662\n",
      "Destination         0.050032\n",
      "day_of_Journey      0.041423\n",
      "Month_of_Journey    0.032735\n",
      "Route               0.023341\n",
      "dayname_of_week     0.021112\n",
      "is_weekend          0.015541\n",
      "Arr_time_Hour       0.012029\n",
      "dep_time_Hour       0.011319\n",
      "Arr_time_Min        0.010473\n",
      "dep_time_Min        0.009218\n"
     ]
    },
    {
     "data": {
      "image/png": "[encoded data removed]",
      "text/plain": [
       "<matplotlib.figure.Figure at 0xd983940>"
      ]
     },
     "metadata": {},
     "output_type": "display_data"
    }
   ],
   "source": [
    "plotFeatureImportances(xgbRegressorModel)"
   ]
  },
  {
   "cell_type": "markdown",
   "metadata": {},
   "source": [
    "## # select features using XGboost, unsing RandomizedSearchCV, Grid CV"
   ]
  },
  {
   "cell_type": "code",
   "execution_count": 67,
   "metadata": {},
   "outputs": [
    {
     "name": "stdout",
     "output_type": "stream",
     "text": [
      "Fitting 3 folds for each of 1 candidates, totalling 3 fits\n"
     ]
    },
    {
     "name": "stderr",
     "output_type": "stream",
     "text": [
      "[Parallel(n_jobs=8)]: Done   3 out of   3 | elapsed:   15.5s finished\n"
     ]
    },
    {
     "name": "stdout",
     "output_type": "stream",
     "text": [
      "[10:00:14] WARNING: C:/Jenkins/workspace/xgboost-win64_release_0.90/src/objective/regression_obj.cu:152: reg:linear is now deprecated in favor of reg:squarederror.\n",
      "{'reg_alpha': 1e-05}\n",
      "R Squared(Accuracy) 0.9434555938321192\n",
      "Mean Absolute Error: 0.07227447360447059\n",
      "Mean Squared Error: 0.014900470255421234\n",
      "Root Mean Squared Error: 0.12206748238339822\n",
      "Root Mean Squared Log Error 0.012186402927517688\n",
      "None\n"
     ]
    }
   ],
   "source": [
    "from sklearn.model_selection import RandomizedSearchCV\n",
    "from sklearn.model_selection import GridSearchCV\n",
    "from xgboost import XGBRegressor\n",
    "params = {\n",
    "  'reg_alpha':[1e-5]\n",
    "}\n",
    "def XGBoostRegressorModel1(X,y):\n",
    "    X_train, X_test, y_train, y_test = train_test_split(X, y,random_state=42, test_size=0.3)\n",
    "    rf=XGBRegressor(learning_rate =0.1, n_estimators=240,\n",
    "     subsample=0.8, colsample_bytree=0.8,\n",
    "     scale_pos_weight=1, seed=42, max_depth= 10, min_child_weight=5,gamma=0.0, reg_alpha=1e-5)\n",
    "    rf_random = GridSearchCV(estimator = rf, param_grid = params, cv = 3, verbose=2, n_jobs = 8)\n",
    "    rf_random.fit(X_train, y_train)\n",
    "    print(rf_random.best_params_)\n",
    "    y_pred = rf_random.best_estimator_.predict(X_test)\n",
    "    print(print_accuracy_report(y_test, y_pred, X_test, rf_random.best_estimator_))\n",
    "    return rf_random.best_estimator_\n",
    "xgBoostModel1 = XGBoostRegressorModel1(X,y)"
   ]
  },
  {
   "cell_type": "code",
   "execution_count": 68,
   "metadata": {},
   "outputs": [
    {
     "name": "stdout",
     "output_type": "stream",
     "text": [
      "                  importance\n",
      "Total_Stops         0.298466\n",
      "Duration_seconds    0.203562\n",
      "Duration_minutes    0.164399\n",
      "Airline             0.069046\n",
      "Additional_Info     0.058969\n",
      "Destination         0.048480\n",
      "Month_of_Journey    0.030302\n",
      "Route               0.026929\n",
      "day_of_Journey      0.022789\n",
      "Source              0.018352\n",
      "Arr_time_Hour       0.012367\n",
      "dayname_of_week     0.011241\n",
      "dep_time_Hour       0.011116\n",
      "dep_time_Min        0.009331\n",
      "Arr_time_Min        0.008366\n",
      "is_weekend          0.006286\n"
     ]
    },
    {
     "data": {
      "image/png": "[encoded data removed]",
      "text/plain": [
       "<matplotlib.figure.Figure at 0xc0c74a8>"
      ]
     },
     "metadata": {},
     "output_type": "display_data"
    }
   ],
   "source": [
    "#get feature importances from xgbRegressormodel\n",
    "plotFeatureImportances(xgBoostModel1)"
   ]
  },
  {
   "cell_type": "code",
   "execution_count": 69,
   "metadata": {},
   "outputs": [
    {
     "name": "stdout",
     "output_type": "stream",
     "text": [
      "R Squared(Accuracy) 0.9208639705719383\n",
      "Mean Absolute Error: 0.10215119802215096\n",
      "Mean Squared Error: 0.020853770205385574\n",
      "Root Mean Squared Error: 0.14440834534536282\n",
      "Root Mean Squared Log Error 0.014457309425048713\n",
      "None\n"
     ]
    }
   ],
   "source": [
    "# select features using GradientBoostingRegressor\n",
    "\n",
    "from sklearn.ensemble import GradientBoostingRegressor \n",
    "def GradientBoostingRegressorModel(X,y):\n",
    "    X_train, X_test, y_train, y_test = train_test_split(X, y,random_state=42, test_size=0.3)\n",
    "    rf = GradientBoostingRegressor()\n",
    "    rf.fit(X_train, y_train)\n",
    "    y_pred = rf.predict(X_test)\n",
    "    print(print_accuracy_report(y_test, y_pred, X_test, rf))\n",
    "    return rf\n",
    "gradientBoostingRegressorModel = XGBRegressorModel(X,y)"
   ]
  },
  {
   "cell_type": "markdown",
   "metadata": {},
   "source": [
    "## # We can either select features manually from the graphs generated above or\n",
    "# we can use SelectFromModel module from SKlearn to select most appropriate features automatically. \n",
    "# Select_model , to select feature automatically"
   ]
  },
  {
   "cell_type": "code",
   "execution_count": 70,
   "metadata": {},
   "outputs": [],
   "source": [
    "import numpy as np\n",
    "from sklearn.feature_selection import SelectFromModel\n",
    "def SelectFeaturesFromModel (model,X):\n",
    "    sel = SelectFromModel(model, prefit = True)\n",
    "    selected_feat= X.columns[(sel.get_support())]\n",
    "    print(\"Total features selected: \", len(selected_feat))\n",
    "    print(\"Names of selected Features:\\n\", selected_feat)\n",
    "    print(\"\\n\")"
   ]
  },
  {
   "cell_type": "code",
   "execution_count": 71,
   "metadata": {},
   "outputs": [
    {
     "name": "stdout",
     "output_type": "stream",
     "text": [
      "Top selected from random forest regressor:\n",
      "Total features selected:  3\n",
      "Names of selected Features:\n",
      " Index(['Duration_minutes', 'Duration_seconds', 'Airline'], dtype='object')\n",
      "\n",
      "\n",
      "Top selected from extra trees regressor:\n",
      "Total features selected:  4\n",
      "Names of selected Features:\n",
      " Index(['Total_Stops', 'Duration_minutes', 'Duration_seconds', 'Airline'], dtype='object')\n",
      "\n",
      "\n",
      "Top selected from xgboost regressor:\n",
      "Total features selected:  4\n",
      "Names of selected Features:\n",
      " Index(['Total_Stops', 'Duration_minutes', 'Duration_seconds', 'Airline'], dtype='object')\n",
      "\n",
      "\n"
     ]
    }
   ],
   "source": [
    "print(\"Top selected from random forest regressor:\")\n",
    "SelectFeaturesFromModel(randomForestModel,X)\n",
    "\n",
    "print(\"Top selected from extra trees regressor:\")\n",
    "SelectFeaturesFromModel(extraTreeRegressorModel,X)\n",
    "\n",
    "print(\"Top selected from xgboost regressor:\")\n",
    "SelectFeaturesFromModel(xgbRegressorModel,X)"
   ]
  },
  {
   "cell_type": "code",
   "execution_count": 72,
   "metadata": {},
   "outputs": [
    {
     "name": "stdout",
     "output_type": "stream",
     "text": [
      "Top selected from random forest regressor:\n",
      "Total features selected:  2\n",
      "Names of selected Features:\n",
      " Index(['Duration_minutes', 'Duration_seconds'], dtype='object')\n",
      "\n",
      "\n",
      "Top selected from xgboost regressor:\n",
      "Total features selected:  4\n",
      "Names of selected Features:\n",
      " Index(['Total_Stops', 'Duration_minutes', 'Duration_seconds', 'Airline'], dtype='object')\n",
      "\n",
      "\n"
     ]
    }
   ],
   "source": [
    "print(\"Top selected from random forest regressor:\")\n",
    "SelectFeaturesFromModel(linearModel,X)\n",
    "\n",
    "\n",
    "print(\"Top selected from xgboost regressor:\")\n",
    "SelectFeaturesFromModel(xgBoostModel1,X)"
   ]
  },
  {
   "cell_type": "code",
   "execution_count": 73,
   "metadata": {},
   "outputs": [
    {
     "ename": "ModuleNotFoundError",
     "evalue": "No module named 'catboost'",
     "output_type": "error",
     "traceback": [
      "\u001b[1;31m---------------------------------------------------------------------------\u001b[0m",
      "\u001b[1;31mModuleNotFoundError\u001b[0m                       Traceback (most recent call last)",
      "\u001b[1;32m<ipython-input-73-1b3492813584>\u001b[0m in \u001b[0;36m<module>\u001b[1;34m()\u001b[0m\n\u001b[1;32m----> 1\u001b[1;33m \u001b[1;32mfrom\u001b[0m \u001b[0mcatboost\u001b[0m \u001b[1;32mimport\u001b[0m \u001b[0mCatBoostRegressor\u001b[0m\u001b[1;33m\u001b[0m\u001b[0m\n\u001b[0m\u001b[0;32m      2\u001b[0m \u001b[1;32mimport\u001b[0m \u001b[0mcatboost\u001b[0m \u001b[1;32mas\u001b[0m \u001b[0mcb\u001b[0m\u001b[1;33m\u001b[0m\u001b[0m\n\u001b[0;32m      3\u001b[0m \u001b[1;32mfrom\u001b[0m \u001b[0msklearn\u001b[0m\u001b[1;33m.\u001b[0m\u001b[0mmodel_selection\u001b[0m \u001b[1;32mimport\u001b[0m \u001b[0mKFold\u001b[0m\u001b[1;33m\u001b[0m\u001b[0m\n\u001b[0;32m      4\u001b[0m \u001b[1;32mfrom\u001b[0m \u001b[0mparamsearch\u001b[0m \u001b[1;32mimport\u001b[0m \u001b[0mparamsearch\u001b[0m\u001b[1;33m\u001b[0m\u001b[0m\n\u001b[0;32m      5\u001b[0m \u001b[1;32mfrom\u001b[0m \u001b[0mitertools\u001b[0m \u001b[1;32mimport\u001b[0m \u001b[0mproduct\u001b[0m\u001b[1;33m,\u001b[0m\u001b[0mchain\u001b[0m\u001b[1;33m\u001b[0m\u001b[0m\n",
      "\u001b[1;31mModuleNotFoundError\u001b[0m: No module named 'catboost'"
     ]
    }
   ],
   "source": [
    "from catboost import CatBoostRegressor\n",
    "import catboost as cb\n",
    "from sklearn.model_selection import KFold\n",
    "from paramsearch import paramsearch\n",
    "from itertools import product,chain\n",
    "from sklearn.model_selection import RandomizedSearchCV\n",
    "from sklearn.model_selection import GridSearchCV\n",
    "# 'iterations':[250,100,500,1000,2000],\n",
    "#           'learning_rate':[0.03,0.001,0.01,0.1,0.2,0.3], \n",
    "#           'l2_leaf_reg':[3,1,5,10,100],\n",
    "#           'border_count':[32,5,10,20,50,100,200]\n",
    "params = {'depth':[3,1,2,6,4,5,7,8,9,10],}\n",
    "\n",
    "def CBRModel(X,y):\n",
    "    X_train, X_test, y_train, y_test = train_test_split(X, y,random_state=42, test_size=0.3)\n",
    "    rf=CatBoostRegressor()\n",
    "    rf_random = GridSearchCV(estimator = rf, param_grid = params, cv = 3, verbose=2, n_jobs = 8)\n",
    "    rf_random.fit(X_train, y_train)\n",
    "    print(rf_random.best_params_)\n",
    "    y_pred = rf_random.best_estimator_.predict(X_test)\n",
    "    print(rf_random.best_params_)\n",
    "    print(print_accuracy_report(y_test, y_pred, X_test, rf_random.best_estimator_))\n",
    "    return rf_random.best_estimator_\n",
    "cegbRressorModel = CBRModel(X,y)"
   ]
  },
  {
   "cell_type": "markdown",
   "metadata": {},
   "source": [
    "## EDA via graph"
   ]
  },
  {
   "cell_type": "code",
   "execution_count": 74,
   "metadata": {
    "scrolled": true
   },
   "outputs": [
    {
     "name": "stdout",
     "output_type": "stream",
     "text": [
      "count    10462.000000\n",
      "mean      9026.790289\n",
      "std       4624.849541\n",
      "min       1759.000000\n",
      "25%       5224.000000\n",
      "50%       8266.000000\n",
      "75%      12344.750000\n",
      "max      79512.000000\n",
      "Name: Price, dtype: float64\n"
     ]
    }
   ],
   "source": [
    "#descriptive statistics summary\n",
    "# Check distribution of Target variable\n",
    "\n",
    "import seaborn as sns\n",
    "#print(df_train.describe())\n",
    "print(df_train['Price'].describe())\n"
   ]
  },
  {
   "cell_type": "code",
   "execution_count": 75,
   "metadata": {},
   "outputs": [
    {
     "name": "stdout",
     "output_type": "stream",
     "text": [
      "Skewness: 1.857490\n",
      "Kurtosis: 13.527896\n"
     ]
    },
    {
     "data": {
      "text/plain": [
       "<matplotlib.axes._subplots.AxesSubplot at 0xfcbcf28>"
      ]
     },
     "execution_count": 75,
     "metadata": {},
     "output_type": "execute_result"
    },
    {
     "data": {
      "image/png": "[encoded data removed]",
      "text/plain": [
       "<matplotlib.figure.Figure at 0xfcbc860>"
      ]
     },
     "metadata": {},
     "output_type": "display_data"
    }
   ],
   "source": [
    "#skewness and kurtosis\n",
    "print(\"Skewness: %f\"  %df_train['Price'].skew())\n",
    "print(\"Kurtosis: %f\"  %df_train['Price'].kurt())\n",
    "sns.distplot(df_train['Price'])"
   ]
  },
  {
   "cell_type": "code",
   "execution_count": 76,
   "metadata": {},
   "outputs": [
    {
     "data": {
      "text/plain": [
       "<matplotlib.axes._subplots.AxesSubplot at 0xd9dfa58>"
      ]
     },
     "execution_count": 76,
     "metadata": {},
     "output_type": "execute_result"
    },
    {
     "data": {
      "image/png": "[encoded data removed]",
      "text/plain": [
       "<matplotlib.figure.Figure at 0xb522c18>"
      ]
     },
     "metadata": {},
     "output_type": "display_data"
    }
   ],
   "source": [
    "# To get normally distributed curve,it is reqired to take log transform of target variable\n",
    "from scipy.stats import skew, norm\n",
    "sns.distplot(np.log1p(df_train['Price']),fit=norm)\n"
   ]
  },
  {
   "cell_type": "code",
   "execution_count": 77,
   "metadata": {},
   "outputs": [
    {
     "data": {
      "image/png": "[encoded data removed]",
      "text/plain": [
       "<matplotlib.figure.Figure at 0xb88d588>"
      ]
     },
     "metadata": {},
     "output_type": "display_data"
    }
   ],
   "source": [
    "# SCatter plot between duration_minute Vs Price\n",
    "var = 'Duration_minutes'\n",
    "data = pd.concat([df_train['Price'], df_train[var]], axis=1)\n",
    "data.plot.scatter(x=var, y='Price', ylim=(0,90000));"
   ]
  },
  {
   "cell_type": "code",
   "execution_count": 78,
   "metadata": {},
   "outputs": [
    {
     "data": {
      "image/png": "[encoded data removed]",
      "text/plain": [
       "<matplotlib.figure.Figure at 0xb8db3c8>"
      ]
     },
     "metadata": {},
     "output_type": "display_data"
    }
   ],
   "source": [
    "#scatter plot Day_Of_Journey/Price\n",
    "var1 = 'day_of_Journey'\n",
    "data1 = pd.concat([df_train['Price'], df_train[var1]], axis=1)\n",
    "data1.plot.scatter(x=var1, y='Price', ylim=(0,90000));"
   ]
  },
  {
   "cell_type": "code",
   "execution_count": 79,
   "metadata": {},
   "outputs": [
    {
     "data": {
      "image/png": "[encoded data removed]",
      "text/plain": [
       "<matplotlib.figure.Figure at 0xfd17898>"
      ]
     },
     "metadata": {},
     "output_type": "display_data"
    }
   ],
   "source": [
    "#box plot Airline/Price\n",
    "var = 'Airline'\n",
    "data = pd.concat([df_train['Price'], df_train[var]], axis=1)\n",
    "f, ax = plt.subplots(figsize=(18, 14))\n",
    "fig = sns.boxplot(x=var, y=\"Price\", data=data)\n",
    "plt.xticks(fontsize=10, rotation=80)\n",
    "fig.axis(ymin=0, ymax=90000);"
   ]
  },
  {
   "cell_type": "code",
   "execution_count": 80,
   "metadata": {},
   "outputs": [
    {
     "data": {
      "text/plain": [
       "<matplotlib.axes._subplots.AxesSubplot at 0xfea2b38>"
      ]
     },
     "execution_count": 80,
     "metadata": {},
     "output_type": "execute_result"
    },
    {
     "data": {
      "image/png": "[encoded data removed]",
      "text/plain": [
       "<matplotlib.figure.Figure at 0xfd4e080>"
      ]
     },
     "metadata": {},
     "output_type": "display_data"
    }
   ],
   "source": [
    "#Frequency distribution of different airlines in above dataset\n",
    "carrier_count=df_train['Airline'].value_counts()\n",
    "carrier_count.plot('bar')\n"
   ]
  },
  {
   "cell_type": "markdown",
   "metadata": {},
   "source": [
    "## Insights : Jetairways as highest number in above graph, indicates that most travelleres prefer Jet airways\n",
    "# where last four airway in graph have no values, indicates that no travelleres prefer these airways.\n",
    "# So The last four flights can be clubbed into single category of \"other flights\" for improving accuracy of model"
   ]
  },
  {
   "cell_type": "code",
   "execution_count": 81,
   "metadata": {},
   "outputs": [],
   "source": [
    "#Variation of price against total number of stops:-"
   ]
  },
  {
   "cell_type": "code",
   "execution_count": 82,
   "metadata": {},
   "outputs": [
    {
     "data": {
      "text/plain": [
       "Text(0.5,1,'Total_stop Vs Price')"
      ]
     },
     "execution_count": 82,
     "metadata": {},
     "output_type": "execute_result"
    },
    {
     "data": {
      "image/png": "[encoded data removed]",
      "text/plain": [
       "<matplotlib.figure.Figure at 0xfebc4a8>"
      ]
     },
     "metadata": {},
     "output_type": "display_data"
    }
   ],
   "source": [
    "from matplotlib.pyplot import figure\n",
    "sns.set_style(style=\"darkgrid\")\n",
    "figure(figsize=(10,5))\n",
    "sns.barplot(x='Total_Stops',y='Price',data=df_train,palette='Blues_d')\n",
    "plt.title('Total_stop Vs Price')"
   ]
  },
  {
   "cell_type": "markdown",
   "metadata": {},
   "source": [
    "## Insight from graph, As no.of Tot_stop increases , price also increases\n",
    "As expected price of flight tickets is higher for flights with greater number of stops"
   ]
  },
  {
   "cell_type": "code",
   "execution_count": 83,
   "metadata": {},
   "outputs": [],
   "source": [
    "#Variation of price against Airlines:-"
   ]
  },
  {
   "cell_type": "code",
   "execution_count": 84,
   "metadata": {},
   "outputs": [
    {
     "data": {
      "text/plain": [
       "(array([ 0,  1,  2,  3,  4,  5,  6,  7,  8,  9, 10, 11]),\n",
       " <a list of 12 Text xticklabel objects>)"
      ]
     },
     "execution_count": 84,
     "metadata": {},
     "output_type": "execute_result"
    },
    {
     "data": {
      "image/png": "[encoded data removed]",
      "text/plain": [
       "<matplotlib.figure.Figure at 0xff845f8>"
      ]
     },
     "metadata": {},
     "output_type": "display_data"
    }
   ],
   "source": [
    "sns.set_style(style=\"darkgrid\")\n",
    "figure(figsize=(10,5))\n",
    "sns.barplot(y='Price',x='Airline',data=df_train,palette='Blues_d')\n",
    "plt.title('Airline Vs Price')\n",
    "plt.xticks(fontsize=10,rotation=80)"
   ]
  },
  {
   "cell_type": "markdown",
   "metadata": {},
   "source": [
    "## Insight:- Jet airways business ticket is most expensive"
   ]
  },
  {
   "cell_type": "code",
   "execution_count": 85,
   "metadata": {},
   "outputs": [
    {
     "data": {
      "text/plain": [
       "<matplotlib.axes._subplots.AxesSubplot at 0xb8e64e0>"
      ]
     },
     "execution_count": 85,
     "metadata": {},
     "output_type": "execute_result"
    },
    {
     "data": {
      "image/png": "[encoded data removed]",
      "text/plain": [
       "<matplotlib.figure.Figure at 0xb8126d8>"
      ]
     },
     "metadata": {},
     "output_type": "display_data"
    }
   ],
   "source": [
    "#Frequency distribution of weekday of airline journey\n",
    "\n",
    "df_train['Additional_Info'].value_counts().plot('bar')"
   ]
  },
  {
   "cell_type": "code",
   "execution_count": 86,
   "metadata": {},
   "outputs": [],
   "source": [
    "#Insight:-We can combine evening and late eveing into single category for better accuracy"
   ]
  },
  {
   "cell_type": "code",
   "execution_count": 87,
   "metadata": {
    "scrolled": true
   },
   "outputs": [
    {
     "data": {
      "text/plain": [
       "<matplotlib.axes._subplots.AxesSubplot at 0xda81d68>"
      ]
     },
     "execution_count": 87,
     "metadata": {},
     "output_type": "execute_result"
    },
    {
     "data": {
      "image/png": "[encoded data removed]",
      "text/plain": [
       "<matplotlib.figure.Figure at 0xda7be80>"
      ]
     },
     "metadata": {},
     "output_type": "display_data"
    }
   ],
   "source": [
    "import matplotlib.pyplot as plt\n",
    "figure(figsize=(20,20)) \n",
    "X_numerical.boxplot()\n"
   ]
  },
  {
   "cell_type": "code",
   "execution_count": 88,
   "metadata": {},
   "outputs": [
    {
     "data": {
      "text/plain": [
       "array([[<matplotlib.axes._subplots.AxesSubplot object at 0x000000000FD3CC88>,\n",
       "        <matplotlib.axes._subplots.AxesSubplot object at 0x00000000101BDC88>],\n",
       "       [<matplotlib.axes._subplots.AxesSubplot object at 0x00000000101FC320>,\n",
       "        <matplotlib.axes._subplots.AxesSubplot object at 0x000000001021AA20>],\n",
       "       [<matplotlib.axes._subplots.AxesSubplot object at 0x0000000010268EF0>,\n",
       "        <matplotlib.axes._subplots.AxesSubplot object at 0x0000000010268F28>],\n",
       "       [<matplotlib.axes._subplots.AxesSubplot object at 0x00000000102D8630>,\n",
       "        <matplotlib.axes._subplots.AxesSubplot object at 0x00000000103170F0>],\n",
       "       [<matplotlib.axes._subplots.AxesSubplot object at 0x000000001034EC50>,\n",
       "        <matplotlib.axes._subplots.AxesSubplot object at 0x0000000010377CC0>]],\n",
       "      dtype=object)"
      ]
     },
     "execution_count": 88,
     "metadata": {},
     "output_type": "execute_result"
    },
    {
     "data": {
      "image/png": "[encoded data removed]",
      "text/plain": [
       "<matplotlib.figure.Figure at 0x10174da0>"
      ]
     },
     "metadata": {},
     "output_type": "display_data"
    }
   ],
   "source": [
    "X_numerical_graph.hist(bins=15, figsize=(15, 16), layout=(5, 2))"
   ]
  },
  {
   "cell_type": "code",
   "execution_count": 89,
   "metadata": {},
   "outputs": [
    {
     "data": {
      "text/plain": [
       "<matplotlib.axes._subplots.AxesSubplot at 0x10f09518>"
      ]
     },
     "execution_count": 89,
     "metadata": {},
     "output_type": "execute_result"
    },
    {
     "data": {
      "image/png": "[encoded data removed]",
      "text/plain": [
       "<matplotlib.figure.Figure at 0x10286128>"
      ]
     },
     "metadata": {},
     "output_type": "display_data"
    }
   ],
   "source": [
    "sns.distplot(df_train['dep_time_Min'],fit=norm )"
   ]
  },
  {
   "cell_type": "code",
   "execution_count": 90,
   "metadata": {},
   "outputs": [],
   "source": [
    "# TO nornmalise  'dep_time_Min' , need to log transform"
   ]
  },
  {
   "cell_type": "code",
   "execution_count": 91,
   "metadata": {
    "scrolled": true
   },
   "outputs": [
    {
     "data": {
      "text/plain": [
       "<matplotlib.axes._subplots.AxesSubplot at 0x109bcd30>"
      ]
     },
     "execution_count": 91,
     "metadata": {},
     "output_type": "execute_result"
    },
    {
     "data": {
      "image/png": "[encoded data removed]",
      "text/plain": [
       "<matplotlib.figure.Figure at 0x10911fd0>"
      ]
     },
     "metadata": {},
     "output_type": "display_data"
    }
   ],
   "source": [
    "sns.distplot(np.log1p(df_train['dep_time_Min']),fit=norm)"
   ]
  },
  {
   "cell_type": "code",
   "execution_count": 92,
   "metadata": {},
   "outputs": [],
   "source": [
    "# Countplot in seaborn , used to visulise data in bargraph format"
   ]
  },
  {
   "cell_type": "code",
   "execution_count": 93,
   "metadata": {},
   "outputs": [
    {
     "data": {
      "image/png": "[encoded data removed]",
      "text/plain": [
       "<matplotlib.figure.Figure at 0x10989278>"
      ]
     },
     "metadata": {},
     "output_type": "display_data"
    }
   ],
   "source": [
    "fig, ax = plt.subplots(3, 2, figsize=(20, 80))\n",
    "columns = X_categorical_graph.columns.tolist()\n",
    "for variable, subplot in zip(columns,ax.flatten()):\n",
    "    sns.countplot(X_categorical_graph[variable], ax=subplot)\n",
    "    for label in subplot.get_xticklabels():\n",
    "        label.set_rotation(90)\n"
   ]
  },
  {
   "cell_type": "code",
   "execution_count": 94,
   "metadata": {},
   "outputs": [
    {
     "data": {
      "image/png": "[encoded data removed]",
      "text/plain": [
       "<matplotlib.figure.Figure at 0x10d8ae10>"
      ]
     },
     "metadata": {},
     "output_type": "display_data"
    }
   ],
   "source": [
    "\n",
    "#correlation matrix\n",
    "corrmat = df_train.corr()\n",
    "f, ax = plt.subplots(figsize=(12, 9))\n",
    "sns.heatmap(corrmat, vmax=.8, square=True);"
   ]
  },
  {
   "cell_type": "code",
   "execution_count": 95,
   "metadata": {},
   "outputs": [
    {
     "data": {
      "text/plain": [
       "No info                         8182\n",
       "In-flight meal not included     1926\n",
       "No check-in baggage included     318\n",
       "1 Long layover                    19\n",
       "Change airports                    7\n",
       "Business class                     4\n",
       "No Info                            3\n",
       "1 Short layover                    1\n",
       "2 Long layover                     1\n",
       "Red-eye flight                     1\n",
       "Name: Additional_Info, dtype: int64"
      ]
     },
     "execution_count": 95,
     "metadata": {},
     "output_type": "execute_result"
    }
   ],
   "source": [
    "X_categorical_graph[\"Additional_Info\"].value_counts()"
   ]
  },
  {
   "cell_type": "markdown",
   "metadata": {},
   "source": [
    "## After improving accuracy using EDA let do hyperparameter tuning to improve model accuracy\n",
    "\n",
    "#Final Regression Models Optimization using GridSearchCV, RandomizedSearchCV and stacking¶"
   ]
  },
  {
   "cell_type": "code",
   "execution_count": 96,
   "metadata": {},
   "outputs": [
    {
     "name": "stdout",
     "output_type": "stream",
     "text": [
      "{'subsample': 1.0}\n",
      "R Squared(Accuracy) 0.9410035408022333\n",
      "Mean Absolute Error: 0.0715840557083664\n",
      "Mean Squared Error: 0.015546630427800677\n",
      "Root Mean Squared Error: 0.12468612764778877\n",
      "Root Mean Squared Log Error 0.012429448647789646\n",
      "None\n"
     ]
    }
   ],
   "source": [
    "#GradientBoostingRegressor \n",
    "\n",
    "import matplotlib.pylab as plt\n",
    "import numpy as np \n",
    "from sklearn.model_selection import ShuffleSplit, train_test_split \n",
    "from sklearn.ensemble import GradientBoostingRegressor \n",
    "from sklearn.model_selection import GridSearchCV \n",
    "def GridSearchCVGradientBoostingRegressor(X,y):\n",
    "    X_train, X_test, y_train, y_test = train_test_split(X.values, y.values,random_state=42, test_size=0.3)\n",
    "    estimator = GradientBoostingRegressor(random_state=42,n_estimators=800,learning_rate=0.05,max_depth=8)\n",
    "    cv = ShuffleSplit(n_splits=5, random_state=42, test_size=0.3)\n",
    "    param_grid={ \n",
    "                'subsample':[1.0]\n",
    "               } \n",
    "    n_jobs=8\n",
    "    regressor = GridSearchCV(estimator=estimator, cv=cv, param_grid=param_grid, n_jobs=n_jobs)\n",
    "    regressor.fit(X_train, y_train)\n",
    "    y_pred = regressor.best_estimator_.predict(X_test)\n",
    "    print(regressor.best_params_)\n",
    "    print(print_accuracy_report(y_test, y_pred, X_test, regressor.best_estimator_))\n",
    "    return regressor.best_estimator_\n",
    "gradientBoostingModelCV = GridSearchCVGradientBoostingRegressor(X,y)\n"
   ]
  },
  {
   "cell_type": "code",
   "execution_count": 97,
   "metadata": {},
   "outputs": [
    {
     "name": "stdout",
     "output_type": "stream",
     "text": [
      "{'max_features': 'auto', 'n_estimators': 700}\n",
      "R Squared(Accuracy) 0.9332754859379119\n",
      "Mean Absolute Error: 0.0728171026068695\n",
      "Mean Squared Error: 0.01758311218509772\n",
      "Root Mean Squared Error: 0.1326013279914561\n",
      "Root Mean Squared Log Error 0.013217336045425182\n",
      "None\n"
     ]
    }
   ],
   "source": [
    "# RandomForestRegressor\n",
    "\n",
    "import matplotlib.pylab as plt\n",
    "import numpy as np \n",
    "from sklearn.decomposition import PCA \n",
    "from sklearn.model_selection import ShuffleSplit, train_test_split \n",
    "from sklearn.ensemble import RandomForestRegressor \n",
    "from sklearn.model_selection import GridSearchCV \n",
    "def GridSearchCVRandomForestRegressor(X,y):\n",
    "    X_train, X_test, y_train, y_test = train_test_split(X, y,random_state=42, test_size=0.3)\n",
    "    estimator = RandomForestRegressor()\n",
    "    cv = ShuffleSplit(n_splits=5, random_state=42, test_size=0.3)\n",
    "    estimator = RandomForestRegressor()\n",
    "    # Create the random grid\n",
    "    param_grid = { \n",
    "    'n_estimators': [10, 18, 22, 200, 700],\n",
    "    'max_features': ['auto', 'sqrt', 'log2']\n",
    "    }\n",
    "    n_jobs=4\n",
    "    regressor = GridSearchCV(estimator=estimator, cv=cv, param_grid=param_grid, n_jobs=n_jobs)\n",
    "    regressor.fit(X_train, y_train)\n",
    "    y_pred = regressor.best_estimator_.predict(X_test)\n",
    "    print(regressor.best_params_)\n",
    "    print(print_accuracy_report(y_test, y_pred, X_test, regressor.best_estimator_))\n",
    "    return regressor.best_estimator_\n",
    "randomForestRegressorModel = GridSearchCVRandomForestRegressor(X,y)"
   ]
  },
  {
   "cell_type": "code",
   "execution_count": 98,
   "metadata": {},
   "outputs": [
    {
     "name": "stdout",
     "output_type": "stream",
     "text": [
      "{'min_samples_split': 10}\n",
      "R Squared(Accuracy) 0.9379019953509018\n",
      "Mean Absolute Error: 0.07424722824981592\n",
      "Mean Squared Error: 0.016363943560530197\n",
      "Root Mean Squared Error: 0.12792163054202443\n",
      "Root Mean Squared Log Error 0.01279823180144021\n",
      "None\n"
     ]
    }
   ],
   "source": [
    "# \n",
    "\n",
    "import matplotlib.pylab as plt\n",
    "import numpy as np \n",
    "from sklearn.decomposition import PCA \n",
    "from sklearn.model_selection import ShuffleSplit, train_test_split \n",
    "from sklearn.ensemble import ExtraTreesRegressor \n",
    "from sklearn.model_selection import GridSearchCV \n",
    "def GridSearchCVExtraTreesRegressor(X,y):\n",
    "    X_train, X_test, y_train, y_test = train_test_split(X, y,random_state=42, test_size=0.3)\n",
    "    estimator = ExtraTreesRegressor()\n",
    "    cv = ShuffleSplit(n_splits=5, random_state=42, test_size=0.3)\n",
    "    estimator = ExtraTreesRegressor(random_state=42, n_estimators=900, max_depth=18)\n",
    "    # Create the random grid\n",
    "    param_grid = { \n",
    "    'min_samples_split':range(10,100,5)\n",
    "    }\n",
    "    n_jobs=8\n",
    "    regressor = GridSearchCV(estimator=estimator, cv=cv, param_grid=param_grid, n_jobs=n_jobs)\n",
    "    regressor.fit(X_train, y_train)\n",
    "    y_pred = regressor.best_estimator_.predict(X_test)\n",
    "    print(regressor.best_params_)\n",
    "    print(print_accuracy_report(y_test, y_pred, X_test, regressor.best_estimator_))\n",
    "    return regressor.best_estimator_\n",
    "extraTreesRegressorModelCV = GridSearchCVExtraTreesRegressor(X,y)\n"
   ]
  },
  {
   "cell_type": "code",
   "execution_count": 100,
   "metadata": {},
   "outputs": [
    {
     "ename": "ValueError",
     "evalue": "The total space of parameters 2 is smaller than n_iter=10. For exhaustive searches, use GridSearchCV.",
     "output_type": "error",
     "traceback": [
      "\u001b[1;31m---------------------------------------------------------------------------\u001b[0m",
      "\u001b[1;31mValueError\u001b[0m                                Traceback (most recent call last)",
      "\u001b[1;32m<ipython-input-100-68346fba6d8b>\u001b[0m in \u001b[0;36m<module>\u001b[1;34m()\u001b[0m\n\u001b[0;32m     36\u001b[0m     \u001b[0mprint\u001b[0m\u001b[1;33m(\u001b[0m\u001b[0mprint_accuracy_report\u001b[0m\u001b[1;33m(\u001b[0m\u001b[0my_test\u001b[0m\u001b[1;33m,\u001b[0m \u001b[0my_pred\u001b[0m\u001b[1;33m,\u001b[0m \u001b[0mX_test\u001b[0m\u001b[1;33m,\u001b[0m \u001b[0metr_random\u001b[0m\u001b[1;33m.\u001b[0m\u001b[0mbest_estimator_\u001b[0m\u001b[1;33m)\u001b[0m\u001b[1;33m)\u001b[0m\u001b[1;33m\u001b[0m\u001b[0m\n\u001b[0;32m     37\u001b[0m     \u001b[1;32mreturn\u001b[0m \u001b[0metr_random\u001b[0m\u001b[1;33m.\u001b[0m\u001b[0mbest_estimator_\u001b[0m\u001b[1;33m\u001b[0m\u001b[0m\n\u001b[1;32m---> 38\u001b[1;33m \u001b[0mextraTreesRegressorModelRSCV\u001b[0m \u001b[1;33m=\u001b[0m \u001b[0mRandomizedSearchCVExtraTreesRegressor\u001b[0m\u001b[1;33m(\u001b[0m\u001b[0mX\u001b[0m\u001b[1;33m,\u001b[0m\u001b[0my\u001b[0m\u001b[1;33m)\u001b[0m\u001b[1;33m\u001b[0m\u001b[0m\n\u001b[0m",
      "\u001b[1;32m<ipython-input-100-68346fba6d8b>\u001b[0m in \u001b[0;36mRandomizedSearchCVExtraTreesRegressor\u001b[1;34m(X, y)\u001b[0m\n\u001b[0;32m     31\u001b[0m     \u001b[0mn_jobs\u001b[0m\u001b[1;33m=\u001b[0m\u001b[1;36m8\u001b[0m\u001b[1;33m\u001b[0m\u001b[0m\n\u001b[0;32m     32\u001b[0m     \u001b[0metr_random\u001b[0m \u001b[1;33m=\u001b[0m \u001b[0mRandomizedSearchCV\u001b[0m\u001b[1;33m(\u001b[0m\u001b[0mestimator\u001b[0m \u001b[1;33m=\u001b[0m \u001b[0mestimator\u001b[0m\u001b[1;33m,\u001b[0m \u001b[0mparam_distributions\u001b[0m \u001b[1;33m=\u001b[0m \u001b[0mrandom_grid\u001b[0m\u001b[1;33m,\u001b[0m \u001b[0mcv\u001b[0m \u001b[1;33m=\u001b[0m \u001b[0mcv\u001b[0m\u001b[1;33m,\u001b[0m \u001b[0mverbose\u001b[0m\u001b[1;33m=\u001b[0m\u001b[1;36m2\u001b[0m\u001b[1;33m,\u001b[0m \u001b[0mrandom_state\u001b[0m\u001b[1;33m=\u001b[0m\u001b[1;36m42\u001b[0m\u001b[1;33m,\u001b[0m \u001b[0mn_jobs\u001b[0m \u001b[1;33m=\u001b[0m \u001b[1;36m8\u001b[0m\u001b[1;33m)\u001b[0m\u001b[1;33m\u001b[0m\u001b[0m\n\u001b[1;32m---> 33\u001b[1;33m     \u001b[0metr_random\u001b[0m\u001b[1;33m.\u001b[0m\u001b[0mfit\u001b[0m\u001b[1;33m(\u001b[0m\u001b[0mX_train\u001b[0m\u001b[1;33m,\u001b[0m \u001b[0my_train\u001b[0m\u001b[1;33m)\u001b[0m\u001b[1;33m\u001b[0m\u001b[0m\n\u001b[0m\u001b[0;32m     34\u001b[0m     \u001b[0my_pred\u001b[0m \u001b[1;33m=\u001b[0m \u001b[0metr_random\u001b[0m\u001b[1;33m.\u001b[0m\u001b[0mbest_estimator_\u001b[0m\u001b[1;33m.\u001b[0m\u001b[0mpredict\u001b[0m\u001b[1;33m(\u001b[0m\u001b[0mX_test\u001b[0m\u001b[1;33m)\u001b[0m\u001b[1;33m\u001b[0m\u001b[0m\n\u001b[0;32m     35\u001b[0m     \u001b[0mprint\u001b[0m\u001b[1;33m(\u001b[0m\u001b[0metr_random\u001b[0m\u001b[1;33m.\u001b[0m\u001b[0mbest_params_\u001b[0m\u001b[1;33m)\u001b[0m\u001b[1;33m\u001b[0m\u001b[0m\n",
      "\u001b[1;32m~\\AppData\\Local\\Continuum\\anaconda3\\lib\\site-packages\\sklearn\\model_selection\\_search.py\u001b[0m in \u001b[0;36mfit\u001b[1;34m(self, X, y, groups, **fit_params)\u001b[0m\n\u001b[0;32m    616\u001b[0m         \u001b[0mn_splits\u001b[0m \u001b[1;33m=\u001b[0m \u001b[0mcv\u001b[0m\u001b[1;33m.\u001b[0m\u001b[0mget_n_splits\u001b[0m\u001b[1;33m(\u001b[0m\u001b[0mX\u001b[0m\u001b[1;33m,\u001b[0m \u001b[0my\u001b[0m\u001b[1;33m,\u001b[0m \u001b[0mgroups\u001b[0m\u001b[1;33m)\u001b[0m\u001b[1;33m\u001b[0m\u001b[0m\n\u001b[0;32m    617\u001b[0m         \u001b[1;31m# Regenerate parameter iterable for each fit\u001b[0m\u001b[1;33m\u001b[0m\u001b[1;33m\u001b[0m\u001b[0m\n\u001b[1;32m--> 618\u001b[1;33m         \u001b[0mcandidate_params\u001b[0m \u001b[1;33m=\u001b[0m \u001b[0mlist\u001b[0m\u001b[1;33m(\u001b[0m\u001b[0mself\u001b[0m\u001b[1;33m.\u001b[0m\u001b[0m_get_param_iterator\u001b[0m\u001b[1;33m(\u001b[0m\u001b[1;33m)\u001b[0m\u001b[1;33m)\u001b[0m\u001b[1;33m\u001b[0m\u001b[0m\n\u001b[0m\u001b[0;32m    619\u001b[0m         \u001b[0mn_candidates\u001b[0m \u001b[1;33m=\u001b[0m \u001b[0mlen\u001b[0m\u001b[1;33m(\u001b[0m\u001b[0mcandidate_params\u001b[0m\u001b[1;33m)\u001b[0m\u001b[1;33m\u001b[0m\u001b[0m\n\u001b[0;32m    620\u001b[0m         \u001b[1;32mif\u001b[0m \u001b[0mself\u001b[0m\u001b[1;33m.\u001b[0m\u001b[0mverbose\u001b[0m \u001b[1;33m>\u001b[0m \u001b[1;36m0\u001b[0m\u001b[1;33m:\u001b[0m\u001b[1;33m\u001b[0m\u001b[0m\n",
      "\u001b[1;32m~\\AppData\\Local\\Continuum\\anaconda3\\lib\\site-packages\\sklearn\\model_selection\\_search.py\u001b[0m in \u001b[0;36m__iter__\u001b[1;34m(self)\u001b[0m\n\u001b[0;32m    248\u001b[0m                     \u001b[1;34m\"The total space of parameters %d is smaller \"\u001b[0m\u001b[1;33m\u001b[0m\u001b[0m\n\u001b[0;32m    249\u001b[0m                     \u001b[1;34m\"than n_iter=%d. For exhaustive searches, use \"\u001b[0m\u001b[1;33m\u001b[0m\u001b[0m\n\u001b[1;32m--> 250\u001b[1;33m                     \"GridSearchCV.\" % (grid_size, self.n_iter))\n\u001b[0m\u001b[0;32m    251\u001b[0m             for i in sample_without_replacement(grid_size, self.n_iter,\n\u001b[0;32m    252\u001b[0m                                                 random_state=rnd):\n",
      "\u001b[1;31mValueError\u001b[0m: The total space of parameters 2 is smaller than n_iter=10. For exhaustive searches, use GridSearchCV."
     ]
    }
   ],
   "source": [
    "\n",
    "\n",
    "from sklearn.model_selection import RandomizedSearchCV\n",
    "from sklearn.ensemble import ExtraTreesRegressor \n",
    "from sklearn.model_selection import ShuffleSplit, train_test_split \n",
    "\n",
    "# Number of trees in random forest\n",
    "n_estimators = [int(x) for x in np.linspace(start = 10, stop = 900, num = 15)]\n",
    "# Number of features to consider at every split\n",
    "max_features = ['auto']\n",
    "# Maximum number of levels in tree\n",
    "# max_depth = [int(x) for x in np.linspace(10, 110, num = 11)]\n",
    "# max_depth.append(None)\n",
    "# Minimum number of samples required to split a node\n",
    "min_samples_split = [2, 5, 10]\n",
    "# Minimum number of samples required at each leaf node\n",
    "min_samples_leaf = [1,5,10,50,100,200,500]    \n",
    "# Method of selecting samples for training each tree\n",
    "bootstrap = [True, False]\n",
    "oob_score = [True, False]\n",
    "# Create the random grid\n",
    "random_grid = {'bootstrap':bootstrap}\n",
    "# Random search of parameters, using 3 fold cross validation, \n",
    "# search across 100 different combinations, and use all available cores\n",
    "# Fit the random search model\n",
    "\n",
    "def RandomizedSearchCVExtraTreesRegressor(X,y):\n",
    "    X_train, X_test, y_train, y_test = train_test_split(X, y,random_state=42, test_size=0.3)\n",
    "    estimator = ExtraTreesRegressor(random_state=42, n_estimators=1100, max_depth=18,min_samples_split=2,min_samples_leaf=1,max_features ='auto')\n",
    "    cv = ShuffleSplit(n_splits=5, random_state=42, test_size=0.3)\n",
    "    n_jobs=8\n",
    "    etr_random = RandomizedSearchCV(estimator = estimator, param_distributions = random_grid, cv = cv, verbose=2, random_state=42, n_jobs = 8)\n",
    "    etr_random.fit(X_train, y_train)\n",
    "    y_pred = etr_random.best_estimator_.predict(X_test)\n",
    "    print(etr_random.best_params_)\n",
    "    print(print_accuracy_report(y_test, y_pred, X_test, etr_random.best_estimator_))\n",
    "    return etr_random.best_estimator_\n",
    "extraTreesRegressorModelRSCV = RandomizedSearchCVExtraTreesRegressor(X,y)"
   ]
  },
  {
   "cell_type": "markdown",
   "metadata": {},
   "source": [
    "## generate FinalPredictionFile(extraTreesRegressorModelRSCV)\n",
    "# StackingAveragedModels"
   ]
  },
  {
   "cell_type": "code",
   "execution_count": 101,
   "metadata": {},
   "outputs": [],
   "source": [
    "from sklearn.linear_model import ElasticNet, Lasso,  BayesianRidge, LassoLarsIC\n",
    "from sklearn.ensemble import RandomForestRegressor,  GradientBoostingRegressor\n",
    "from sklearn.kernel_ridge import KernelRidge\n",
    "from sklearn.pipeline import make_pipeline\n",
    "from sklearn.preprocessing import RobustScaler\n",
    "from sklearn.base import BaseEstimator, TransformerMixin, RegressorMixin, clone\n",
    "from sklearn.model_selection import KFold, cross_val_score, train_test_split\n",
    "from sklearn.metrics import mean_squared_error\n",
    "import xgboost as xgb\n",
    "import lightgbm as lgb\n",
    "\n",
    "#Validation function\n",
    "n_folds = 5\n",
    "X_train, X_test, y_train, y_test = train_test_split(X.values, y.values,random_state=42, test_size=0.3)\n",
    "   \n",
    "def rmsle_cv(model):\n",
    "    kf = KFold(n_folds, shuffle=True, random_state=42).get_n_splits(X_train)\n",
    "    rmse= np.sqrt(-cross_val_score(model, X_train, y_train, scoring=\"neg_mean_squared_error\", cv = kf))\n",
    "    return(rmse)\n",
    "\n",
    "lasso = make_pipeline(RobustScaler(), Lasso(alpha =0.0005, random_state=1))\n",
    "ENet = make_pipeline(RobustScaler(), ElasticNet(alpha=0.0005, l1_ratio=.9, random_state=3))\n",
    "KRR = KernelRidge(alpha=0.6, kernel='polynomial', degree=2, coef0=2.5)\n",
    "GBoost = GradientBoostingRegressor(n_estimators=3000, learning_rate=0.05,\n",
    "                                   max_depth=4, max_features='sqrt',\n",
    "                                   min_samples_leaf=15, min_samples_split=10, \n",
    "                                   loss='huber', random_state =5)\n",
    "\n",
    "class StackingAveragedModels(BaseEstimator, RegressorMixin, TransformerMixin):\n",
    "    def __init__(self, base_models, meta_model, n_folds=5):\n",
    "        self.base_models = base_models\n",
    "        self.meta_model = meta_model\n",
    "        self.n_folds = n_folds\n",
    "   \n",
    "    # We again fit the data on clones of the original models\n",
    "    def fit(self, X, y):\n",
    "        self.base_models_ = [list() for x in self.base_models]\n",
    "        self.meta_model_ = clone(self.meta_model)\n",
    "        kfold = KFold(n_splits=self.n_folds, shuffle=True, random_state=156)\n",
    "        \n",
    "        # Train cloned base models then create out-of-fold predictions\n",
    "        # that are needed to train the cloned meta-model\n",
    "        out_of_fold_predictions = np.zeros((X.shape[0], len(self.base_models)))\n",
    "        for i, model in enumerate(self.base_models):\n",
    "            for train_index, holdout_index in kfold.split(X, y):\n",
    "                instance = clone(model)\n",
    "                self.base_models_[i].append(instance)\n",
    "                instance.fit(X[train_index], y[train_index])\n",
    "                y_pred = instance.predict(X[holdout_index])\n",
    "                out_of_fold_predictions[holdout_index, i] = y_pred\n",
    "                \n",
    "        # Now train the cloned  meta-model using the out-of-fold predictions as new feature\n",
    "        self.meta_model_.fit(out_of_fold_predictions, y)\n",
    "        return self\n",
    "   \n",
    "    #Do the predictions of all base models on the test data and use the averaged predictions as \n",
    "    #meta-features for the final prediction which is done by the meta-model\n",
    "    def predict(self, X):\n",
    "        meta_features = np.column_stack([\n",
    "            np.column_stack([model.predict(X) for model in base_models]).mean(axis=1)\n",
    "            for base_models in self.base_models_ ])\n",
    "        return self.meta_model_.predict(meta_features)\n",
    "stacked_averaged_models = StackingAveragedModels(base_models = (extraTreesRegressorModelCV, randomForestRegressorModel, xgBoostModel1),\n",
    "                                                 meta_model = lasso)\n"
   ]
  },
  {
   "cell_type": "code",
   "execution_count": 102,
   "metadata": {
    "scrolled": true
   },
   "outputs": [
    {
     "name": "stdout",
     "output_type": "stream",
     "text": [
      "[10:24:13] WARNING: C:/Jenkins/workspace/xgboost-win64_release_0.90/src/objective/regression_obj.cu:152: reg:linear is now deprecated in favor of reg:squarederror.\n",
      "[10:24:17] WARNING: C:/Jenkins/workspace/xgboost-win64_release_0.90/src/objective/regression_obj.cu:152: reg:linear is now deprecated in favor of reg:squarederror.\n",
      "[10:24:21] WARNING: C:/Jenkins/workspace/xgboost-win64_release_0.90/src/objective/regression_obj.cu:152: reg:linear is now deprecated in favor of reg:squarederror.\n",
      "[10:24:26] WARNING: C:/Jenkins/workspace/xgboost-win64_release_0.90/src/objective/regression_obj.cu:152: reg:linear is now deprecated in favor of reg:squarederror.\n",
      "[10:24:30] WARNING: C:/Jenkins/workspace/xgboost-win64_release_0.90/src/objective/regression_obj.cu:152: reg:linear is now deprecated in favor of reg:squarederror.\n",
      "R Squared(Accuracy) 0.9450881334633218\n",
      "Mean Absolute Error: 0.07142560851759167\n",
      "Mean Squared Error: 0.01447026663557407\n",
      "Root Mean Squared Error: 0.12029242135552044\n",
      "Root Mean Squared Log Error 0.012019145095290833\n",
      "None\n"
     ]
    }
   ],
   "source": [
    "stacked_averaged_models.fit(X_train, y_train)\n",
    "y_pred = stacked_averaged_models.predict(X_test)\n",
    "print(print_accuracy_report(y_test, y_pred, X_test, stacked_averaged_models))"
   ]
  },
  {
   "cell_type": "code",
   "execution_count": 107,
   "metadata": {},
   "outputs": [],
   "source": [
    "# final predictions made on test dataset in excel format\n",
    "\n",
    "def generateFinalPredictionFile(model):\n",
    "    y_test_pred = model.predict(X_to_predict.values)\n",
    "    y_test_pred_exp = np.exp(y_test_pred)\n",
    "    print(y_test_pred_exp)\n",
    "    pd.DataFrame(y_test_pred_exp, columns = ['Price']).to_excel(\"Final_Pred.xlsx\", index = False)"
   ]
  },
  {
   "cell_type": "code",
   "execution_count": 108,
   "metadata": {},
   "outputs": [
    {
     "name": "stdout",
     "output_type": "stream",
     "text": [
      "[ 9978.59970852  5750.82760137 11896.69067194 ... 19514.76396587\n",
      " 10440.8001394  10967.31362732]\n"
     ]
    }
   ],
   "source": [
    "generateFinalPredictionFile(stacked_averaged_models)"
   ]
  },
  {
   "cell_type": "code",
   "execution_count": 103,
   "metadata": {},
   "outputs": [],
   "source": [
    "X_to_predict.dropna(inplace=True)"
   ]
  },
  {
   "cell_type": "code",
   "execution_count": 104,
   "metadata": {
    "scrolled": true
   },
   "outputs": [
    {
     "data": {
      "text/plain": [
       "Total_Stops         0\n",
       "is_weekend          0\n",
       "day_of_Journey      0\n",
       "Month_of_Journey    0\n",
       "Duration_minutes    0\n",
       "Duration_seconds    0\n",
       "dep_time_Hour       0\n",
       "dep_time_Min        0\n",
       "Arr_time_Hour       0\n",
       "Arr_time_Min        0\n",
       "Airline             0\n",
       "Source              0\n",
       "Destination         0\n",
       "Route               0\n",
       "Additional_Info     0\n",
       "dayname_of_week     0\n",
       "dtype: int64"
      ]
     },
     "execution_count": 104,
     "metadata": {},
     "output_type": "execute_result"
    }
   ],
   "source": [
    "X_to_predict.isnull().sum()"
   ]
  },
  {
   "cell_type": "code",
   "execution_count": 105,
   "metadata": {},
   "outputs": [
    {
     "data": {
      "text/plain": [
       "(2656, 16)"
      ]
     },
     "execution_count": 105,
     "metadata": {},
     "output_type": "execute_result"
    }
   ],
   "source": [
    "X_to_predict.shape"
   ]
  },
  {
   "cell_type": "code",
   "execution_count": 106,
   "metadata": {},
   "outputs": [
    {
     "data": {
      "text/plain": [
       "(10462, 16)"
      ]
     },
     "execution_count": 106,
     "metadata": {},
     "output_type": "execute_result"
    }
   ],
   "source": [
    "X.shape"
   ]
  },
  {
   "cell_type": "code",
   "execution_count": null,
   "metadata": {},
   "outputs": [],
   "source": [
    "X.isnull().sum()"
   ]
  },
  {
   "cell_type": "code",
   "execution_count": null,
   "metadata": {},
   "outputs": [],
   "source": []
  }
 ],
 "metadata": {
  "kernelspec": {
   "display_name": "Python 3",
   "language": "python",
   "name": "python3"
  },
  "language_info": {
   "codemirror_mode": {
    "name": "ipython",
    "version": 3
   },
   "file_extension": ".py",
   "mimetype": "text/x-python",
   "name": "python",
   "nbconvert_exporter": "python",
   "pygments_lexer": "ipython3",
   "version": "3.6.4"
  }
 },
 "nbformat": 4,
 "nbformat_minor": 2
}
