{
 "cells": [
  {
   "cell_type": "code",
   "execution_count": 1,
   "metadata": {},
   "outputs": [],
   "source": [
    "import pandas as pd\n",
    "import numpy as np\n",
    "from matplotlib import pyplot as plt\n",
    "from sklearn.linear_model import LogisticRegression\n",
    "from sklearn.svm import SVC\n",
    "from sklearn.ensemble import RandomForestClassifier"
   ]
  },
  {
   "cell_type": "code",
   "execution_count": 2,
   "metadata": {},
   "outputs": [],
   "source": [
    "from sklearn.datasets import load_iris"
   ]
  },
  {
   "cell_type": "code",
   "execution_count": 3,
   "metadata": {},
   "outputs": [],
   "source": [
    "df2=load_iris()"
   ]
  },
  {
   "cell_type": "code",
   "execution_count": 5,
   "metadata": {},
   "outputs": [
    {
     "data": {
      "text/plain": [
       "['DESCR', 'data', 'feature_names', 'target', 'target_names']"
      ]
     },
     "execution_count": 5,
     "metadata": {},
     "output_type": "execute_result"
    }
   ],
   "source": [
    "dir(df2)"
   ]
  },
  {
   "cell_type": "code",
   "execution_count": 6,
   "metadata": {},
   "outputs": [
    {
     "data": {
      "text/plain": [
       "(150, 4)"
      ]
     },
     "execution_count": 6,
     "metadata": {},
     "output_type": "execute_result"
    }
   ],
   "source": [
    "df2.data.shape"
   ]
  },
  {
   "cell_type": "code",
   "execution_count": 9,
   "metadata": {},
   "outputs": [],
   "source": [
    "# Split dataset\n",
    "from sklearn.model_selection import train_test_split\n",
    "X_train,X_test,Y_train,Y_test= train_test_split(df2.data,df2.target,test_size = 0.3)"
   ]
  },
  {
   "cell_type": "code",
   "execution_count": 11,
   "metadata": {},
   "outputs": [
    {
     "name": "stdout",
     "output_type": "stream",
     "text": [
      "lenghth of X_train: 105\n",
      "lenghth of X_test: 45\n"
     ]
    }
   ],
   "source": [
    "print('lenghth of X_train:',len(X_train))\n",
    "print('lenghth of X_test:',len(X_test))"
   ]
  },
  {
   "cell_type": "code",
   "execution_count": 12,
   "metadata": {},
   "outputs": [],
   "source": [
    "# define method for test multiple mode\n",
    "def get_score(model,X_train,X_test,Y_train,Y_test):\n",
    "    model.fit(X_train,Y_train)\n",
    "    return(model.score(X_test,Y_test))"
   ]
  },
  {
   "cell_type": "code",
   "execution_count": 13,
   "metadata": {},
   "outputs": [
    {
     "data": {
      "text/plain": [
       "0.9333333333333333"
      ]
     },
     "execution_count": 13,
     "metadata": {},
     "output_type": "execute_result"
    }
   ],
   "source": [
    "# Logistic Regreassion model\n",
    "\n",
    "get_score(LogisticRegression(),X_train,X_test,Y_train,Y_test)"
   ]
  },
  {
   "cell_type": "code",
   "execution_count": 14,
   "metadata": {},
   "outputs": [
    {
     "data": {
      "text/plain": [
       "0.9777777777777777"
      ]
     },
     "execution_count": 14,
     "metadata": {},
     "output_type": "execute_result"
    }
   ],
   "source": [
    "# SVM model\n",
    "get_score(SVC(),X_train,X_test,Y_train,Y_test)"
   ]
  },
  {
   "cell_type": "code",
   "execution_count": 16,
   "metadata": {},
   "outputs": [
    {
     "data": {
      "text/plain": [
       "0.9555555555555556"
      ]
     },
     "execution_count": 16,
     "metadata": {},
     "output_type": "execute_result"
    }
   ],
   "source": [
    "# Randome Forest_model\n",
    "\n",
    "get_score(RandomForestClassifier(n_estimators= 30),X_train,X_test,Y_train,Y_test)"
   ]
  },
  {
   "cell_type": "code",
   "execution_count": 23,
   "metadata": {},
   "outputs": [],
   "source": [
    "# Apply Kfold Cross_validation tech\n",
    "\n",
    "from sklearn.model_selection import StratifiedKFold\n",
    "sk=StratifiedKFold(n_splits=3)\n"
   ]
  },
  {
   "cell_type": "markdown",
   "metadata": {},
   "source": [
    "# cross_val_score function"
   ]
  },
  {
   "cell_type": "code",
   "execution_count": 34,
   "metadata": {},
   "outputs": [
    {
     "name": "stdout",
     "output_type": "stream",
     "text": [
      "[array([0.96078431, 0.92156863, 0.95833333])]\n",
      "Average score of LogisticClass for Iris DS with Kfold = 3: 0.9468954248366014\n"
     ]
    }
   ],
   "source": [
    "\n",
    "from sklearn.model_selection import cross_val_score\n",
    "cf1=[]\n",
    "cf1.append(cross_val_score(LogisticRegression(),df2.data,df2.target))\n",
    "print(cf1)\n",
    "print(\"Average score of LogisticClass for Iris DS with Kfold = 3:\",np.average(cf1))"
   ]
  },
  {
   "cell_type": "code",
   "execution_count": 52,
   "metadata": {},
   "outputs": [
    {
     "name": "stdout",
     "output_type": "stream",
     "text": [
      "[array([1.        , 0.93333333, 1.        , 1.        , 1.        ,\n",
      "       0.93333333, 0.93333333, 1.        , 1.        , 1.        ])]\n",
      "Average score of SVM for Iris DS with Kfold = 3: 0.9800000000000001\n"
     ]
    }
   ],
   "source": [
    "#SVM Model _score\n",
    "cf2=[]\n",
    "cf2.append(cross_val_score(SVC(),df2.data,df2.target,cv=10))  #observes that 'CV'  parameter act as tune \n",
    "#to improve  accuracy of model, CV : no of fold in dataset\n",
    "print(cf2)\n",
    "print(\"Average score of SVM for Iris DS with Kfold = 3:\",np.average(cf2))"
   ]
  },
  {
   "cell_type": "code",
   "execution_count": 53,
   "metadata": {
    "scrolled": true
   },
   "outputs": [
    {
     "name": "stdout",
     "output_type": "stream",
     "text": [
      "[array([1.        , 1.        , 0.88888889, 1.        , 1.        ,\n",
      "       1.        , 0.77777778, 1.        , 1.        , 0.88888889,\n",
      "       1.        , 0.83333333, 1.        , 1.        , 0.83333333,\n",
      "       1.        , 1.        , 1.        , 1.        , 1.        ])]\n",
      "Average score of RFS for Iris DS with Kfold = 3: 0.961111111111111\n"
     ]
    }
   ],
   "source": [
    "#Random forest Model _score\n",
    "cf3=[]\n",
    "cf3.append(cross_val_score(RandomForestClassifier(n_estimators=70),df2.data,df2.target,cv=20))\n",
    "print(cf3)\n",
    "print(\"Average score of RFS for Iris DS with Kfold = 3:\",np.average(cf3))"
   ]
  },
  {
   "cell_type": "markdown",
   "metadata": {},
   "source": [
    "# Observation : Here SVM model provide accuracy of 98% score in IRIS dataset compare to other models"
   ]
  }
 ],
 "metadata": {
  "kernelspec": {
   "display_name": "Python 3",
   "language": "python",
   "name": "python3"
  },
  "language_info": {
   "codemirror_mode": {
    "name": "ipython",
    "version": 3
   },
   "file_extension": ".py",
   "mimetype": "text/x-python",
   "name": "python",
   "nbconvert_exporter": "python",
   "pygments_lexer": "ipython3",
   "version": "3.6.4"
  }
 },
 "nbformat": 4,
 "nbformat_minor": 2
}
