{
 "cells": [
  {
   "cell_type": "code",
   "execution_count": 1,
   "metadata": {},
   "outputs": [
    {
     "name": "stderr",
     "output_type": "stream",
     "text": [
      "C:\\Users\\inshn\\AppData\\Local\\Continuum\\anaconda3\\lib\\importlib\\_bootstrap.py:219: RuntimeWarning: numpy.ufunc size changed, may indicate binary incompatibility. Expected 216, got 192\n",
      "  return f(*args, **kwds)\n",
      "C:\\Users\\inshn\\AppData\\Local\\Continuum\\anaconda3\\lib\\importlib\\_bootstrap.py:219: RuntimeWarning: numpy.ufunc size changed, may indicate binary incompatibility. Expected 216, got 192\n",
      "  return f(*args, **kwds)\n"
     ]
    }
   ],
   "source": [
    "# Import necessary packages\n",
    "from sklearn.preprocessing import LabelBinarizer\n",
    "from sklearn.metrics import classification_report\n",
    "from keras.models import Sequential\n",
    "from keras.layers.convolutional import Conv2D,MaxPooling2D\n",
    "from keras.layers import Dense\n",
    "from keras.layers import Activation, Flatten\n",
    "from keras.datasets import cifar10\n",
    "from keras .optimizers import SGD\n",
    "import matplotlib.pyplot as plt\n",
    "import numpy as np\n",
    "import pandas as pd\n",
    "\n"
   ]
  },
  {
   "cell_type": "markdown",
   "metadata": {},
   "source": [
    "## Total 60,000 Image ( 32*32*3) pixels with Class label of 10 different classes"
   ]
  },
  {
   "cell_type": "code",
   "execution_count": 2,
   "metadata": {},
   "outputs": [],
   "source": [
    "# load the training and testing data, \n",
    "(train_X,train_Y),(test_X,test_Y)=cifar10.load_data()"
   ]
  },
  {
   "cell_type": "code",
   "execution_count": 3,
   "metadata": {
    "scrolled": true
   },
   "outputs": [
    {
     "name": "stdout",
     "output_type": "stream",
     "text": [
      "X_train original shape (50000, 32, 32, 3)\n",
      "Y_train original shape (50000, 1)\n",
      "X_test original shape (10000, 32, 32, 3)\n",
      "Y_test original shape (10000, 1)\n"
     ]
    }
   ],
   "source": [
    "print(\"X_train original shape\",train_X.shape)\n",
    "print(\"Y_train original shape\",train_Y.shape)\n",
    "print(\"X_test original shape\",test_X.shape)\n",
    "print(\"Y_test original shape\",test_Y.shape)"
   ]
  },
  {
   "cell_type": "code",
   "execution_count": 4,
   "metadata": {},
   "outputs": [
    {
     "data": {
      "text/plain": [
       "Text(0.5,1,'[7]')"
      ]
     },
     "execution_count": 4,
     "metadata": {},
     "output_type": "execute_result"
    },
    {
     "data": {
      "image/png": "[encoded data removed]",
      "text/plain": [
       "<matplotlib.figure.Figure at 0x24809000c50>"
      ]
     },
     "metadata": {},
     "output_type": "display_data"
    }
   ],
   "source": [
    "plt.imshow(train_X[12],cmap='gray')\n",
    "plt.title(train_Y[12])"
   ]
  },
  {
   "cell_type": "code",
   "execution_count": null,
   "metadata": {},
   "outputs": [],
   "source": [
    "# # reshape 3D image to 1 D  ( 32*32*3 = 3072)"
   ]
  },
  {
   "cell_type": "code",
   "execution_count": 5,
   "metadata": {},
   "outputs": [],
   "source": [
    "## scale it into the range [0, 1]\n",
    "\n",
    "train_X= train_X/255\n",
    "test_X= test_X/255\n",
    "train_X= train_X.reshape(train_X.shape[0],32,32,3)\n",
    "test_X= test_X.reshape(test_X.shape[0],32,32,3)"
   ]
  },
  {
   "cell_type": "code",
   "execution_count": 6,
   "metadata": {},
   "outputs": [
    {
     "name": "stdout",
     "output_type": "stream",
     "text": [
      "X_test resize shape (50000, 32, 32, 3)\n",
      "Y_test resize shape (10000, 32, 32, 3)\n"
     ]
    }
   ],
   "source": [
    "print(\"X_test resize shape\",train_X.shape)\n",
    "print(\"Y_test resize shape\",test_X.shape)\n"
   ]
  },
  {
   "cell_type": "code",
   "execution_count": 7,
   "metadata": {},
   "outputs": [],
   "source": [
    "# convert the labels from integers to vectors for class labels\n",
    "lb = LabelBinarizer()\n",
    "train_Y=lb.fit_transform(train_Y)\n",
    "test_Y=lb.transform(test_Y)\n"
   ]
  },
  {
   "cell_type": "code",
   "execution_count": 8,
   "metadata": {},
   "outputs": [
    {
     "data": {
      "text/plain": [
       "array([0, 0, 0, 0, 0, 0, 0, 0, 1, 0])"
      ]
     },
     "execution_count": 8,
     "metadata": {},
     "output_type": "execute_result"
    }
   ],
   "source": [
    "test_Y[1]"
   ]
  },
  {
   "cell_type": "code",
   "execution_count": 9,
   "metadata": {},
   "outputs": [],
   "source": [
    "# initialize the label names for the CIFAR-10 dataset\n",
    "labelNames = [\"airplane\", \"automobile\", \"bird\", \"cat\", \"deer\",\n",
    "\"dog\", \"frog\", \"horse\", \"ship\", \"truck\"]"
   ]
  },
  {
   "cell_type": "code",
   "execution_count": null,
   "metadata": {},
   "outputs": [],
   "source": [
    "# Using LeNet Architecture-\n",
    "# Conv-ACT-POOL-CONV-ACT-POOL-FC-ACT-FC-SOFTMAX"
   ]
  },
  {
   "cell_type": "code",
   "execution_count": 15,
   "metadata": {},
   "outputs": [],
   "source": [
    "# define the 3072-1024-512-10 architecture using Keras\n",
    "model = Sequential()\n",
    "model.add(Conv2D(20,(5,5),padding='same',activation='relu',input_shape=(32,32,3)))\n",
    "model.add(MaxPooling2D(2,2))\n",
    "\n",
    "# second set of CONV => RELU => POOL layers\n",
    "model.add(Conv2D(50,(5,5),padding='same',activation='relu'))\n",
    "model.add(MaxPooling2D(2,2))\n",
    "\n",
    "#FC- RELU\n",
    "model.add(Flatten())\n",
    "model.add(Dense(500,activation= 'relu'))\n",
    "\n",
    "# FC-> Softmax\n",
    "model.add(Dense(10,activation='softmax'))\n",
    "\n",
    "\n",
    "\n",
    "\n"
   ]
  },
  {
   "cell_type": "code",
   "execution_count": 16,
   "metadata": {},
   "outputs": [
    {
     "name": "stdout",
     "output_type": "stream",
     "text": [
      "Model: \"sequential_3\"\n",
      "_________________________________________________________________\n",
      "Layer (type)                 Output Shape              Param #   \n",
      "=================================================================\n",
      "conv2d_5 (Conv2D)            (None, 32, 32, 20)        1520      \n",
      "_________________________________________________________________\n",
      "max_pooling2d_5 (MaxPooling2 (None, 16, 16, 20)        0         \n",
      "_________________________________________________________________\n",
      "conv2d_6 (Conv2D)            (None, 16, 16, 50)        25050     \n",
      "_________________________________________________________________\n",
      "max_pooling2d_6 (MaxPooling2 (None, 8, 8, 50)          0         \n",
      "_________________________________________________________________\n",
      "flatten_3 (Flatten)          (None, 3200)              0         \n",
      "_________________________________________________________________\n",
      "dense_4 (Dense)              (None, 500)               1600500   \n",
      "_________________________________________________________________\n",
      "dense_5 (Dense)              (None, 10)                5010      \n",
      "=================================================================\n",
      "Total params: 1,632,080\n",
      "Trainable params: 1,632,080\n",
      "Non-trainable params: 0\n",
      "_________________________________________________________________\n"
     ]
    }
   ],
   "source": [
    "model.summary()"
   ]
  },
  {
   "cell_type": "code",
   "execution_count": 21,
   "metadata": {},
   "outputs": [],
   "source": [
    "# Compile the model\n",
    "opt=SGD(lr=0.01)\n",
    "model.compile( loss=\"categorical_crossentropy\",optimizer=opt,metrics=[\"acc\"])"
   ]
  },
  {
   "cell_type": "code",
   "execution_count": 22,
   "metadata": {},
   "outputs": [
    {
     "name": "stdout",
     "output_type": "stream",
     "text": [
      "train_x shape (40000, 32, 32, 3)\n",
      "val_x shape (10000, 32, 32, 3)\n",
      "train_Y shape (40000, 10)\n",
      "val_y shape (10000, 10)\n"
     ]
    }
   ],
   "source": [
    "# Divide our train data into training and validation (80% - train , 20% validation)\n",
    "\n",
    "size= int(len(train_X)*0.8)\n",
    "Xtrain,Xval= train_X[:size],train_X[size:]\n",
    "Ytrain,Yval= train_Y[:size],train_Y[size:]\n",
    "print(\"train_x shape\",Xtrain.shape)\n",
    "print(\"val_x shape\",Xval.shape)\n",
    "print(\"train_Y shape\",Ytrain.shape)\n",
    "print(\"val_y shape\",Yval.shape)"
   ]
  },
  {
   "cell_type": "code",
   "execution_count": 26,
   "metadata": {},
   "outputs": [
    {
     "name": "stdout",
     "output_type": "stream",
     "text": [
      "Train on 40000 samples, validate on 10000 samples\n",
      "Epoch 1/10\n",
      "40000/40000 [==============================] - 134s 3ms/step - loss: 1.4771 - acc: 0.4769 - val_loss: 1.6637 - val_acc: 0.4221\n",
      "Epoch 2/10\n",
      "40000/40000 [==============================] - 134s 3ms/step - loss: 1.4200 - acc: 0.4993 - val_loss: 1.4447 - val_acc: 0.4853\n",
      "Epoch 3/10\n",
      "40000/40000 [==============================] - 122s 3ms/step - loss: 1.3833 - acc: 0.5102 - val_loss: 1.4261 - val_acc: 0.4867\n",
      "Epoch 4/10\n",
      "40000/40000 [==============================] - 125s 3ms/step - loss: 1.3415 - acc: 0.5299 - val_loss: 1.3692 - val_acc: 0.5150\n",
      "Epoch 5/10\n",
      "40000/40000 [==============================] - 127s 3ms/step - loss: 1.3104 - acc: 0.5372 - val_loss: 1.3803 - val_acc: 0.5191\n",
      "Epoch 6/10\n",
      "40000/40000 [==============================] - 154s 4ms/step - loss: 1.2808 - acc: 0.5482 - val_loss: 1.3287 - val_acc: 0.5403\n",
      "Epoch 7/10\n",
      "40000/40000 [==============================] - 138s 3ms/step - loss: 1.2466 - acc: 0.5594 - val_loss: 1.3857 - val_acc: 0.5161\n",
      "Epoch 8/10\n",
      "40000/40000 [==============================] - 195s 5ms/step - loss: 1.2219 - acc: 0.5701 - val_loss: 1.2921 - val_acc: 0.5561\n",
      "Epoch 9/10\n",
      "40000/40000 [==============================] - 95s 2ms/step - loss: 1.1917 - acc: 0.5814 - val_loss: 1.2779 - val_acc: 0.5521\n",
      "Epoch 10/10\n",
      "40000/40000 [==============================] - 94s 2ms/step - loss: 1.1656 - acc: 0.5923 - val_loss: 1.2505 - val_acc: 0.5691\n"
     ]
    }
   ],
   "source": [
    "# Fit model on train dataset, (Lets train the model)\n",
    "H= model.fit(Xtrain,Ytrain,batch_size=128,epochs= 10,validation_data=(Xval,Yval))"
   ]
  },
  {
   "cell_type": "code",
   "execution_count": 27,
   "metadata": {},
   "outputs": [
    {
     "name": "stdout",
     "output_type": "stream",
     "text": [
      "10000/10000 [==============================] - 10s 975us/step\n",
      "\n",
      "Test accuracy:  0.5636000037193298\n"
     ]
    }
   ],
   "source": [
    "# Evaluate the Keras model\n",
    "score= model.evaluate(test_X,test_Y)\n",
    "print()\n",
    "print('Test accuracy: ', score[1])"
   ]
  },
  {
   "cell_type": "code",
   "execution_count": 31,
   "metadata": {},
   "outputs": [],
   "source": [
    "# Evaluate model\n",
    "# make probability predictions with the model\n",
    "\n",
    "predictions = model.predict(test_X)\n",
    "predictions_class= model.predict_classes(test_X)"
   ]
  },
  {
   "cell_type": "code",
   "execution_count": 32,
   "metadata": {
    "scrolled": true
   },
   "outputs": [
    {
     "data": {
      "text/plain": [
       "array([[5.50418301e-03, 2.52433034e-04, 7.97359720e-02, ...,\n",
       "        1.89205667e-03, 1.16540948e-02, 2.48656579e-04],\n",
       "       [1.01415589e-01, 4.91475046e-01, 1.22160127e-03, ...,\n",
       "        1.38076095e-04, 2.93594927e-01, 1.11113615e-01],\n",
       "       [1.72461033e-01, 1.27481133e-01, 6.68007554e-03, ...,\n",
       "        2.09615529e-02, 4.95494038e-01, 1.58542305e-01],\n",
       "       ...,\n",
       "       [1.82034331e-04, 2.29920879e-05, 1.35210365e-01, ...,\n",
       "        2.60647535e-02, 2.72959587e-04, 2.01018411e-04],\n",
       "       [4.70392555e-02, 1.67116784e-02, 8.93276557e-02, ...,\n",
       "        4.35535908e-02, 1.67226396e-03, 1.29823918e-02],\n",
       "       [3.63760977e-03, 1.80186331e-03, 3.40372659e-02, ...,\n",
       "        7.02948332e-01, 3.85668332e-04, 2.80991523e-03]], dtype=float32)"
      ]
     },
     "execution_count": 32,
     "metadata": {},
     "output_type": "execute_result"
    }
   ],
   "source": [
    "predictions"
   ]
  },
  {
   "cell_type": "code",
   "execution_count": 33,
   "metadata": {},
   "outputs": [
    {
     "data": {
      "text/plain": [
       "array([3, 1, 8, ..., 5, 4, 7], dtype=int64)"
      ]
     },
     "execution_count": 33,
     "metadata": {},
     "output_type": "execute_result"
    }
   ],
   "source": [
    "predictions_class"
   ]
  },
  {
   "cell_type": "code",
   "execution_count": 38,
   "metadata": {},
   "outputs": [
    {
     "data": {
      "text/plain": [
       "array([0, 0, 0, 0, 0, 0, 0, 0, 1, 0])"
      ]
     },
     "execution_count": 38,
     "metadata": {},
     "output_type": "execute_result"
    }
   ],
   "source": [
    "test_Y[1]"
   ]
  },
  {
   "cell_type": "code",
   "execution_count": 34,
   "metadata": {},
   "outputs": [
    {
     "name": "stdout",
     "output_type": "stream",
     "text": [
      "             precision    recall  f1-score   support\n",
      "\n",
      "   airplane       0.63      0.64      0.63      1000\n",
      " automobile       0.78      0.55      0.65      1000\n",
      "       bird       0.47      0.50      0.48      1000\n",
      "        cat       0.35      0.59      0.44      1000\n",
      "       deer       0.50      0.53      0.52      1000\n",
      "        dog       0.61      0.27      0.38      1000\n",
      "       frog       0.61      0.67      0.64      1000\n",
      "      horse       0.62      0.65      0.64      1000\n",
      "       ship       0.66      0.66      0.66      1000\n",
      "      truck       0.66      0.57      0.61      1000\n",
      "\n",
      "avg / total       0.59      0.56      0.56     10000\n",
      "\n"
     ]
    }
   ],
   "source": [
    "# classification report\n",
    "\n",
    "print(classification_report(test_Y.argmax(axis=1),\n",
    "        predictions.argmax(axis=1), target_names=labelNames))"
   ]
  },
  {
   "cell_type": "code",
   "execution_count": 29,
   "metadata": {},
   "outputs": [
    {
     "data": {
      "image/png": "[encoded data removed]",
      "text/plain": [
       "<matplotlib.figure.Figure at 0x2480d776240>"
      ]
     },
     "metadata": {},
     "output_type": "display_data"
    }
   ],
   "source": [
    "plt.plot(H.history['loss'], label='train')\n",
    "plt.plot(H.history['val_loss'], label='val')\n",
    "plt.plot(H.history['acc'], label='train_acc')\n",
    "plt.legend()\n",
    "plt.show()"
   ]
  },
  {
   "cell_type": "code",
   "execution_count": 54,
   "metadata": {},
   "outputs": [],
   "source": [
    "# Moving all predictions, Actuals in List . TO copy in Excel\n",
    "\n",
    "predictions = list(predictions_class)\n",
    "actuals = list(test_Y)\n",
    "sub = pd.DataFrame({'Actual': actuals, 'Predictions': predictions})\n",
    "sub.to_csv('./output_cifar.csv', index=False)\n"
   ]
  },
  {
   "cell_type": "markdown",
   "metadata": {},
   "source": [
    "## Accuracy doesn't improve more than 56% in Lenet \n",
    "# Lets try with VGG Net"
   ]
  },
  {
   "cell_type": "code",
   "execution_count": null,
   "metadata": {},
   "outputs": [],
   "source": []
  }
 ],
 "metadata": {
  "kernelspec": {
   "display_name": "Python 3",
   "language": "python",
   "name": "python3"
  },
  "language_info": {
   "codemirror_mode": {
    "name": "ipython",
    "version": 3
   },
   "file_extension": ".py",
   "mimetype": "text/x-python",
   "name": "python",
   "nbconvert_exporter": "python",
   "pygments_lexer": "ipython3",
   "version": "3.6.4"
  }
 },
 "nbformat": 4,
 "nbformat_minor": 2
}
